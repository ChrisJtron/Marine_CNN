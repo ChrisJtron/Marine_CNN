{
  "nbformat": 4,
  "nbformat_minor": 0,
  "metadata": {
    "colab": {
      "name": "Use_saved_data_for_CNN.ipynb",
      "provenance": [],
      "collapsed_sections": [],
      "machine_shape": "hm",
      "mount_file_id": "1TTUIgdoVBQY5NrvfnpmgHuQ3EGlBbFQt",
      "authorship_tag": "ABX9TyMGec660aOuqE9T6dor7cas"
    },
    "kernelspec": {
      "name": "python3",
      "display_name": "Python 3"
    },
    "language_info": {
      "name": "python"
    },
    "accelerator": "GPU"
  },
  "cells": [
    {
      "cell_type": "markdown",
      "source": [
        "I have augmented the images that I will be classifying.  I created a function to resize, grayscale, and normalize the pixel values of each image.  Then I created a dataframe combining the images with their labels.  This uncovered the fact that about 9,000 of the 50,000 images were mislabeled.  The jpg name of the image could not find a partner jpg name in the labels csv provided. (This raises the question of whether a clustering algorithm could be useful for the unlabeled data.)\n",
        "\n",
        "Using the reduced data set, I split the data into stratified test and validation sets and saved them to disk as numpy arrays. The data started at over 11 Gbs in size which caused RAM issues on my local machine of only 16 Gb RAM. I could load the data but would run out of memory when trying to manipulate it. I solved this by using Google Colab Pro, which provides me with 25 GB of RAM.  This is still not enough to manipulate the data as much as I would like, but I have been working around it by making one change and saving it, then uploading that data to a new notebook with a fresh 25 GB to start.  My final training data is about 9 GB in size.  I may need to augment the images further through rotations and/or larger sizes to get more detail, but that will require even more RAM so I will start with the 9GB set.\n",
        "\n",
        "I have created a base model with 94% training accuracy but only 67% validation accuracy.  The model is overfitting, but it gives me a starting point.\n",
        "\n",
        "Changing leaky Relu to Relu improved validation accuracy to 70%\n",
        "\n",
        "Dense layer neurons from 3,000 to 300 reduced validation accuracy to 69%\n",
        "\n",
        "Reducing layers from 3 to 2 convolutional and pooling reduced validation accuracy to 65%\n",
        "\n",
        "Adding one additional convolutional layer of 256 and pooling layer increased validation accuracy to 74%\n",
        "\n",
        "Adding another additional convolutional layer of 512 and a pooling layer increased validation accuracy to 76%\n",
        "\n",
        "Another convolutional layer of 1024 did not improve accuracy\n",
        "\n",
        "Adding Dropout layers improved accuracy to 79%\n",
        "\n",
        "Dropout layers and increased last 2 pooling filter size to 3X3 increased accuracy to 81%\n",
        "\n",
        "Adding one more convolutional layer 800 neurons with pooling size 2X2 and 0.40 Dropout increased accuracy to 84% \n"
      ],
      "metadata": {
        "id": "QsYh9oc7k7LC"
      }
    },
    {
      "cell_type": "code",
      "execution_count": 1,
      "metadata": {
        "id": "lElzJZ3RKemg"
      },
      "outputs": [],
      "source": [
        "import pandas as pd\n",
        "import numpy as np\n",
        "import matplotlib.pyplot as plt\n",
        "from numpy import asarray\n",
        "import tensorflow as tf\n",
        "from tensorflow import keras"
      ]
    },
    {
      "cell_type": "code",
      "source": [
        "X_train=np.load('drive/MyDrive/X_train_strat.npy')"
      ],
      "metadata": {
        "id": "DEAUNeELMeaG"
      },
      "execution_count": 2,
      "outputs": []
    },
    {
      "cell_type": "code",
      "source": [
        "y_train=np.load('drive/MyDrive/y_train_strat.npy')"
      ],
      "metadata": {
        "id": "GNPlaP3rM5wK"
      },
      "execution_count": 3,
      "outputs": []
    },
    {
      "cell_type": "code",
      "source": [
        "X_val=np.load('drive/MyDrive/X_val_strat.npy')"
      ],
      "metadata": {
        "id": "9X7YELBbidrY"
      },
      "execution_count": 4,
      "outputs": []
    },
    {
      "cell_type": "code",
      "source": [
        "y_val=np.load('drive/MyDrive/y_val_strat.npy')"
      ],
      "metadata": {
        "id": "6eH-O8hdid44"
      },
      "execution_count": 5,
      "outputs": []
    },
    {
      "cell_type": "code",
      "source": [
        "X_train.shape, y_train.shape"
      ],
      "metadata": {
        "colab": {
          "base_uri": "https://localhost:8080/"
        },
        "id": "ei88D6ySNJ83",
        "outputId": "ff0a59d7-f666-414c-e7a2-e33710e9f86e"
      },
      "execution_count": 6,
      "outputs": [
        {
          "output_type": "execute_result",
          "data": {
            "text/plain": [
              "((33089, 150, 200), (33089, 28))"
            ]
          },
          "metadata": {},
          "execution_count": 6
        }
      ]
    },
    {
      "cell_type": "code",
      "source": [
        "## Baseline Model\n",
        "\n",
        "# from tensorflow.keras import layers\n",
        "# from keras.models import Sequential,Input,Model\n",
        "# from keras.layers import Dense, Dropout, Flatten\n",
        "# from keras.layers import Conv2D, MaxPooling2D\n",
        "# from keras.layers.advanced_activations import LeakyReLU\n",
        "\n",
        "# model = keras.models.Sequential()\n",
        "# model.add(Conv2D(32, kernel_size=(3, 3),activation='linear',input_shape=(150,200,1),padding='same'))\n",
        "# model.add(LeakyReLU(alpha=0.1))\n",
        "# model.add(MaxPooling2D((2, 2),padding='same'))\n",
        "# model.add(Conv2D(64, (3, 3), activation='linear',padding='same'))\n",
        "# model.add(LeakyReLU(alpha=0.1))\n",
        "# model.add(MaxPooling2D(pool_size=(2, 2),padding='same'))\n",
        "# model.add(Conv2D(128, (3, 3), activation='linear',padding='same'))\n",
        "# model.add(LeakyReLU(alpha=0.1))                  \n",
        "# model.add(MaxPooling2D(pool_size=(2, 2),padding='same'))\n",
        "# model.add(Flatten())\n",
        "# model.add(Dense(3000, activation='linear'))\n",
        "# model.add(LeakyReLU(alpha=0.1))                  \n",
        "# model.add(Dense(28, activation='softmax'))"
      ],
      "metadata": {
        "id": "EyHCmOTHNM7S"
      },
      "execution_count": null,
      "outputs": []
    },
    {
      "cell_type": "code",
      "source": [
        "## model.compile(optimizer='adam', loss='categorical_crossentropy', metrics=['accuracy'])"
      ],
      "metadata": {
        "id": "wa_pdmR7OBWf"
      },
      "execution_count": null,
      "outputs": []
    },
    {
      "cell_type": "code",
      "source": [
        "## model.fit(X_train, y_train,batch_size=30, epochs=5)"
      ],
      "metadata": {
        "colab": {
          "base_uri": "https://localhost:8080/"
        },
        "id": "cchgS0GzOQat",
        "outputId": "2a4ba25d-89a4-4ed3-e7d1-f399c5abfd51"
      },
      "execution_count": null,
      "outputs": [
        {
          "output_type": "stream",
          "name": "stdout",
          "text": [
            "Epoch 1/5\n",
            "1103/1103 [==============================] - 56s 39ms/step - loss: 1.4638 - accuracy: 0.5738\n",
            "Epoch 2/5\n",
            "1103/1103 [==============================] - 43s 39ms/step - loss: 0.9173 - accuracy: 0.7120\n",
            "Epoch 3/5\n",
            "1103/1103 [==============================] - 44s 39ms/step - loss: 0.5395 - accuracy: 0.8241\n",
            "Epoch 4/5\n",
            "1103/1103 [==============================] - 43s 39ms/step - loss: 0.2643 - accuracy: 0.9122\n",
            "Epoch 5/5\n",
            "1103/1103 [==============================] - 43s 39ms/step - loss: 0.1778 - accuracy: 0.9439\n"
          ]
        },
        {
          "output_type": "execute_result",
          "data": {
            "text/plain": [
              "<keras.callbacks.History at 0x7fee201680d0>"
            ]
          },
          "metadata": {},
          "execution_count": 8
        }
      ]
    },
    {
      "cell_type": "code",
      "source": [
        "##model.evaluate(X_val,y_val)"
      ],
      "metadata": {
        "colab": {
          "base_uri": "https://localhost:8080/"
        },
        "id": "sJXe5380PyzS",
        "outputId": "ee947952-f675-4575-d71e-3f8a9e473774"
      },
      "execution_count": null,
      "outputs": [
        {
          "output_type": "stream",
          "name": "stdout",
          "text": [
            "259/259 [==============================] - 3s 11ms/step - loss: 1.8553 - accuracy: 0.6786\n"
          ]
        },
        {
          "output_type": "execute_result",
          "data": {
            "text/plain": [
              "[1.855276346206665, 0.6785930395126343]"
            ]
          },
          "metadata": {},
          "execution_count": 11
        }
      ]
    },
    {
      "cell_type": "code",
      "source": [
        ""
      ],
      "metadata": {
        "id": "FfcCil3QqEqU"
      },
      "execution_count": null,
      "outputs": []
    },
    {
      "cell_type": "markdown",
      "source": [
        "###### Baseline model not stratified.  Training accuracy 0.95   evaluation accuracy 0.65\n",
        "##### Stratified Baseline model       Training accuracy 0.94   evaluation accuracy 0.67\n",
        "##### Stratified Relu, not leaky relu Training accuracy 0.96   evaluation accuracy 0.70"
      ],
      "metadata": {
        "id": "Aqm437sOhzpn"
      }
    },
    {
      "cell_type": "markdown",
      "source": [
        "### Model2"
      ],
      "metadata": {
        "id": "REtxiNCii20p"
      }
    },
    {
      "cell_type": "code",
      "source": [
        "from tensorflow.keras import layers\n",
        "from keras.models import Sequential,Input,Model\n",
        "from keras.layers import Dense, Dropout, Flatten\n",
        "from keras.layers import Conv2D, MaxPooling2D\n",
        "\n",
        "model2 = keras.models.Sequential()\n",
        "model2.add(Conv2D(32, kernel_size=(3, 3),activation='relu',input_shape=(150,200,1),padding='same'))\n",
        "model2.add(MaxPooling2D((2, 2),padding='same'))\n",
        "model2.add(Conv2D(64, (3, 3), activation='relu',padding='same'))\n",
        "model2.add(MaxPooling2D(pool_size=(2, 2),padding='same'))\n",
        "model2.add(Conv2D(128, (3, 3), activation='relu',padding='same'))                 \n",
        "model2.add(MaxPooling2D(pool_size=(2, 2),padding='same'))\n",
        "model2.add(Conv2D(256, (3, 3), activation='relu',padding='same'))                 \n",
        "model2.add(MaxPooling2D(pool_size=(2, 2),padding='same'))\n",
        "model2.add(Conv2D(512, (3, 3), activation='relu',padding='same'))                 \n",
        "model2.add(MaxPooling2D(pool_size=(2, 2),padding='same'))\n",
        "model2.add(Flatten())\n",
        "model2.add(Dense(300, activation='relu'))               \n",
        "model2.add(Dense(28, activation='softmax'))"
      ],
      "metadata": {
        "id": "qVzLD-txWfLK"
      },
      "execution_count": 13,
      "outputs": []
    },
    {
      "cell_type": "code",
      "source": [
        "model2.compile(optimizer='adam', loss='categorical_crossentropy', metrics=['accuracy'])"
      ],
      "metadata": {
        "id": "uyA2sDY3cdyI"
      },
      "execution_count": 14,
      "outputs": []
    },
    {
      "cell_type": "code",
      "source": [
        "model2.fit(X_train, y_train,batch_size=30, epochs=5, validation_data=(X_val, y_val))"
      ],
      "metadata": {
        "colab": {
          "base_uri": "https://localhost:8080/"
        },
        "id": "7CDyz1qrcd0W",
        "outputId": "53be23e6-688f-4b6f-f2fa-762bf6e12ff0"
      },
      "execution_count": 12,
      "outputs": [
        {
          "output_type": "stream",
          "name": "stdout",
          "text": [
            "Epoch 1/5\n",
            "1103/1103 [==============================] - 30s 27ms/step - loss: 1.4311 - accuracy: 0.5744 - val_loss: 1.1348 - val_accuracy: 0.6578\n",
            "Epoch 2/5\n",
            "1103/1103 [==============================] - 27s 25ms/step - loss: 0.9208 - accuracy: 0.7164 - val_loss: 0.8728 - val_accuracy: 0.7309\n",
            "Epoch 3/5\n",
            "1103/1103 [==============================] - 28s 25ms/step - loss: 0.7058 - accuracy: 0.7770 - val_loss: 0.7691 - val_accuracy: 0.7657\n",
            "Epoch 4/5\n",
            "1103/1103 [==============================] - 28s 25ms/step - loss: 0.5349 - accuracy: 0.8266 - val_loss: 0.7803 - val_accuracy: 0.7678\n",
            "Epoch 5/5\n",
            "1103/1103 [==============================] - 28s 25ms/step - loss: 0.3861 - accuracy: 0.8716 - val_loss: 0.8229 - val_accuracy: 0.7809\n"
          ]
        },
        {
          "output_type": "execute_result",
          "data": {
            "text/plain": [
              "<keras.callbacks.History at 0x7fdc9a11e190>"
            ]
          },
          "metadata": {},
          "execution_count": 12
        }
      ]
    },
    {
      "cell_type": "code",
      "source": [
        "## save model with 78% val accuracy\n",
        "model2.save('drive/MyDrive/CNN5Conv78Accuracy')"
      ],
      "metadata": {
        "colab": {
          "base_uri": "https://localhost:8080/"
        },
        "id": "TiQQA5Q7cd2O",
        "outputId": "e82997fd-f8b2-46bf-d187-de994b2ec140"
      },
      "execution_count": 12,
      "outputs": [
        {
          "output_type": "stream",
          "name": "stdout",
          "text": [
            "INFO:tensorflow:Assets written to: drive/MyDrive/CNN5Conv78Accuracy/assets\n"
          ]
        }
      ]
    },
    {
      "cell_type": "markdown",
      "source": [
        "### Model3"
      ],
      "metadata": {
        "id": "emQ6cp9Ci90b"
      }
    },
    {
      "cell_type": "code",
      "source": [
        "from tensorflow.keras import layers\n",
        "from keras.models import Sequential,Input,Model\n",
        "from keras.layers import Dense, Dropout, Flatten\n",
        "from keras.layers import Conv2D, MaxPooling2D\n",
        "\n",
        "model3 = keras.models.Sequential()\n",
        "model3.add(Conv2D(32, kernel_size=(3, 3),activation='relu',input_shape=(150,200,1),padding='same'))\n",
        "model3.add(MaxPooling2D((2, 2),padding='same'))\n",
        "model3.add(Conv2D(64, (3, 3), activation='relu',padding='same'))\n",
        "model3.add(MaxPooling2D(pool_size=(2, 2),padding='same'))\n",
        "model3.add(Dropout(0.28))\n",
        "model3.add(Conv2D(128, (3, 3), activation='relu',padding='same'))                 \n",
        "model3.add(MaxPooling2D(pool_size=(2, 2),padding='same'))\n",
        "model3.add(Dropout(0.35))\n",
        "model3.add(Conv2D(256, (3, 3), activation='relu',padding='same'))                 \n",
        "model3.add(MaxPooling2D(pool_size=(3, 3),padding='same'))\n",
        "model3.add(Dropout(0.40))\n",
        "model3.add(Conv2D(512, (3, 3), activation='relu',padding='same'))                 \n",
        "model3.add(MaxPooling2D(pool_size=(3, 3),padding='same'))\n",
        "model3.add(Dropout(0.40))\n",
        "model3.add(Flatten())\n",
        "model3.add(Dense(600, activation='relu'))               \n",
        "model3.add(Dense(28, activation='softmax'))"
      ],
      "metadata": {
        "id": "t8NIOYCfjADb"
      },
      "execution_count": 6,
      "outputs": []
    },
    {
      "cell_type": "code",
      "source": [
        "model3.compile(optimizer='adam', loss='categorical_crossentropy', metrics=['accuracy'])"
      ],
      "metadata": {
        "id": "u5_HgisOpAvW"
      },
      "execution_count": 7,
      "outputs": []
    },
    {
      "cell_type": "code",
      "source": [
        "model3.fit(X_train, y_train,batch_size=50, epochs=25, validation_data=(X_val, y_val))"
      ],
      "metadata": {
        "colab": {
          "base_uri": "https://localhost:8080/"
        },
        "id": "0H5bfQslpA0K",
        "outputId": "a363abd4-4bcf-4ca1-ee50-02e6014c44d9"
      },
      "execution_count": 8,
      "outputs": [
        {
          "output_type": "stream",
          "name": "stdout",
          "text": [
            "Epoch 1/25\n",
            "662/662 [==============================] - 44s 45ms/step - loss: 1.6515 - accuracy: 0.5073 - val_loss: 1.1853 - val_accuracy: 0.6284\n",
            "Epoch 2/25\n",
            "662/662 [==============================] - 27s 40ms/step - loss: 1.1200 - accuracy: 0.6556 - val_loss: 0.9641 - val_accuracy: 0.7005\n",
            "Epoch 3/25\n",
            "662/662 [==============================] - 27s 40ms/step - loss: 0.9597 - accuracy: 0.7014 - val_loss: 0.8519 - val_accuracy: 0.7395\n",
            "Epoch 4/25\n",
            "662/662 [==============================] - 27s 41ms/step - loss: 0.8479 - accuracy: 0.7312 - val_loss: 0.8038 - val_accuracy: 0.7503\n",
            "Epoch 5/25\n",
            "662/662 [==============================] - 27s 41ms/step - loss: 0.7691 - accuracy: 0.7542 - val_loss: 0.7308 - val_accuracy: 0.7726\n",
            "Epoch 6/25\n",
            "662/662 [==============================] - 26s 40ms/step - loss: 0.7001 - accuracy: 0.7743 - val_loss: 0.7051 - val_accuracy: 0.7776\n",
            "Epoch 7/25\n",
            "662/662 [==============================] - 26s 40ms/step - loss: 0.6509 - accuracy: 0.7888 - val_loss: 0.6926 - val_accuracy: 0.7891\n",
            "Epoch 8/25\n",
            "662/662 [==============================] - 26s 40ms/step - loss: 0.5952 - accuracy: 0.8056 - val_loss: 0.6598 - val_accuracy: 0.7963\n",
            "Epoch 9/25\n",
            "662/662 [==============================] - 26s 40ms/step - loss: 0.5629 - accuracy: 0.8151 - val_loss: 0.6320 - val_accuracy: 0.8014\n",
            "Epoch 10/25\n",
            "662/662 [==============================] - 26s 40ms/step - loss: 0.5292 - accuracy: 0.8263 - val_loss: 0.6343 - val_accuracy: 0.8029\n",
            "Epoch 11/25\n",
            "662/662 [==============================] - 26s 40ms/step - loss: 0.5019 - accuracy: 0.8347 - val_loss: 0.6163 - val_accuracy: 0.8118\n",
            "Epoch 12/25\n",
            "662/662 [==============================] - 26s 40ms/step - loss: 0.4725 - accuracy: 0.8428 - val_loss: 0.6064 - val_accuracy: 0.8136\n",
            "Epoch 13/25\n",
            "662/662 [==============================] - 26s 40ms/step - loss: 0.4592 - accuracy: 0.8476 - val_loss: 0.5936 - val_accuracy: 0.8148\n",
            "Epoch 14/25\n",
            "662/662 [==============================] - 27s 40ms/step - loss: 0.4306 - accuracy: 0.8568 - val_loss: 0.5843 - val_accuracy: 0.8269\n",
            "Epoch 15/25\n",
            "662/662 [==============================] - 27s 40ms/step - loss: 0.4161 - accuracy: 0.8621 - val_loss: 0.6145 - val_accuracy: 0.8099\n",
            "Epoch 16/25\n",
            "662/662 [==============================] - 27s 40ms/step - loss: 0.4038 - accuracy: 0.8657 - val_loss: 0.6091 - val_accuracy: 0.8195\n",
            "Epoch 17/25\n",
            "662/662 [==============================] - 27s 40ms/step - loss: 0.3919 - accuracy: 0.8683 - val_loss: 0.5852 - val_accuracy: 0.8303\n",
            "Epoch 18/25\n",
            "662/662 [==============================] - 27s 40ms/step - loss: 0.3716 - accuracy: 0.8751 - val_loss: 0.5903 - val_accuracy: 0.8251\n",
            "Epoch 19/25\n",
            "662/662 [==============================] - 27s 40ms/step - loss: 0.3631 - accuracy: 0.8784 - val_loss: 0.6082 - val_accuracy: 0.8222\n",
            "Epoch 20/25\n",
            "662/662 [==============================] - 27s 40ms/step - loss: 0.3545 - accuracy: 0.8796 - val_loss: 0.6319 - val_accuracy: 0.8176\n",
            "Epoch 21/25\n",
            "662/662 [==============================] - 27s 40ms/step - loss: 0.3448 - accuracy: 0.8852 - val_loss: 0.6257 - val_accuracy: 0.8226\n",
            "Epoch 22/25\n",
            "662/662 [==============================] - 27s 40ms/step - loss: 0.3373 - accuracy: 0.8867 - val_loss: 0.6186 - val_accuracy: 0.8261\n",
            "Epoch 23/25\n",
            "662/662 [==============================] - 27s 40ms/step - loss: 0.3258 - accuracy: 0.8897 - val_loss: 0.6183 - val_accuracy: 0.8246\n",
            "Epoch 24/25\n",
            "662/662 [==============================] - 27s 40ms/step - loss: 0.3251 - accuracy: 0.8894 - val_loss: 0.6211 - val_accuracy: 0.8255\n",
            "Epoch 25/25\n",
            "662/662 [==============================] - 27s 40ms/step - loss: 0.3046 - accuracy: 0.8982 - val_loss: 0.6423 - val_accuracy: 0.8298\n"
          ]
        },
        {
          "output_type": "execute_result",
          "data": {
            "text/plain": [
              "<keras.callbacks.History at 0x7f71f049b850>"
            ]
          },
          "metadata": {},
          "execution_count": 8
        }
      ]
    },
    {
      "cell_type": "code",
      "source": [
        "model3.save('drive/MyDrive/CNN5Conv4Drop3X3pool_81%Acc')"
      ],
      "metadata": {
        "id": "Fd4Y_lG6uP_g",
        "colab": {
          "base_uri": "https://localhost:8080/"
        },
        "outputId": "7268bbde-085f-4af8-dec4-0386c3ed0175"
      },
      "execution_count": 12,
      "outputs": [
        {
          "output_type": "stream",
          "name": "stdout",
          "text": [
            "INFO:tensorflow:Assets written to: drive/MyDrive/CNN5Conv4Drop3X3pool_81%Acc/assets\n"
          ]
        }
      ]
    },
    {
      "cell_type": "markdown",
      "source": [
        "### Model4"
      ],
      "metadata": {
        "id": "SCtu3X1b4HrX"
      }
    },
    {
      "cell_type": "code",
      "source": [
        "from tensorflow.keras import layers\n",
        "from keras.models import Sequential,Input,Model\n",
        "from keras.layers import Dense, Dropout, Flatten\n",
        "from keras.layers import Conv2D, MaxPooling2D\n",
        "\n",
        "model4 = keras.models.Sequential()\n",
        "model4.add(Conv2D(32, kernel_size=(3, 3),activation='relu',input_shape=(150,200,1),padding='same'))\n",
        "model4.add(MaxPooling2D((2, 2),padding='same'))\n",
        "model4.add(Conv2D(64, (3, 3), activation='relu',padding='same'))\n",
        "model4.add(MaxPooling2D(pool_size=(2, 2),padding='same'))\n",
        "model4.add(Dropout(0.28))\n",
        "model4.add(Conv2D(128, (3, 3), activation='relu',padding='same'))                 \n",
        "model4.add(MaxPooling2D(pool_size=(2, 2),padding='same'))\n",
        "model4.add(Dropout(0.35))\n",
        "model4.add(Conv2D(256, (3, 3), activation='relu',padding='same'))                 \n",
        "model4.add(MaxPooling2D(pool_size=(3, 3),padding='same'))\n",
        "model4.add(Dropout(0.40))\n",
        "model4.add(Conv2D(512, (3, 3), activation='relu',padding='same'))                 \n",
        "model4.add(MaxPooling2D(pool_size=(3, 3),padding='same'))\n",
        "model4.add(Dropout(0.40))\n",
        "model4.add(Conv2D(800, (3, 3), activation='relu',padding='same'))                 \n",
        "model4.add(MaxPooling2D(pool_size=(2, 2),padding='same'))\n",
        "model4.add(Dropout(0.40))\n",
        "model4.add(Flatten())\n",
        "model4.add(Dense(600, activation='relu'))               \n",
        "model4.add(Dense(28, activation='softmax'))"
      ],
      "metadata": {
        "id": "-HgYP1Ql4GMg"
      },
      "execution_count": 6,
      "outputs": []
    },
    {
      "cell_type": "code",
      "source": [
        "model4.compile(optimizer='adam', loss='categorical_crossentropy', metrics=['accuracy'])"
      ],
      "metadata": {
        "id": "ZWPHg7Tq4GQM"
      },
      "execution_count": 7,
      "outputs": []
    },
    {
      "cell_type": "code",
      "source": [
        "model4.fit(X_train, y_train,batch_size=80, epochs=5, validation_data=(X_val, y_val))"
      ],
      "metadata": {
        "colab": {
          "base_uri": "https://localhost:8080/"
        },
        "id": "Mp9hfR-l4GTy",
        "outputId": "0fa6635e-f057-43f7-e62a-06ad1309aa53"
      },
      "execution_count": 13,
      "outputs": [
        {
          "output_type": "stream",
          "name": "stdout",
          "text": [
            "Epoch 1/5\n",
            "414/414 [==============================] - 27s 65ms/step - loss: 0.3704 - accuracy: 0.8771 - val_loss: 0.5870 - val_accuracy: 0.8296\n",
            "Epoch 2/5\n",
            "414/414 [==============================] - 25s 60ms/step - loss: 0.3764 - accuracy: 0.8758 - val_loss: 0.6163 - val_accuracy: 0.8210\n",
            "Epoch 3/5\n",
            "414/414 [==============================] - 25s 60ms/step - loss: 0.3744 - accuracy: 0.8774 - val_loss: 0.6220 - val_accuracy: 0.8131\n",
            "Epoch 4/5\n",
            "414/414 [==============================] - 25s 60ms/step - loss: 0.3735 - accuracy: 0.8784 - val_loss: 0.5405 - val_accuracy: 0.8450\n",
            "Epoch 5/5\n",
            "414/414 [==============================] - 25s 60ms/step - loss: 0.3640 - accuracy: 0.8804 - val_loss: 0.5906 - val_accuracy: 0.8285\n"
          ]
        },
        {
          "output_type": "execute_result",
          "data": {
            "text/plain": [
              "<keras.callbacks.History at 0x7fa9464fc350>"
            ]
          },
          "metadata": {},
          "execution_count": 13
        }
      ]
    },
    {
      "cell_type": "code",
      "source": [
        "model4.save('drive/MyDrive/CNN6Conv5Drop3X3pool_84%ValAcc88%train')"
      ],
      "metadata": {
        "colab": {
          "base_uri": "https://localhost:8080/"
        },
        "id": "w0B9OWxjH5D3",
        "outputId": "51b15bea-4b92-4268-9b65-6026443356dd"
      },
      "execution_count": 12,
      "outputs": [
        {
          "output_type": "stream",
          "name": "stdout",
          "text": [
            "INFO:tensorflow:Assets written to: drive/MyDrive/CNN6Conv5Drop3X3pool_84%ValAcc88%train/assets\n"
          ]
        }
      ]
    },
    {
      "cell_type": "markdown",
      "source": [
        "### Import EfficientNet"
      ],
      "metadata": {
        "id": "KfNrC3uJseDg"
      }
    },
    {
      "cell_type": "code",
      "source": [
        "from tensorflow.keras.applications import EfficientNetB0"
      ],
      "metadata": {
        "id": "C4AY4l1TsieM"
      },
      "execution_count": 20,
      "outputs": []
    },
    {
      "cell_type": "code",
      "source": [
        "ENetModel=EfficientNetB0(\n",
        "    include_top=True,\n",
        "    weights=None,\n",
        "    \n",
        "    classes=28,\n",
        "    )"
      ],
      "metadata": {
        "id": "QrnZxfJssvP-"
      },
      "execution_count": 22,
      "outputs": []
    },
    {
      "cell_type": "code",
      "source": [
        "ENetModel.compile(optimizer='adam', loss='categorical_crossentropy', metrics=['accuracy'])"
      ],
      "metadata": {
        "id": "NG8nCfRct-x1"
      },
      "execution_count": 23,
      "outputs": []
    },
    {
      "cell_type": "code",
      "source": [
        "ENetModel.fit(X_train, y_train,batch_size=30, epochs=4, validation_data=(X_val, y_val))"
      ],
      "metadata": {
        "colab": {
          "base_uri": "https://localhost:8080/",
          "height": 619
        },
        "id": "S_BUXZDgtpe8",
        "outputId": "b066aafc-61b8-40fe-c681-cf83f78fe91e"
      },
      "execution_count": 17,
      "outputs": [
        {
          "output_type": "stream",
          "name": "stdout",
          "text": [
            "Epoch 1/4\n"
          ]
        },
        {
          "output_type": "error",
          "ename": "ValueError",
          "evalue": "ignored",
          "traceback": [
            "\u001b[0;31m---------------------------------------------------------------------------\u001b[0m",
            "\u001b[0;31mValueError\u001b[0m                                Traceback (most recent call last)",
            "\u001b[0;32m<ipython-input-17-a0ef9025fbbd>\u001b[0m in \u001b[0;36m<module>\u001b[0;34m()\u001b[0m\n\u001b[0;32m----> 1\u001b[0;31m \u001b[0mENetModel\u001b[0m\u001b[0;34m.\u001b[0m\u001b[0mfit\u001b[0m\u001b[0;34m(\u001b[0m\u001b[0mX_train\u001b[0m\u001b[0;34m,\u001b[0m \u001b[0my_train\u001b[0m\u001b[0;34m,\u001b[0m\u001b[0mbatch_size\u001b[0m\u001b[0;34m=\u001b[0m\u001b[0;36m30\u001b[0m\u001b[0;34m,\u001b[0m \u001b[0mepochs\u001b[0m\u001b[0;34m=\u001b[0m\u001b[0;36m4\u001b[0m\u001b[0;34m,\u001b[0m \u001b[0mvalidation_data\u001b[0m\u001b[0;34m=\u001b[0m\u001b[0;34m(\u001b[0m\u001b[0mX_val\u001b[0m\u001b[0;34m,\u001b[0m \u001b[0my_val\u001b[0m\u001b[0;34m)\u001b[0m\u001b[0;34m)\u001b[0m\u001b[0;34m\u001b[0m\u001b[0;34m\u001b[0m\u001b[0m\n\u001b[0m",
            "\u001b[0;32m/usr/local/lib/python3.7/dist-packages/keras/utils/traceback_utils.py\u001b[0m in \u001b[0;36merror_handler\u001b[0;34m(*args, **kwargs)\u001b[0m\n\u001b[1;32m     65\u001b[0m     \u001b[0;32mexcept\u001b[0m \u001b[0mException\u001b[0m \u001b[0;32mas\u001b[0m \u001b[0me\u001b[0m\u001b[0;34m:\u001b[0m  \u001b[0;31m# pylint: disable=broad-except\u001b[0m\u001b[0;34m\u001b[0m\u001b[0;34m\u001b[0m\u001b[0m\n\u001b[1;32m     66\u001b[0m       \u001b[0mfiltered_tb\u001b[0m \u001b[0;34m=\u001b[0m \u001b[0m_process_traceback_frames\u001b[0m\u001b[0;34m(\u001b[0m\u001b[0me\u001b[0m\u001b[0;34m.\u001b[0m\u001b[0m__traceback__\u001b[0m\u001b[0;34m)\u001b[0m\u001b[0;34m\u001b[0m\u001b[0;34m\u001b[0m\u001b[0m\n\u001b[0;32m---> 67\u001b[0;31m       \u001b[0;32mraise\u001b[0m \u001b[0me\u001b[0m\u001b[0;34m.\u001b[0m\u001b[0mwith_traceback\u001b[0m\u001b[0;34m(\u001b[0m\u001b[0mfiltered_tb\u001b[0m\u001b[0;34m)\u001b[0m \u001b[0;32mfrom\u001b[0m \u001b[0;32mNone\u001b[0m\u001b[0;34m\u001b[0m\u001b[0;34m\u001b[0m\u001b[0m\n\u001b[0m\u001b[1;32m     68\u001b[0m     \u001b[0;32mfinally\u001b[0m\u001b[0;34m:\u001b[0m\u001b[0;34m\u001b[0m\u001b[0;34m\u001b[0m\u001b[0m\n\u001b[1;32m     69\u001b[0m       \u001b[0;32mdel\u001b[0m \u001b[0mfiltered_tb\u001b[0m\u001b[0;34m\u001b[0m\u001b[0;34m\u001b[0m\u001b[0m\n",
            "\u001b[0;32m/usr/local/lib/python3.7/dist-packages/tensorflow/python/framework/func_graph.py\u001b[0m in \u001b[0;36mautograph_handler\u001b[0;34m(*args, **kwargs)\u001b[0m\n\u001b[1;32m   1145\u001b[0m           \u001b[0;32mexcept\u001b[0m \u001b[0mException\u001b[0m \u001b[0;32mas\u001b[0m \u001b[0me\u001b[0m\u001b[0;34m:\u001b[0m  \u001b[0;31m# pylint:disable=broad-except\u001b[0m\u001b[0;34m\u001b[0m\u001b[0;34m\u001b[0m\u001b[0m\n\u001b[1;32m   1146\u001b[0m             \u001b[0;32mif\u001b[0m \u001b[0mhasattr\u001b[0m\u001b[0;34m(\u001b[0m\u001b[0me\u001b[0m\u001b[0;34m,\u001b[0m \u001b[0;34m\"ag_error_metadata\"\u001b[0m\u001b[0;34m)\u001b[0m\u001b[0;34m:\u001b[0m\u001b[0;34m\u001b[0m\u001b[0;34m\u001b[0m\u001b[0m\n\u001b[0;32m-> 1147\u001b[0;31m               \u001b[0;32mraise\u001b[0m \u001b[0me\u001b[0m\u001b[0;34m.\u001b[0m\u001b[0mag_error_metadata\u001b[0m\u001b[0;34m.\u001b[0m\u001b[0mto_exception\u001b[0m\u001b[0;34m(\u001b[0m\u001b[0me\u001b[0m\u001b[0;34m)\u001b[0m\u001b[0;34m\u001b[0m\u001b[0;34m\u001b[0m\u001b[0m\n\u001b[0m\u001b[1;32m   1148\u001b[0m             \u001b[0;32melse\u001b[0m\u001b[0;34m:\u001b[0m\u001b[0;34m\u001b[0m\u001b[0;34m\u001b[0m\u001b[0m\n\u001b[1;32m   1149\u001b[0m               \u001b[0;32mraise\u001b[0m\u001b[0;34m\u001b[0m\u001b[0;34m\u001b[0m\u001b[0m\n",
            "\u001b[0;31mValueError\u001b[0m: in user code:\n\n    File \"/usr/local/lib/python3.7/dist-packages/keras/engine/training.py\", line 1021, in train_function  *\n        return step_function(self, iterator)\n    File \"/usr/local/lib/python3.7/dist-packages/keras/engine/training.py\", line 1010, in step_function  **\n        outputs = model.distribute_strategy.run(run_step, args=(data,))\n    File \"/usr/local/lib/python3.7/dist-packages/keras/engine/training.py\", line 1000, in run_step  **\n        outputs = model.train_step(data)\n    File \"/usr/local/lib/python3.7/dist-packages/keras/engine/training.py\", line 859, in train_step\n        y_pred = self(x, training=True)\n    File \"/usr/local/lib/python3.7/dist-packages/keras/utils/traceback_utils.py\", line 67, in error_handler\n        raise e.with_traceback(filtered_tb) from None\n    File \"/usr/local/lib/python3.7/dist-packages/keras/engine/input_spec.py\", line 264, in assert_input_compatibility\n        raise ValueError(f'Input {input_index} of layer \"{layer_name}\" is '\n\n    ValueError: Input 0 of layer \"efficientnetb7\" is incompatible with the layer: expected shape=(None, 600, 600, 3), found shape=(None, 150, 200)\n"
          ]
        }
      ]
    },
    {
      "cell_type": "code",
      "source": [
        ""
      ],
      "metadata": {
        "id": "o8pJWJPQt8Y-"
      },
      "execution_count": null,
      "outputs": []
    }
  ]
}