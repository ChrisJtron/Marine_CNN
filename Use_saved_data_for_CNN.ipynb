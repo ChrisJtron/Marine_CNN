{
  "nbformat": 4,
  "nbformat_minor": 0,
  "metadata": {
    "colab": {
      "name": "Use_saved_data_for_CNN.ipynb",
      "provenance": [],
      "collapsed_sections": [],
      "machine_shape": "hm",
      "mount_file_id": "1TTUIgdoVBQY5NrvfnpmgHuQ3EGlBbFQt",
      "authorship_tag": "ABX9TyN2fH/Da59K97wZJKaZO3aG"
    },
    "kernelspec": {
      "name": "python3",
      "display_name": "Python 3"
    },
    "language_info": {
      "name": "python"
    },
    "accelerator": "GPU"
  },
  "cells": [
    {
      "cell_type": "markdown",
      "source": [
        "I have augmented the images that I will be classifying.  I created a function to resize, grayscale, and normalize the pixel values of each image.  Then I created a dataframe combining the images with their labels.  This uncovered the fact that about 9,000 of the 50,000 images were mislabeled.  The jpg name of the image could not find a partner jpg name in the labels csv provided. (This raises the question of whether a clustering algorithm could be useful for the unlabeled data.)\n",
        "\n",
        "Using the reduced data set, I split the data into stratified test and validation sets and saved them to disk as numpy arrays. The data started as a 37 GB file of JPGs, which I reduced to just over 11 Gbs by turning them to numpy arrays. Howver, I still had RAM issues on my local machine of only 16 Gb RAM. I could load the data but would run out of memory when trying to manipulate it. I solved this by using Google Colab Pro, which provides me with 25 GB of RAM.  This is still not enough to manipulate the data as much as I would like, but I have been working around it by making one change and saving it, then uploading that data to a new notebook with a fresh 25 GB to start.  My final training data is about 9 GB in size.  I may need to augment the images further through rotations and/or larger sizes to get more detail, but that will require even more RAM so I will start with the 9GB set.\n",
        "\n",
        "I have created a base model with 94% training accuracy but only 67% validation accuracy.  The model is overfitting, but it gives me a starting point.\n",
        "\n",
        "Changing leaky Relu to Relu improved validation accuracy to 70%\n",
        "\n",
        "Dense layer neurons from 3,000 to 300 reduced validation accuracy to 69%\n",
        "\n",
        "Reducing layers from 3 to 2 convolutional and pooling reduced validation accuracy to 65%\n",
        "\n",
        "Adding one additional convolutional layer of 256 and pooling layer increased validation accuracy to 74%\n",
        "\n",
        "Adding another additional convolutional layer of 512 and a pooling layer increased validation accuracy to 76%\n",
        "\n",
        "Another convolutional layer of 1024 did not improve accuracy\n",
        "\n",
        "Adding Dropout layers improved accuracy to 79%\n",
        "\n",
        "Dropout layers and increased last 2 pooling filter size to 3X3 increased accuracy to 81%\n",
        "\n",
        "Adding one more convolutional layer 800 neurons with pooling size 2X2 and 0.40 Dropout increased accuracy to 84% \n"
      ],
      "metadata": {
        "id": "QsYh9oc7k7LC"
      }
    },
    {
      "cell_type": "code",
      "execution_count": 1,
      "metadata": {
        "id": "lElzJZ3RKemg"
      },
      "outputs": [],
      "source": [
        "import pandas as pd\n",
        "import numpy as np\n",
        "import matplotlib.pyplot as plt\n",
        "from numpy import asarray\n",
        "import tensorflow as tf\n",
        "from tensorflow import keras"
      ]
    },
    {
      "cell_type": "code",
      "source": [
        "X_train=np.load('drive/MyDrive/X_train_strat.npy')"
      ],
      "metadata": {
        "id": "DEAUNeELMeaG"
      },
      "execution_count": 5,
      "outputs": []
    },
    {
      "cell_type": "code",
      "source": [
        "y_train=np.load('drive/MyDrive/y_train_strat.npy')"
      ],
      "metadata": {
        "id": "GNPlaP3rM5wK"
      },
      "execution_count": 6,
      "outputs": []
    },
    {
      "cell_type": "code",
      "source": [
        "X_val=np.load('drive/MyDrive/X_val_strat.npy')"
      ],
      "metadata": {
        "id": "9X7YELBbidrY"
      },
      "execution_count": 7,
      "outputs": []
    },
    {
      "cell_type": "code",
      "source": [
        "y_val=np.load('drive/MyDrive/y_val_strat.npy')"
      ],
      "metadata": {
        "id": "6eH-O8hdid44"
      },
      "execution_count": 2,
      "outputs": []
    },
    {
      "cell_type": "code",
      "source": [
        "X_train.shape, y_train.shape"
      ],
      "metadata": {
        "colab": {
          "base_uri": "https://localhost:8080/"
        },
        "id": "ei88D6ySNJ83",
        "outputId": "19a9a7af-c29c-4335-f210-8c5e66af7d67"
      },
      "execution_count": null,
      "outputs": [
        {
          "output_type": "execute_result",
          "data": {
            "text/plain": [
              "((33089, 150, 200), (33089, 28))"
            ]
          },
          "metadata": {},
          "execution_count": 6
        }
      ]
    },
    {
      "cell_type": "code",
      "source": [
        "## Baseline Model\n",
        "\n",
        "# from tensorflow.keras import layers\n",
        "# from keras.models import Sequential,Input,Model\n",
        "# from keras.layers import Dense, Dropout, Flatten\n",
        "# from keras.layers import Conv2D, MaxPooling2D\n",
        "# from keras.layers.advanced_activations import LeakyReLU\n",
        "\n",
        "# model = keras.models.Sequential()\n",
        "# model.add(Conv2D(32, kernel_size=(3, 3),activation='linear',input_shape=(150,200,1),padding='same'))\n",
        "# model.add(LeakyReLU(alpha=0.1))\n",
        "# model.add(MaxPooling2D((2, 2),padding='same'))\n",
        "# model.add(Conv2D(64, (3, 3), activation='linear',padding='same'))\n",
        "# model.add(LeakyReLU(alpha=0.1))\n",
        "# model.add(MaxPooling2D(pool_size=(2, 2),padding='same'))\n",
        "# model.add(Conv2D(128, (3, 3), activation='linear',padding='same'))\n",
        "# model.add(LeakyReLU(alpha=0.1))                  \n",
        "# model.add(MaxPooling2D(pool_size=(2, 2),padding='same'))\n",
        "# model.add(Flatten())\n",
        "# model.add(Dense(3000, activation='linear'))\n",
        "# model.add(LeakyReLU(alpha=0.1))                  \n",
        "# model.add(Dense(28, activation='softmax'))"
      ],
      "metadata": {
        "id": "EyHCmOTHNM7S"
      },
      "execution_count": null,
      "outputs": []
    },
    {
      "cell_type": "code",
      "source": [
        "## model.compile(optimizer='adam', loss='categorical_crossentropy', metrics=['accuracy'])"
      ],
      "metadata": {
        "id": "wa_pdmR7OBWf"
      },
      "execution_count": null,
      "outputs": []
    },
    {
      "cell_type": "code",
      "source": [
        "## model.fit(X_train, y_train,batch_size=30, epochs=5)"
      ],
      "metadata": {
        "colab": {
          "base_uri": "https://localhost:8080/"
        },
        "id": "cchgS0GzOQat",
        "outputId": "2a4ba25d-89a4-4ed3-e7d1-f399c5abfd51"
      },
      "execution_count": null,
      "outputs": [
        {
          "output_type": "stream",
          "name": "stdout",
          "text": [
            "Epoch 1/5\n",
            "1103/1103 [==============================] - 56s 39ms/step - loss: 1.4638 - accuracy: 0.5738\n",
            "Epoch 2/5\n",
            "1103/1103 [==============================] - 43s 39ms/step - loss: 0.9173 - accuracy: 0.7120\n",
            "Epoch 3/5\n",
            "1103/1103 [==============================] - 44s 39ms/step - loss: 0.5395 - accuracy: 0.8241\n",
            "Epoch 4/5\n",
            "1103/1103 [==============================] - 43s 39ms/step - loss: 0.2643 - accuracy: 0.9122\n",
            "Epoch 5/5\n",
            "1103/1103 [==============================] - 43s 39ms/step - loss: 0.1778 - accuracy: 0.9439\n"
          ]
        },
        {
          "output_type": "execute_result",
          "data": {
            "text/plain": [
              "<keras.callbacks.History at 0x7fee201680d0>"
            ]
          },
          "metadata": {},
          "execution_count": 8
        }
      ]
    },
    {
      "cell_type": "code",
      "source": [
        "##model.evaluate(X_val,y_val)"
      ],
      "metadata": {
        "colab": {
          "base_uri": "https://localhost:8080/"
        },
        "id": "sJXe5380PyzS",
        "outputId": "ee947952-f675-4575-d71e-3f8a9e473774"
      },
      "execution_count": null,
      "outputs": [
        {
          "output_type": "stream",
          "name": "stdout",
          "text": [
            "259/259 [==============================] - 3s 11ms/step - loss: 1.8553 - accuracy: 0.6786\n"
          ]
        },
        {
          "output_type": "execute_result",
          "data": {
            "text/plain": [
              "[1.855276346206665, 0.6785930395126343]"
            ]
          },
          "metadata": {},
          "execution_count": 11
        }
      ]
    },
    {
      "cell_type": "code",
      "source": [
        ""
      ],
      "metadata": {
        "id": "FfcCil3QqEqU"
      },
      "execution_count": null,
      "outputs": []
    },
    {
      "cell_type": "markdown",
      "source": [
        "###### Baseline model not stratified.  Training accuracy 0.95   evaluation accuracy 0.65\n",
        "##### Stratified Baseline model       Training accuracy 0.94   evaluation accuracy 0.67\n",
        "##### Stratified Relu, not leaky relu Training accuracy 0.96   evaluation accuracy 0.70"
      ],
      "metadata": {
        "id": "Aqm437sOhzpn"
      }
    },
    {
      "cell_type": "markdown",
      "source": [
        "### Model2"
      ],
      "metadata": {
        "id": "REtxiNCii20p"
      }
    },
    {
      "cell_type": "code",
      "source": [
        "from tensorflow.keras import layers\n",
        "from keras.models import Sequential,Input,Model\n",
        "from keras.layers import Dense, Dropout, Flatten\n",
        "from keras.layers import Conv2D, MaxPooling2D\n",
        "\n",
        "model2 = keras.models.Sequential()\n",
        "model2.add(Conv2D(32, kernel_size=(3, 3),activation='relu',input_shape=(150,200,1),padding='same'))\n",
        "model2.add(MaxPooling2D((2, 2),padding='same'))\n",
        "model2.add(Conv2D(64, (3, 3), activation='relu',padding='same'))\n",
        "model2.add(MaxPooling2D(pool_size=(2, 2),padding='same'))\n",
        "model2.add(Conv2D(128, (3, 3), activation='relu',padding='same'))                 \n",
        "model2.add(MaxPooling2D(pool_size=(2, 2),padding='same'))\n",
        "model2.add(Conv2D(256, (3, 3), activation='relu',padding='same'))                 \n",
        "model2.add(MaxPooling2D(pool_size=(2, 2),padding='same'))\n",
        "model2.add(Conv2D(512, (3, 3), activation='relu',padding='same'))                 \n",
        "model2.add(MaxPooling2D(pool_size=(2, 2),padding='same'))\n",
        "model2.add(Flatten())\n",
        "model2.add(Dense(300, activation='relu'))               \n",
        "model2.add(Dense(28, activation='softmax'))"
      ],
      "metadata": {
        "id": "qVzLD-txWfLK"
      },
      "execution_count": null,
      "outputs": []
    },
    {
      "cell_type": "code",
      "source": [
        "model2.compile(optimizer='adam', loss='categorical_crossentropy', metrics=['accuracy'])"
      ],
      "metadata": {
        "id": "uyA2sDY3cdyI"
      },
      "execution_count": null,
      "outputs": []
    },
    {
      "cell_type": "code",
      "source": [
        "model2.fit(X_train, y_train,batch_size=30, epochs=5, validation_data=(X_val, y_val))"
      ],
      "metadata": {
        "colab": {
          "base_uri": "https://localhost:8080/"
        },
        "id": "7CDyz1qrcd0W",
        "outputId": "955b4421-dbce-4fa6-81cf-8b218bbee44c"
      },
      "execution_count": null,
      "outputs": [
        {
          "output_type": "stream",
          "name": "stdout",
          "text": [
            "Epoch 1/5\n",
            "1103/1103 [==============================] - 52s 32ms/step - loss: 1.5105 - accuracy: 0.5450 - val_loss: 1.0704 - val_accuracy: 0.6762\n",
            "Epoch 2/5\n",
            "1103/1103 [==============================] - 27s 25ms/step - loss: 0.9374 - accuracy: 0.7092 - val_loss: 0.9054 - val_accuracy: 0.7127\n",
            "Epoch 3/5\n",
            "1103/1103 [==============================] - 27s 25ms/step - loss: 0.7242 - accuracy: 0.7716 - val_loss: 0.8112 - val_accuracy: 0.7469\n",
            "Epoch 4/5\n",
            "1103/1103 [==============================] - 27s 25ms/step - loss: 0.5629 - accuracy: 0.8173 - val_loss: 0.7328 - val_accuracy: 0.7787\n",
            "Epoch 5/5\n",
            "1103/1103 [==============================] - 29s 27ms/step - loss: 0.4159 - accuracy: 0.8640 - val_loss: 0.7917 - val_accuracy: 0.7725\n"
          ]
        },
        {
          "output_type": "execute_result",
          "data": {
            "text/plain": [
              "<keras.callbacks.History at 0x7f567057f310>"
            ]
          },
          "metadata": {},
          "execution_count": 9
        }
      ]
    },
    {
      "cell_type": "code",
      "source": [
        "## save model with 78% val accuracy\n",
        "model2.save('drive/MyDrive/CNN5Conv78Accuracy')"
      ],
      "metadata": {
        "colab": {
          "base_uri": "https://localhost:8080/"
        },
        "id": "TiQQA5Q7cd2O",
        "outputId": "e82997fd-f8b2-46bf-d187-de994b2ec140"
      },
      "execution_count": null,
      "outputs": [
        {
          "output_type": "stream",
          "name": "stdout",
          "text": [
            "INFO:tensorflow:Assets written to: drive/MyDrive/CNN5Conv78Accuracy/assets\n"
          ]
        }
      ]
    },
    {
      "cell_type": "code",
      "source": [
        "test=keras.models.load_model('drive/MyDrive/CNN5Conv78Accuracy')"
      ],
      "metadata": {
        "id": "QtHK-tCGVW54"
      },
      "execution_count": 8,
      "outputs": []
    },
    {
      "cell_type": "code",
      "source": [
        "predict_y=test.predict(X_val)\n",
        "y_preds=np.argmax(predict_y, axis=1)\n",
        "\n",
        "# y_preds_hot=[]\n",
        "# for each in predict_y:\n",
        "#   elem=[]\n",
        "#   for i in each:\n",
        "#     if i == each.max():\n",
        "#       r=1.\n",
        "#     else:\n",
        "#       r=0.\n",
        "#     elem.append(r)\n",
        "#   y_preds_hot.append(asarray(elem))\n"
      ],
      "metadata": {
        "id": "R2or-VzA4VBr"
      },
      "execution_count": 19,
      "outputs": []
    },
    {
      "cell_type": "code",
      "source": [
        "# y_hot=asarray(y_preds_hot)"
      ],
      "metadata": {
        "id": "ZVqipH7W93-K"
      },
      "execution_count": 20,
      "outputs": []
    },
    {
      "cell_type": "code",
      "source": [
        "y_val_1d=np.argmax(y_val, axis=1)\n",
        "y_val_1d[2]"
      ],
      "metadata": {
        "colab": {
          "base_uri": "https://localhost:8080/"
        },
        "id": "nizE5--PbsOW",
        "outputId": "07253ab6-684c-4944-eaf4-4fd65a60084f"
      },
      "execution_count": 28,
      "outputs": [
        {
          "output_type": "execute_result",
          "data": {
            "text/plain": [
              "2"
            ]
          },
          "metadata": {},
          "execution_count": 28
        }
      ]
    },
    {
      "cell_type": "code",
      "source": [
        "# y_hot[2], y_val[2], \n",
        "print(y_hot.shape)\n",
        "print(y_val.shape)\n",
        "print(y_preds[2])"
      ],
      "metadata": {
        "colab": {
          "base_uri": "https://localhost:8080/"
        },
        "id": "Sd_E9sXy5HW4",
        "outputId": "621a16d9-e05c-41e3-daaa-ddfad2f6d625"
      },
      "execution_count": 27,
      "outputs": [
        {
          "output_type": "stream",
          "name": "stdout",
          "text": [
            "(8273, 28)\n",
            "(8273, 28)\n",
            "8\n"
          ]
        }
      ]
    },
    {
      "cell_type": "code",
      "source": [
        "confusion=tf.math.confusion_matrix(labels=y_val_1d, predictions=y_preds)"
      ],
      "metadata": {
        "id": "1ZNoKYbT2XB3"
      },
      "execution_count": 29,
      "outputs": []
    },
    {
      "cell_type": "code",
      "source": [
        "print(confusion)"
      ],
      "metadata": {
        "id": "3h_Jx9X_2XFQ",
        "colab": {
          "base_uri": "https://localhost:8080/"
        },
        "outputId": "94eebb8c-4ef7-4ac1-a7ab-189998350a97"
      },
      "execution_count": 30,
      "outputs": [
        {
          "output_type": "stream",
          "name": "stdout",
          "text": [
            "tf.Tensor(\n",
            "[[1151   17   12    0    0    0    0    0    0    0    0    0    4   17\n",
            "     0    0    0    0    0    0    0    0    0    0    3    2    0    1]\n",
            " [  21  731    3    0    0    0    0    0    3    3    0    0    1   20\n",
            "     0    0    0    0    0    0    0    0    0    0    0    1    0    0]\n",
            " [  10    8 1415    0    1    7    3    9  131    7    0    0    3   48\n",
            "    10    0   13   18    0    5    0    1    1    4    0   38    5    3]\n",
            " [   0    0    4   12    0    0    0    0    1    2    0    0    0    1\n",
            "     3    0    1    1    0    0    0    0    0    0    0    0    0    0]\n",
            " [   0    0    0    0    7    0    0    0    3    0    0    0    0    4\n",
            "     0    0    0    0    0    1    0    0    0    0    0    0    0    0]\n",
            " [   0    0   18    0    0   13    1    0    8    0    0    0    0    4\n",
            "     1    0    1    1    0    0    0    0    1    0    0    9    0    0]\n",
            " [   2    2   10    0    0    0   20    0    0    2    0    0    0    9\n",
            "     1    0    0    7    0    0    0    0    0    0    0    0    0    0]\n",
            " [   0    0    7    0    0    0    0  495    5    0    0    0    0    0\n",
            "     0    0    4    0    0    0    0    0    0    0    0    1    0    0]\n",
            " [   0    1   66    1    2    2    1    5  392    4    0    0    0   15\n",
            "    10    3   11    2    0    2    0    0    1    1    0   26    2    0]\n",
            " [   7   22   19    0    0    0    6    0    2   99    0    0    0   39\n",
            "     4    0    0   12    0    0    0    0    2    0    0    1    0    0]\n",
            " [   0    0    0    0    0    0    0    0    0    0    0    0    0    0\n",
            "     0    0    1    0    0    0    0    0    0    0    0    1    0    0]\n",
            " [   1    0    5    0    0    0    0    1    0    0    0    4    0    1\n",
            "     0    1    4    0    0    2    0    0    0    0    0    0    0    0]\n",
            " [  19    0   25    0    0    0    2    0    2    1    0    0   95   35\n",
            "     2    0    0    0    0    1    0    0    0    0    0    1    0    1]\n",
            " [  46   25   45    0    0    0    9    1    5   13    0    2   12 1003\n",
            "     8    1    0   17    0    0    0    0    2    3    1    3    0    3]\n",
            " [   2    0   41    0    0    0    3    0   30    4    0    0    1   14\n",
            "   275    0    1    7    0    0    0    0    0    0    0   12    1    1]\n",
            " [   0    0    5    0    0    0    0    0    1    0    0    2    0    2\n",
            "     0   20    4    0    0    3    0    0    0    2    0    1    0    0]\n",
            " [   0    0   57    0    0    0    0   12   18    0    0    2    0    2\n",
            "     0    0  172    0    0    1    0    0    0    0    0   12    0    0]\n",
            " [   7    1   31    1    0    1   13    0    3    9    0    0    0   26\n",
            "     6    0    0  159    0    0    0    0    0    0    0    1    0    4]\n",
            " [   2    0    9    0    0    0    0    2    7    0    0    0    0    1\n",
            "     0    0    1    0    0    0    0    0    0    0    0    0    1    1]\n",
            " [   2    1    4    0    0    0    0    0    4    1    0    2    0    4\n",
            "     0    2    1    0    0   15    0    0    0    5    0    1    0    0]\n",
            " [   0    0    3    0    0    0    0    1    1    0    0    0    0    1\n",
            "     0    0    3    0    0    1    0    1    0    0    0    1    0    0]\n",
            " [   0    1    4    0    0    0    0    1    1    0    0    0    0    0\n",
            "     0    0    1    0    0    0    1    1    0    0    0    0    0    0]\n",
            " [   0    0    5    0    0    0    0    0    5    3    0    0    0    5\n",
            "     1    0    1    0    0    0    0    0   46    0    1    1    0    0]\n",
            " [   0    0    3    0    0    0    0    0    0    0    0    1    0    2\n",
            "     0    0    0    0    0    2    0    0    0   49    0    2    0    0]\n",
            " [   2    1    2    0    0    0    0    0    1    0    0    0    5   26\n",
            "     0    0    0    0    0    0    0    0    0    0  103    0    0    1]\n",
            " [   4    3   39    0    0    2    0    6   26    0    0    0    0    2\n",
            "     1    0    3    0    0    0    0    0    1    2    0  184    1    0]\n",
            " [   0    1   12    0    0    2    0    0   20    0    0    1    1    3\n",
            "     2    0    1    0    1    0    0    0    0    0    0   20   16    0]\n",
            " [   0    2   15    0    0    1    0    0    3    0    0    0    0    1\n",
            "     0    0    0    1    0    0    0    0    0    0    0    1    0   13]], shape=(28, 28), dtype=int32)\n"
          ]
        }
      ]
    },
    {
      "cell_type": "code",
      "source": [
        "plt.matshow(confusion, cmap=plt.cm.gray)"
      ],
      "metadata": {
        "colab": {
          "base_uri": "https://localhost:8080/",
          "height": 293
        },
        "id": "HB_2m4_IZeFY",
        "outputId": "480b64b9-4bd1-4a62-f2ae-5e5ec397f10c"
      },
      "execution_count": 31,
      "outputs": [
        {
          "output_type": "execute_result",
          "data": {
            "text/plain": [
              "<matplotlib.image.AxesImage at 0x7f2d8e941f50>"
            ]
          },
          "metadata": {},
          "execution_count": 31
        },
        {
          "output_type": "display_data",
          "data": {
            "image/png": "[encoded data removed]",
            "text/plain": [
              "<Figure size 288x288 with 1 Axes>"
            ]
          },
          "metadata": {
            "needs_background": "light"
          }
        }
      ]
    },
    {
      "cell_type": "markdown",
      "source": [
        "### Model3"
      ],
      "metadata": {
        "id": "emQ6cp9Ci90b"
      }
    },
    {
      "cell_type": "code",
      "source": [
        "from tensorflow.keras import layers\n",
        "from keras.models import Sequential,Input,Model\n",
        "from keras.layers import Dense, Dropout, Flatten\n",
        "from keras.layers import Conv2D, MaxPooling2D\n",
        "\n",
        "model3 = keras.models.Sequential()\n",
        "model3.add(Conv2D(32, kernel_size=(3, 3),activation='relu',input_shape=(150,200,1),padding='same'))\n",
        "model3.add(MaxPooling2D((2, 2),padding='same'))\n",
        "model3.add(Conv2D(64, (3, 3), activation='relu',padding='same'))\n",
        "model3.add(MaxPooling2D(pool_size=(2, 2),padding='same'))\n",
        "model3.add(Dropout(0.28))\n",
        "model3.add(Conv2D(128, (3, 3), activation='relu',padding='same'))                 \n",
        "model3.add(MaxPooling2D(pool_size=(2, 2),padding='same'))\n",
        "model3.add(Dropout(0.35))\n",
        "model3.add(Conv2D(256, (3, 3), activation='relu',padding='same'))                 \n",
        "model3.add(MaxPooling2D(pool_size=(3, 3),padding='same'))\n",
        "model3.add(Dropout(0.40))\n",
        "model3.add(Conv2D(512, (3, 3), activation='relu',padding='same'))                 \n",
        "model3.add(MaxPooling2D(pool_size=(3, 3),padding='same'))\n",
        "model3.add(Dropout(0.40))\n",
        "model3.add(Flatten())\n",
        "model3.add(Dense(600, activation='relu'))               \n",
        "model3.add(Dense(28, activation='softmax'))"
      ],
      "metadata": {
        "id": "t8NIOYCfjADb"
      },
      "execution_count": null,
      "outputs": []
    },
    {
      "cell_type": "code",
      "source": [
        "model3.compile(optimizer='adam', loss='categorical_crossentropy', metrics=['accuracy'])"
      ],
      "metadata": {
        "id": "u5_HgisOpAvW"
      },
      "execution_count": null,
      "outputs": []
    },
    {
      "cell_type": "code",
      "source": [
        "#model3.fit(X_train, y_train,batch_size=50, epochs=25, validation_data=(X_val, y_val))"
      ],
      "metadata": {
        "id": "0H5bfQslpA0K"
      },
      "execution_count": null,
      "outputs": []
    },
    {
      "cell_type": "code",
      "source": [
        "model3.save('drive/MyDrive/CNN5Conv4Drop3X3pool_81%Acc')"
      ],
      "metadata": {
        "id": "Fd4Y_lG6uP_g",
        "colab": {
          "base_uri": "https://localhost:8080/"
        },
        "outputId": "7268bbde-085f-4af8-dec4-0386c3ed0175"
      },
      "execution_count": null,
      "outputs": [
        {
          "output_type": "stream",
          "name": "stdout",
          "text": [
            "INFO:tensorflow:Assets written to: drive/MyDrive/CNN5Conv4Drop3X3pool_81%Acc/assets\n"
          ]
        }
      ]
    },
    {
      "cell_type": "markdown",
      "source": [
        "### Model4"
      ],
      "metadata": {
        "id": "SCtu3X1b4HrX"
      }
    },
    {
      "cell_type": "code",
      "source": [
        "from tensorflow.keras import layers\n",
        "from keras.models import Sequential,Input,Model\n",
        "from keras.layers import Dense, Dropout, Flatten\n",
        "from keras.layers import Conv2D, MaxPooling2D\n",
        "\n",
        "model4 = keras.models.Sequential()\n",
        "model4.add(Conv2D(32, kernel_size=(3, 3),activation='relu',input_shape=(150,200,1),padding='same'))\n",
        "model4.add(MaxPooling2D((2, 2),padding='same'))\n",
        "model4.add(Conv2D(64, (3, 3), activation='relu',padding='same'))\n",
        "model4.add(MaxPooling2D(pool_size=(2, 2),padding='same'))\n",
        "model4.add(Dropout(0.28))\n",
        "model4.add(Conv2D(128, (3, 3), activation='relu',padding='same'))                 \n",
        "model4.add(MaxPooling2D(pool_size=(2, 2),padding='same'))\n",
        "model4.add(Dropout(0.35))\n",
        "model4.add(Conv2D(256, (3, 3), activation='relu',padding='same'))                 \n",
        "model4.add(MaxPooling2D(pool_size=(3, 3),padding='same'))\n",
        "model4.add(Dropout(0.40))\n",
        "model4.add(Conv2D(512, (3, 3), activation='relu',padding='same'))                 \n",
        "model4.add(MaxPooling2D(pool_size=(3, 3),padding='same'))\n",
        "model4.add(Dropout(0.40))\n",
        "model4.add(Conv2D(800, (3, 3), activation='relu',padding='same'))                 \n",
        "model4.add(MaxPooling2D(pool_size=(2, 2),padding='same'))\n",
        "model4.add(Dropout(0.40))\n",
        "model4.add(Flatten())\n",
        "model4.add(Dense(600, activation='relu'))               \n",
        "model4.add(Dense(28, activation='softmax'))"
      ],
      "metadata": {
        "id": "-HgYP1Ql4GMg"
      },
      "execution_count": null,
      "outputs": []
    },
    {
      "cell_type": "code",
      "source": [
        "model4.compile(optimizer='adam', loss='categorical_crossentropy', metrics=['accuracy'])"
      ],
      "metadata": {
        "id": "ZWPHg7Tq4GQM"
      },
      "execution_count": null,
      "outputs": []
    },
    {
      "cell_type": "code",
      "source": [
        "model4.fit(X_train, y_train,batch_size=80, epochs=5, validation_data=(X_val, y_val))"
      ],
      "metadata": {
        "colab": {
          "base_uri": "https://localhost:8080/"
        },
        "id": "Mp9hfR-l4GTy",
        "outputId": "0fa6635e-f057-43f7-e62a-06ad1309aa53"
      },
      "execution_count": null,
      "outputs": [
        {
          "output_type": "stream",
          "name": "stdout",
          "text": [
            "Epoch 1/5\n",
            "414/414 [==============================] - 27s 65ms/step - loss: 0.3704 - accuracy: 0.8771 - val_loss: 0.5870 - val_accuracy: 0.8296\n",
            "Epoch 2/5\n",
            "414/414 [==============================] - 25s 60ms/step - loss: 0.3764 - accuracy: 0.8758 - val_loss: 0.6163 - val_accuracy: 0.8210\n",
            "Epoch 3/5\n",
            "414/414 [==============================] - 25s 60ms/step - loss: 0.3744 - accuracy: 0.8774 - val_loss: 0.6220 - val_accuracy: 0.8131\n",
            "Epoch 4/5\n",
            "414/414 [==============================] - 25s 60ms/step - loss: 0.3735 - accuracy: 0.8784 - val_loss: 0.5405 - val_accuracy: 0.8450\n",
            "Epoch 5/5\n",
            "414/414 [==============================] - 25s 60ms/step - loss: 0.3640 - accuracy: 0.8804 - val_loss: 0.5906 - val_accuracy: 0.8285\n"
          ]
        },
        {
          "output_type": "execute_result",
          "data": {
            "text/plain": [
              "<keras.callbacks.History at 0x7fa9464fc350>"
            ]
          },
          "metadata": {},
          "execution_count": 13
        }
      ]
    },
    {
      "cell_type": "code",
      "source": [
        "model4.save('drive/MyDrive/CNN6Conv5Drop3X3pool_84%ValAcc88%train')"
      ],
      "metadata": {
        "colab": {
          "base_uri": "https://localhost:8080/"
        },
        "id": "w0B9OWxjH5D3",
        "outputId": "51b15bea-4b92-4268-9b65-6026443356dd"
      },
      "execution_count": null,
      "outputs": [
        {
          "output_type": "stream",
          "name": "stdout",
          "text": [
            "INFO:tensorflow:Assets written to: drive/MyDrive/CNN6Conv5Drop3X3pool_84%ValAcc88%train/assets\n"
          ]
        }
      ]
    },
    {
      "cell_type": "code",
      "source": [
        ""
      ],
      "metadata": {
        "id": "q6pKn-8ie3gj"
      },
      "execution_count": null,
      "outputs": []
    },
    {
      "cell_type": "markdown",
      "source": [
        "### AlexNet Inspired\n",
        "##### possibly overcomplicated. Maybe more useful for identifying individuals"
      ],
      "metadata": {
        "id": "KfNrC3uJseDg"
      }
    },
    {
      "cell_type": "code",
      "source": [
        "from tensorflow.keras import layers\n",
        "from keras.models import Sequential,Input,Model\n",
        "from keras.layers import Dense, Dropout, Flatten\n",
        "from keras.layers import Conv2D, MaxPooling2D"
      ],
      "metadata": {
        "id": "C4AY4l1TsieM"
      },
      "execution_count": null,
      "outputs": []
    },
    {
      "cell_type": "code",
      "source": [
        "modelA = keras.models.Sequential()\n",
        "modelA.add(Conv2D(96, kernel_size=(9, 9), strides=(3, 3), activation='relu',input_shape=(150,200,1),padding='same'))\n",
        "modelA.add(MaxPooling2D((3, 3),padding='same'))\n",
        "modelA.add(Dropout(0.20))\n",
        "modelA.add(Conv2D(256, kernel_size=(4, 4), strides=(2,2), activation='relu', padding='same'))\n",
        "modelA.add(MaxPooling2D((3, 3),padding='same'))\n",
        "modelA.add(Dropout(0.35))\n",
        "modelA.add(Conv2D(384, kernel_size=(3, 3), activation='relu', padding='same'))\n",
        "modelA.add(Dropout(.45))\n",
        "modelA.add(Conv2D(384, kernel_size=(3, 3), activation='relu', padding='same'))\n",
        "modelA.add(MaxPooling2D((2,2), padding='same'))\n",
        "modelA.add(Flatten())\n",
        "modelA.add(Dense(168, activation='relu'))               \n",
        "modelA.add(Dense(28, activation='softmax'))\n"
      ],
      "metadata": {
        "id": "o8pJWJPQt8Y-"
      },
      "execution_count": null,
      "outputs": []
    },
    {
      "cell_type": "code",
      "source": [
        "modelA.compile(optimizer='adam', loss='categorical_crossentropy', metrics=['accuracy'])"
      ],
      "metadata": {
        "id": "P8zDKo45MMlK"
      },
      "execution_count": null,
      "outputs": []
    },
    {
      "cell_type": "code",
      "source": [
        "modelA.fit(X_train, y_train,batch_size=80, epochs=20, validation_data=(X_val, y_val))"
      ],
      "metadata": {
        "colab": {
          "base_uri": "https://localhost:8080/"
        },
        "id": "R4EFZt_tMMoq",
        "outputId": "14536325-e935-4902-8510-86b52a38f629"
      },
      "execution_count": null,
      "outputs": [
        {
          "output_type": "stream",
          "name": "stdout",
          "text": [
            "Epoch 1/20\n",
            "414/414 [==============================] - 38s 46ms/step - loss: 2.0749 - accuracy: 0.3780 - val_loss: 1.6158 - val_accuracy: 0.4933\n",
            "Epoch 2/20\n",
            "414/414 [==============================] - 16s 40ms/step - loss: 1.4190 - accuracy: 0.5700 - val_loss: 1.2672 - val_accuracy: 0.6067\n",
            "Epoch 3/20\n",
            "414/414 [==============================] - 17s 41ms/step - loss: 1.2392 - accuracy: 0.6174 - val_loss: 1.1187 - val_accuracy: 0.6576\n",
            "Epoch 4/20\n",
            "414/414 [==============================] - 17s 40ms/step - loss: 1.1312 - accuracy: 0.6494 - val_loss: 1.1097 - val_accuracy: 0.6593\n",
            "Epoch 5/20\n",
            "414/414 [==============================] - 17s 40ms/step - loss: 1.0517 - accuracy: 0.6706 - val_loss: 1.0119 - val_accuracy: 0.6844\n",
            "Epoch 6/20\n",
            "414/414 [==============================] - 16s 40ms/step - loss: 0.9896 - accuracy: 0.6885 - val_loss: 1.0131 - val_accuracy: 0.6889\n",
            "Epoch 7/20\n",
            "414/414 [==============================] - 17s 40ms/step - loss: 0.9415 - accuracy: 0.7017 - val_loss: 0.8983 - val_accuracy: 0.7223\n",
            "Epoch 8/20\n",
            "414/414 [==============================] - 17s 40ms/step - loss: 0.8889 - accuracy: 0.7158 - val_loss: 0.8835 - val_accuracy: 0.7265\n",
            "Epoch 9/20\n",
            "414/414 [==============================] - 17s 40ms/step - loss: 0.8495 - accuracy: 0.7279 - val_loss: 0.8688 - val_accuracy: 0.7289\n",
            "Epoch 10/20\n",
            "414/414 [==============================] - 17s 40ms/step - loss: 0.8178 - accuracy: 0.7374 - val_loss: 0.8608 - val_accuracy: 0.7284\n",
            "Epoch 11/20\n",
            "414/414 [==============================] - 17s 40ms/step - loss: 0.7929 - accuracy: 0.7445 - val_loss: 0.8535 - val_accuracy: 0.7327\n",
            "Epoch 12/20\n",
            "414/414 [==============================] - 17s 40ms/step - loss: 0.7667 - accuracy: 0.7535 - val_loss: 0.8352 - val_accuracy: 0.7411\n",
            "Epoch 13/20\n",
            "414/414 [==============================] - 17s 40ms/step - loss: 0.7331 - accuracy: 0.7619 - val_loss: 0.8016 - val_accuracy: 0.7502\n",
            "Epoch 14/20\n",
            "414/414 [==============================] - 17s 40ms/step - loss: 0.7117 - accuracy: 0.7683 - val_loss: 0.8036 - val_accuracy: 0.7517\n",
            "Epoch 15/20\n",
            "414/414 [==============================] - 17s 40ms/step - loss: 0.6775 - accuracy: 0.7771 - val_loss: 0.7844 - val_accuracy: 0.7592\n",
            "Epoch 16/20\n",
            "414/414 [==============================] - 17s 40ms/step - loss: 0.6629 - accuracy: 0.7838 - val_loss: 0.8017 - val_accuracy: 0.7514\n",
            "Epoch 17/20\n",
            "414/414 [==============================] - 17s 40ms/step - loss: 0.6482 - accuracy: 0.7861 - val_loss: 0.8033 - val_accuracy: 0.7538\n",
            "Epoch 18/20\n",
            "414/414 [==============================] - 17s 40ms/step - loss: 0.6326 - accuracy: 0.7909 - val_loss: 0.7939 - val_accuracy: 0.7572\n",
            "Epoch 19/20\n",
            "414/414 [==============================] - 17s 40ms/step - loss: 0.6182 - accuracy: 0.7942 - val_loss: 0.7877 - val_accuracy: 0.7555\n",
            "Epoch 20/20\n",
            "414/414 [==============================] - 17s 40ms/step - loss: 0.5899 - accuracy: 0.8042 - val_loss: 0.7952 - val_accuracy: 0.7580\n"
          ]
        },
        {
          "output_type": "execute_result",
          "data": {
            "text/plain": [
              "<keras.callbacks.History at 0x7f097e236c10>"
            ]
          },
          "metadata": {},
          "execution_count": 9
        }
      ]
    }
  ]
}