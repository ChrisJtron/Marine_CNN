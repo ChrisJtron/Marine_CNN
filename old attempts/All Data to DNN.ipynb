{
 "cells": [
  {
   "cell_type": "code",
   "execution_count": 1,
   "metadata": {},
   "outputs": [],
   "source": [
    "import pandas as pd\n",
    "import numpy as np\n",
    "import matplotlib.pyplot as plt\n",
    "import PIL\n",
    "from PIL import Image\n",
    "from numpy import asarray\n",
    "import glob\n",
    "import cv2\n",
    "import tensorflow as tf\n",
    "from tensorflow import keras"
   ]
  },
  {
   "cell_type": "markdown",
   "metadata": {},
   "source": [
    "## Import Data"
   ]
  },
  {
   "cell_type": "markdown",
   "metadata": {},
   "source": [
    "### Train.csv"
   ]
  },
  {
   "cell_type": "code",
   "execution_count": 2,
   "metadata": {},
   "outputs": [],
   "source": [
    "all_labels=pd.read_csv('train.csv')"
   ]
  },
  {
   "cell_type": "code",
   "execution_count": 3,
   "metadata": {},
   "outputs": [
    {
     "data": {
      "text/html": [
       "<div>\n",
       "<style scoped>\n",
       "    .dataframe tbody tr th:only-of-type {\n",
       "        vertical-align: middle;\n",
       "    }\n",
       "\n",
       "    .dataframe tbody tr th {\n",
       "        vertical-align: top;\n",
       "    }\n",
       "\n",
       "    .dataframe thead th {\n",
       "        text-align: right;\n",
       "    }\n",
       "</style>\n",
       "<table border=\"1\" class=\"dataframe\">\n",
       "  <thead>\n",
       "    <tr style=\"text-align: right;\">\n",
       "      <th></th>\n",
       "      <th>file_name</th>\n",
       "      <th>species</th>\n",
       "      <th>individual_id</th>\n",
       "    </tr>\n",
       "  </thead>\n",
       "  <tbody>\n",
       "    <tr>\n",
       "      <th>0</th>\n",
       "      <td>00021adfb725ed.jpg</td>\n",
       "      <td>melon_headed_whale</td>\n",
       "      <td>cadddb1636b9</td>\n",
       "    </tr>\n",
       "    <tr>\n",
       "      <th>1</th>\n",
       "      <td>000562241d384d.jpg</td>\n",
       "      <td>humpback_whale</td>\n",
       "      <td>1a71fbb72250</td>\n",
       "    </tr>\n",
       "    <tr>\n",
       "      <th>2</th>\n",
       "      <td>0007c33415ce37.jpg</td>\n",
       "      <td>false_killer_whale</td>\n",
       "      <td>60008f293a2b</td>\n",
       "    </tr>\n",
       "  </tbody>\n",
       "</table>\n",
       "</div>"
      ],
      "text/plain": [
       "            file_name             species individual_id\n",
       "0  00021adfb725ed.jpg  melon_headed_whale  cadddb1636b9\n",
       "1  000562241d384d.jpg      humpback_whale  1a71fbb72250\n",
       "2  0007c33415ce37.jpg  false_killer_whale  60008f293a2b"
      ]
     },
     "execution_count": 3,
     "metadata": {},
     "output_type": "execute_result"
    }
   ],
   "source": [
    "Labels_DF=pd.DataFrame(all_labels)\n",
    "Labels_DF.rename(columns={'image':'file_name'}, inplace=True)\n",
    "Labels_DF.head(3)"
   ]
  },
  {
   "cell_type": "code",
   "execution_count": 4,
   "metadata": {},
   "outputs": [],
   "source": [
    "#Labels_DF['species'].value_counts()"
   ]
  },
  {
   "cell_type": "code",
   "execution_count": 4,
   "metadata": {},
   "outputs": [],
   "source": [
    "## species with incorrect spellings.  bottlenose_dolpin, kiler_whale.\n",
    "Labels_DF['species'].replace('bottlenose_dolpin', 'bottlenose_dolphin', inplace=True)\n",
    "Labels_DF['species'].replace('kiler_whale', 'killer_whale', inplace=True)"
   ]
  },
  {
   "cell_type": "code",
   "execution_count": 5,
   "metadata": {},
   "outputs": [],
   "source": [
    "## create subcategory for whale or dolphin\n",
    "sub=[]\n",
    "for each in Labels_DF['species']:\n",
    "    if 'dolphin' in each:\n",
    "        a=1\n",
    "    else: a=2\n",
    "    sub.append(a)"
   ]
  },
  {
   "cell_type": "code",
   "execution_count": 6,
   "metadata": {},
   "outputs": [],
   "source": [
    "Labels_DF['sub_cat']=sub"
   ]
  },
  {
   "cell_type": "code",
   "execution_count": 7,
   "metadata": {},
   "outputs": [],
   "source": [
    "## create species cat numerical\n",
    "from sklearn.preprocessing import OrdinalEncoder\n",
    "OE=OrdinalEncoder()\n",
    "SE=OE.fit_transform(Labels_DF[['species']])\n",
    "Labels_DF['species_category']=SE.astype(int)"
   ]
  },
  {
   "cell_type": "code",
   "execution_count": 8,
   "metadata": {
    "scrolled": true
   },
   "outputs": [
    {
     "data": {
      "text/html": [
       "<div>\n",
       "<style scoped>\n",
       "    .dataframe tbody tr th:only-of-type {\n",
       "        vertical-align: middle;\n",
       "    }\n",
       "\n",
       "    .dataframe tbody tr th {\n",
       "        vertical-align: top;\n",
       "    }\n",
       "\n",
       "    .dataframe thead th {\n",
       "        text-align: right;\n",
       "    }\n",
       "</style>\n",
       "<table border=\"1\" class=\"dataframe\">\n",
       "  <thead>\n",
       "    <tr style=\"text-align: right;\">\n",
       "      <th></th>\n",
       "      <th>file_name</th>\n",
       "      <th>species</th>\n",
       "      <th>individual_id</th>\n",
       "      <th>sub_cat</th>\n",
       "      <th>species_category</th>\n",
       "    </tr>\n",
       "  </thead>\n",
       "  <tbody>\n",
       "    <tr>\n",
       "      <th>0</th>\n",
       "      <td>00021adfb725ed.jpg</td>\n",
       "      <td>melon_headed_whale</td>\n",
       "      <td>cadddb1636b9</td>\n",
       "      <td>2</td>\n",
       "      <td>16</td>\n",
       "    </tr>\n",
       "    <tr>\n",
       "      <th>1</th>\n",
       "      <td>000562241d384d.jpg</td>\n",
       "      <td>humpback_whale</td>\n",
       "      <td>1a71fbb72250</td>\n",
       "      <td>2</td>\n",
       "      <td>13</td>\n",
       "    </tr>\n",
       "    <tr>\n",
       "      <th>2</th>\n",
       "      <td>0007c33415ce37.jpg</td>\n",
       "      <td>false_killer_whale</td>\n",
       "      <td>60008f293a2b</td>\n",
       "      <td>2</td>\n",
       "      <td>8</td>\n",
       "    </tr>\n",
       "    <tr>\n",
       "      <th>3</th>\n",
       "      <td>0007d9bca26a99.jpg</td>\n",
       "      <td>bottlenose_dolphin</td>\n",
       "      <td>4b00fe572063</td>\n",
       "      <td>1</td>\n",
       "      <td>2</td>\n",
       "    </tr>\n",
       "    <tr>\n",
       "      <th>4</th>\n",
       "      <td>00087baf5cef7a.jpg</td>\n",
       "      <td>humpback_whale</td>\n",
       "      <td>8e5253662392</td>\n",
       "      <td>2</td>\n",
       "      <td>13</td>\n",
       "    </tr>\n",
       "    <tr>\n",
       "      <th>5</th>\n",
       "      <td>000a8f2d5c316a.jpg</td>\n",
       "      <td>bottlenose_dolphin</td>\n",
       "      <td>b9907151f66e</td>\n",
       "      <td>1</td>\n",
       "      <td>2</td>\n",
       "    </tr>\n",
       "  </tbody>\n",
       "</table>\n",
       "</div>"
      ],
      "text/plain": [
       "            file_name             species individual_id  sub_cat  \\\n",
       "0  00021adfb725ed.jpg  melon_headed_whale  cadddb1636b9        2   \n",
       "1  000562241d384d.jpg      humpback_whale  1a71fbb72250        2   \n",
       "2  0007c33415ce37.jpg  false_killer_whale  60008f293a2b        2   \n",
       "3  0007d9bca26a99.jpg  bottlenose_dolphin  4b00fe572063        1   \n",
       "4  00087baf5cef7a.jpg      humpback_whale  8e5253662392        2   \n",
       "5  000a8f2d5c316a.jpg  bottlenose_dolphin  b9907151f66e        1   \n",
       "\n",
       "   species_category  \n",
       "0                16  \n",
       "1                13  \n",
       "2                 8  \n",
       "3                 2  \n",
       "4                13  \n",
       "5                 2  "
      ]
     },
     "execution_count": 8,
     "metadata": {},
     "output_type": "execute_result"
    }
   ],
   "source": [
    "Labels_DF.head(6)"
   ]
  },
  {
   "cell_type": "code",
   "execution_count": 9,
   "metadata": {
    "scrolled": false
   },
   "outputs": [
    {
     "data": {
      "text/plain": [
       "28"
      ]
     },
     "execution_count": 9,
     "metadata": {},
     "output_type": "execute_result"
    }
   ],
   "source": [
    "len(Labels_DF['species_category'].value_counts())"
   ]
  },
  {
   "cell_type": "code",
   "execution_count": 42,
   "metadata": {},
   "outputs": [
    {
     "data": {
      "text/plain": [
       "2     10781\n",
       "0      7443\n",
       "13     7392\n",
       "1      4830\n",
       "8      3326\n",
       "7      3139\n",
       "14     2455\n",
       "25     1700\n",
       "16     1689\n",
       "17     1608\n",
       "9      1324\n",
       "12     1123\n",
       "24      866\n",
       "26      490\n",
       "22      428\n",
       "23      367\n",
       "5       347\n",
       "6       341\n",
       "19      262\n",
       "15      238\n",
       "27      229\n",
       "3       154\n",
       "18      145\n",
       "11      116\n",
       "4        90\n",
       "20       76\n",
       "21       60\n",
       "10       14\n",
       "Name: species_category, dtype: int64"
      ]
     },
     "execution_count": 42,
     "metadata": {},
     "output_type": "execute_result"
    }
   ],
   "source": [
    "Labels_DF['species_category'].value_counts()"
   ]
  },
  {
   "cell_type": "code",
   "execution_count": 25,
   "metadata": {},
   "outputs": [],
   "source": [
    "Species_Key=pd.DataFrame({\n",
    "    'Species': Labels_DF['species'].unique(),\n",
    "    'Key': Labels_DF['species_category'].unique()\n",
    "})"
   ]
  },
  {
   "cell_type": "code",
   "execution_count": 26,
   "metadata": {},
   "outputs": [
    {
     "data": {
      "text/html": [
       "<div>\n",
       "<style scoped>\n",
       "    .dataframe tbody tr th:only-of-type {\n",
       "        vertical-align: middle;\n",
       "    }\n",
       "\n",
       "    .dataframe tbody tr th {\n",
       "        vertical-align: top;\n",
       "    }\n",
       "\n",
       "    .dataframe thead th {\n",
       "        text-align: right;\n",
       "    }\n",
       "</style>\n",
       "<table border=\"1\" class=\"dataframe\">\n",
       "  <thead>\n",
       "    <tr style=\"text-align: right;\">\n",
       "      <th></th>\n",
       "      <th>Species</th>\n",
       "      <th>Key</th>\n",
       "    </tr>\n",
       "  </thead>\n",
       "  <tbody>\n",
       "    <tr>\n",
       "      <th>0</th>\n",
       "      <td>melon_headed_whale</td>\n",
       "      <td>16</td>\n",
       "    </tr>\n",
       "    <tr>\n",
       "      <th>1</th>\n",
       "      <td>humpback_whale</td>\n",
       "      <td>13</td>\n",
       "    </tr>\n",
       "    <tr>\n",
       "      <th>2</th>\n",
       "      <td>false_killer_whale</td>\n",
       "      <td>8</td>\n",
       "    </tr>\n",
       "    <tr>\n",
       "      <th>3</th>\n",
       "      <td>bottlenose_dolphin</td>\n",
       "      <td>2</td>\n",
       "    </tr>\n",
       "    <tr>\n",
       "      <th>4</th>\n",
       "      <td>beluga</td>\n",
       "      <td>0</td>\n",
       "    </tr>\n",
       "    <tr>\n",
       "      <th>5</th>\n",
       "      <td>minke_whale</td>\n",
       "      <td>17</td>\n",
       "    </tr>\n",
       "    <tr>\n",
       "      <th>6</th>\n",
       "      <td>fin_whale</td>\n",
       "      <td>9</td>\n",
       "    </tr>\n",
       "    <tr>\n",
       "      <th>7</th>\n",
       "      <td>blue_whale</td>\n",
       "      <td>1</td>\n",
       "    </tr>\n",
       "    <tr>\n",
       "      <th>8</th>\n",
       "      <td>gray_whale</td>\n",
       "      <td>12</td>\n",
       "    </tr>\n",
       "    <tr>\n",
       "      <th>9</th>\n",
       "      <td>southern_right_whale</td>\n",
       "      <td>24</td>\n",
       "    </tr>\n",
       "    <tr>\n",
       "      <th>10</th>\n",
       "      <td>common_dolphin</td>\n",
       "      <td>5</td>\n",
       "    </tr>\n",
       "    <tr>\n",
       "      <th>11</th>\n",
       "      <td>killer_whale</td>\n",
       "      <td>14</td>\n",
       "    </tr>\n",
       "    <tr>\n",
       "      <th>12</th>\n",
       "      <td>pilot_whale</td>\n",
       "      <td>19</td>\n",
       "    </tr>\n",
       "    <tr>\n",
       "      <th>13</th>\n",
       "      <td>dusky_dolphin</td>\n",
       "      <td>7</td>\n",
       "    </tr>\n",
       "    <tr>\n",
       "      <th>14</th>\n",
       "      <td>long_finned_pilot_whale</td>\n",
       "      <td>15</td>\n",
       "    </tr>\n",
       "    <tr>\n",
       "      <th>15</th>\n",
       "      <td>sei_whale</td>\n",
       "      <td>22</td>\n",
       "    </tr>\n",
       "    <tr>\n",
       "      <th>16</th>\n",
       "      <td>spinner_dolphin</td>\n",
       "      <td>25</td>\n",
       "    </tr>\n",
       "    <tr>\n",
       "      <th>17</th>\n",
       "      <td>cuviers_beaked_whale</td>\n",
       "      <td>6</td>\n",
       "    </tr>\n",
       "    <tr>\n",
       "      <th>18</th>\n",
       "      <td>spotted_dolphin</td>\n",
       "      <td>26</td>\n",
       "    </tr>\n",
       "    <tr>\n",
       "      <th>19</th>\n",
       "      <td>globis</td>\n",
       "      <td>11</td>\n",
       "    </tr>\n",
       "    <tr>\n",
       "      <th>20</th>\n",
       "      <td>brydes_whale</td>\n",
       "      <td>3</td>\n",
       "    </tr>\n",
       "    <tr>\n",
       "      <th>21</th>\n",
       "      <td>commersons_dolphin</td>\n",
       "      <td>4</td>\n",
       "    </tr>\n",
       "    <tr>\n",
       "      <th>22</th>\n",
       "      <td>white_sided_dolphin</td>\n",
       "      <td>27</td>\n",
       "    </tr>\n",
       "    <tr>\n",
       "      <th>23</th>\n",
       "      <td>short_finned_pilot_whale</td>\n",
       "      <td>23</td>\n",
       "    </tr>\n",
       "    <tr>\n",
       "      <th>24</th>\n",
       "      <td>rough_toothed_dolphin</td>\n",
       "      <td>21</td>\n",
       "    </tr>\n",
       "    <tr>\n",
       "      <th>25</th>\n",
       "      <td>pantropic_spotted_dolphin</td>\n",
       "      <td>18</td>\n",
       "    </tr>\n",
       "    <tr>\n",
       "      <th>26</th>\n",
       "      <td>pygmy_killer_whale</td>\n",
       "      <td>20</td>\n",
       "    </tr>\n",
       "    <tr>\n",
       "      <th>27</th>\n",
       "      <td>frasiers_dolphin</td>\n",
       "      <td>10</td>\n",
       "    </tr>\n",
       "  </tbody>\n",
       "</table>\n",
       "</div>"
      ],
      "text/plain": [
       "                      Species  Key\n",
       "0          melon_headed_whale   16\n",
       "1              humpback_whale   13\n",
       "2          false_killer_whale    8\n",
       "3          bottlenose_dolphin    2\n",
       "4                      beluga    0\n",
       "5                 minke_whale   17\n",
       "6                   fin_whale    9\n",
       "7                  blue_whale    1\n",
       "8                  gray_whale   12\n",
       "9        southern_right_whale   24\n",
       "10             common_dolphin    5\n",
       "11               killer_whale   14\n",
       "12                pilot_whale   19\n",
       "13              dusky_dolphin    7\n",
       "14    long_finned_pilot_whale   15\n",
       "15                  sei_whale   22\n",
       "16            spinner_dolphin   25\n",
       "17       cuviers_beaked_whale    6\n",
       "18            spotted_dolphin   26\n",
       "19                     globis   11\n",
       "20               brydes_whale    3\n",
       "21         commersons_dolphin    4\n",
       "22        white_sided_dolphin   27\n",
       "23   short_finned_pilot_whale   23\n",
       "24      rough_toothed_dolphin   21\n",
       "25  pantropic_spotted_dolphin   18\n",
       "26         pygmy_killer_whale   20\n",
       "27           frasiers_dolphin   10"
      ]
     },
     "execution_count": 26,
     "metadata": {},
     "output_type": "execute_result"
    }
   ],
   "source": [
    "Species_Key"
   ]
  },
  {
   "cell_type": "markdown",
   "metadata": {},
   "source": [
    "### Separate images into Dolphins and Whales folders"
   ]
  },
  {
   "cell_type": "code",
   "execution_count": 10,
   "metadata": {},
   "outputs": [
    {
     "data": {
      "text/plain": [
       "16995"
      ]
     },
     "execution_count": 10,
     "metadata": {},
     "output_type": "execute_result"
    }
   ],
   "source": [
    "Dolphins=pd.DataFrame(Labels_DF.loc[Labels_DF['sub_cat']==1])\n",
    "Dolphins=Dolphins['file_name']\n",
    "len(Dolphins)"
   ]
  },
  {
   "cell_type": "code",
   "execution_count": 11,
   "metadata": {},
   "outputs": [],
   "source": [
    "# for each in Dolphins:\n",
    "#     try:\n",
    "#         name=each\n",
    "#         img=Image.open(f\"C:\\\\Users\\\\chris\\\\OneDrive\\\\Documents\\\\Extracurricular_projects\\\\Kaggle_Marine_Life\\\\train_images/{name}\")\n",
    "#         img.save(f\"Labels/Dolphins_Full/{name}.jpg\")\n",
    "#     except:\n",
    "#         print(f\"No file found {name}\")"
   ]
  },
  {
   "cell_type": "code",
   "execution_count": 13,
   "metadata": {},
   "outputs": [
    {
     "data": {
      "text/plain": [
       "34038"
      ]
     },
     "execution_count": 13,
     "metadata": {},
     "output_type": "execute_result"
    }
   ],
   "source": [
    "Whales=pd.DataFrame(Labels_DF.loc[Labels_DF['sub_cat']==2])\n",
    "Whales=Whales['file_name']\n",
    "len(Whales)"
   ]
  },
  {
   "cell_type": "code",
   "execution_count": 45,
   "metadata": {},
   "outputs": [],
   "source": [
    "# for each in Whales:\n",
    "#     try:\n",
    "#         name=each\n",
    "#         img=Image.open(f\"C:\\\\Users\\\\chris\\\\OneDrive\\\\Documents\\\\Extracurricular_projects\\\\Kaggle_Marine_Life\\\\train_images/{name}\")\n",
    "#         img.save(f\"Labels/Whales_Full/{name}.jpg\")\n",
    "#     except:print(f\"No file found: {name}\")"
   ]
  },
  {
   "cell_type": "code",
   "execution_count": 46,
   "metadata": {},
   "outputs": [
    {
     "name": "stdout",
     "output_type": "stream",
     "text": [
      "Found 51033 files belonging to 2 classes.\n"
     ]
    }
   ],
   "source": [
    "dataset=keras.preprocessing.image_dataset_from_directory('Labels', batch_size=50, image_size=(150,150))"
   ]
  },
  {
   "cell_type": "code",
   "execution_count": 23,
   "metadata": {},
   "outputs": [
    {
     "name": "stdout",
     "output_type": "stream",
     "text": [
      "(20, 150, 150, 3)\n",
      "<dtype: 'float32'>\n",
      "(20,)\n",
      "<dtype: 'int32'>\n",
      "(20, 150, 150, 3)\n",
      "<dtype: 'float32'>\n",
      "(20,)\n",
      "<dtype: 'int32'>\n",
      "(20, 150, 150, 3)\n",
      "<dtype: 'float32'>\n",
      "(20,)\n",
      "<dtype: 'int32'>\n",
      "(20, 150, 150, 3)\n",
      "<dtype: 'float32'>\n",
      "(20,)\n",
      "<dtype: 'int32'>\n",
      "(20, 150, 150, 3)\n",
      "<dtype: 'float32'>\n",
      "(20,)\n",
      "<dtype: 'int32'>\n",
      "(20, 150, 150, 3)\n",
      "<dtype: 'float32'>\n",
      "(20,)\n",
      "<dtype: 'int32'>\n",
      "(20, 150, 150, 3)\n",
      "<dtype: 'float32'>\n",
      "(20,)\n",
      "<dtype: 'int32'>\n",
      "(12, 150, 150, 3)\n",
      "<dtype: 'float32'>\n",
      "(12,)\n",
      "<dtype: 'int32'>\n"
     ]
    }
   ],
   "source": [
    "for data, label in dataset:\n",
    "    print(data.shape)\n",
    "    print(data.dtype)\n",
    "    print(label.shape)\n",
    "    print(label.dtype)"
   ]
  },
  {
   "cell_type": "code",
   "execution_count": 47,
   "metadata": {},
   "outputs": [],
   "source": [
    "from tensorflow.keras import layers\n",
    "from tensorflow.keras.layers import LayerNormalization\n",
    "\n",
    "model=keras.models.Sequential()\n",
    "model.add(keras.layers.LayerNormalization())\n",
    "model.add(keras.layers.Flatten(input_shape=[150,150,3]))\n",
    "model.add(keras.layers.Dense(150, activation='relu'))\n",
    "model.add(keras.layers.Dense(100, activation='relu'))\n",
    "model.add(keras.layers.Dense(2, activation='softmax'))"
   ]
  },
  {
   "cell_type": "code",
   "execution_count": 48,
   "metadata": {},
   "outputs": [],
   "source": [
    "model.compile(loss=\"sparse_categorical_crossentropy\", optimizer=\"adam\", metrics=['accuracy'])"
   ]
  },
  {
   "cell_type": "code",
   "execution_count": 49,
   "metadata": {},
   "outputs": [
    {
     "name": "stdout",
     "output_type": "stream",
     "text": [
      "Epoch 1/5\n",
      "1021/1021 [==============================] - 1536s 2s/step - loss: 1.2256 - accuracy: 0.7371\n",
      "Epoch 2/5\n",
      "1021/1021 [==============================] - 2061s 2s/step - loss: 0.5612 - accuracy: 0.7842\n",
      "Epoch 3/5\n",
      "1021/1021 [==============================] - 1543s 2s/step - loss: 0.5154 - accuracy: 0.7833\n",
      "Epoch 4/5\n",
      "1021/1021 [==============================] - 1601s 2s/step - loss: 0.4682 - accuracy: 0.8020\n",
      "Epoch 5/5\n",
      "1021/1021 [==============================] - 1569s 2s/step - loss: 0.4443 - accuracy: 0.8084\n"
     ]
    },
    {
     "data": {
      "text/plain": [
       "<tensorflow.python.keras.callbacks.History at 0x2e95b740648>"
      ]
     },
     "execution_count": 49,
     "metadata": {},
     "output_type": "execute_result"
    }
   ],
   "source": [
    "model.fit(dataset, epochs=5)"
   ]
  },
  {
   "cell_type": "markdown",
   "metadata": {},
   "source": [
    "## Separate Dolphins into species of Dolphin"
   ]
  },
  {
   "cell_type": "code",
   "execution_count": 14,
   "metadata": {},
   "outputs": [],
   "source": [
    "Dolphins_Species=pd.DataFrame(Labels_DF.loc[Labels_DF['sub_cat']==1])"
   ]
  },
  {
   "cell_type": "code",
   "execution_count": 38,
   "metadata": {},
   "outputs": [
    {
     "data": {
      "text/plain": [
       "2     10781\n",
       "7      3139\n",
       "25     1700\n",
       "26      490\n",
       "5       347\n",
       "27      229\n",
       "18      145\n",
       "4        90\n",
       "21       60\n",
       "10       14\n",
       "Name: species_category, dtype: int64"
      ]
     },
     "execution_count": 38,
     "metadata": {},
     "output_type": "execute_result"
    }
   ],
   "source": [
    "Dolphins_Species['species_category'].value_counts()"
   ]
  },
  {
   "cell_type": "markdown",
   "metadata": {},
   "source": [
    "#### Consider combining categories with low counts for better training when trying to identify individuals"
   ]
  },
  {
   "cell_type": "code",
   "execution_count": 37,
   "metadata": {},
   "outputs": [
    {
     "data": {
      "text/plain": [
       "15587"
      ]
     },
     "execution_count": 37,
     "metadata": {},
     "output_type": "execute_result"
    }
   ],
   "source": [
    "len(Labels_DF['individual_id'].unique())"
   ]
  },
  {
   "cell_type": "markdown",
   "metadata": {},
   "source": [
    "####  15,587 unique individuals in entire data set (dolphins and whales) 51,000 images.  Cannot make individual id files.\n",
    "####  Species category 10 has 13 unique individuals out of 14 instances."
   ]
  },
  {
   "cell_type": "code",
   "execution_count": null,
   "metadata": {},
   "outputs": [],
   "source": []
  },
  {
   "cell_type": "code",
   "execution_count": null,
   "metadata": {},
   "outputs": [],
   "source": []
  }
 ],
 "metadata": {
  "kernelspec": {
   "display_name": "Python 3",
   "language": "python",
   "name": "python3"
  },
  "language_info": {
   "codemirror_mode": {
    "name": "ipython",
    "version": 3
   },
   "file_extension": ".py",
   "mimetype": "text/x-python",
   "name": "python",
   "nbconvert_exporter": "python",
   "pygments_lexer": "ipython3",
   "version": "3.7.6"
  }
 },
 "nbformat": 4,
 "nbformat_minor": 4
}
