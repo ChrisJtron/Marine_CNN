{
  "nbformat": 4,
  "nbformat_minor": 0,
  "metadata": {
    "colab": {
      "name": "CNN_Species_with_weights.ipynb",
      "provenance": [],
      "collapsed_sections": [],
      "machine_shape": "hm",
      "mount_file_id": "1zHQuvtCTc4mhcbGYhLgV8NcBc1scnGxt",
      "authorship_tag": "ABX9TyMqsXv6d2jXw9beRN6i5cQi"
    },
    "kernelspec": {
      "name": "python3",
      "display_name": "Python 3"
    },
    "language_info": {
      "name": "python"
    },
    "accelerator": "GPU"
  },
  "cells": [
    {
      "cell_type": "code",
      "execution_count": 1,
      "metadata": {
        "id": "uVZsMkbJ1QFJ"
      },
      "outputs": [],
      "source": [
        "import pandas as pd\n",
        "import numpy as np\n",
        "import matplotlib.pyplot as plt\n",
        "import PIL\n",
        "from PIL import Image\n",
        "from numpy import asarray\n",
        "import glob\n",
        "import cv2\n",
        "import tensorflow as tf\n",
        "from tensorflow import keras"
      ]
    },
    {
      "cell_type": "markdown",
      "source": [
        "Import Model"
      ],
      "metadata": {
        "id": "nL74SE0i1luf"
      }
    },
    {
      "cell_type": "code",
      "source": [
        "Weighted_Model=keras.models.load_model('drive/MyDrive/CNNSpeciesAcc0.9133val0.8493')"
      ],
      "metadata": {
        "id": "ppz7lLnp1nwR"
      },
      "execution_count": 2,
      "outputs": []
    },
    {
      "cell_type": "markdown",
      "source": [
        "Import Data"
      ],
      "metadata": {
        "id": "95_r-8e82vzw"
      }
    },
    {
      "cell_type": "code",
      "source": [
        "X_train=np.load('drive/MyDrive/X_train_strat.npy')"
      ],
      "metadata": {
        "id": "5cX7HcSt2xXo"
      },
      "execution_count": 3,
      "outputs": []
    },
    {
      "cell_type": "code",
      "source": [
        "y_train=np.load('drive/MyDrive/y_train_strat.npy')"
      ],
      "metadata": {
        "id": "3pRZCNjg25Kj"
      },
      "execution_count": 4,
      "outputs": []
    },
    {
      "cell_type": "code",
      "source": [
        "X_val=np.load('drive/MyDrive/X_val_strat.npy')"
      ],
      "metadata": {
        "id": "_S7OgLSv25Ci"
      },
      "execution_count": 5,
      "outputs": []
    },
    {
      "cell_type": "code",
      "source": [
        "y_val=np.load('drive/MyDrive/y_val_strat.npy')"
      ],
      "metadata": {
        "id": "z3X1v_lq24_L"
      },
      "execution_count": 6,
      "outputs": []
    },
    {
      "cell_type": "markdown",
      "source": [
        "Get val data probabilities"
      ],
      "metadata": {
        "id": "4_VR8SzD35QM"
      }
    },
    {
      "cell_type": "code",
      "source": [
        "y_proba=Weighted_Model.predict(X_val)"
      ],
      "metadata": {
        "id": "FB11buJM4C1r"
      },
      "execution_count": 8,
      "outputs": []
    },
    {
      "cell_type": "code",
      "source": [
        "y_proba[1]"
      ],
      "metadata": {
        "colab": {
          "base_uri": "https://localhost:8080/"
        },
        "id": "xpjxUTv-7ylc",
        "outputId": "639992e1-6154-4a42-f3d5-8ac4fbf2b8b4"
      },
      "execution_count": 24,
      "outputs": [
        {
          "output_type": "execute_result",
          "data": {
            "text/plain": [
              "array([3.6509523e-01, 5.0902268e-05, 1.5057340e-02, 1.4492756e-06,\n",
              "       8.8720004e-13, 2.0239329e-06, 1.9344399e-04, 7.9907053e-12,\n",
              "       3.2738824e-06, 3.8893693e-05, 6.2413468e-22, 9.8532360e-07,\n",
              "       5.1459086e-01, 1.1715768e-02, 5.5191009e-05, 5.8600408e-10,\n",
              "       2.8073862e-06, 9.1593555e-04, 1.9018854e-06, 6.6723654e-10,\n",
              "       1.2768920e-14, 6.2570049e-12, 1.8522220e-08, 1.6897235e-07,\n",
              "       9.2255369e-02, 1.5063279e-07, 3.5252914e-09, 1.8258441e-05],\n",
              "      dtype=float32)"
            ]
          },
          "metadata": {},
          "execution_count": 24
        }
      ]
    },
    {
      "cell_type": "code",
      "source": [
        "# Turn one hot array into integers\n",
        "y_val_1d=np.argmax(y_val, axis=1)\n",
        "y_predictions=np.argmax(y_proba, axis=1)"
      ],
      "metadata": {
        "id": "vZ15ETD46sGv"
      },
      "execution_count": 25,
      "outputs": []
    },
    {
      "cell_type": "code",
      "source": [
        "#my_dict={'y_proba': y_proba, 'y_actual': y_val_1d}\n",
        "\n",
        "y_dataframe=pd.DataFrame({'y_predictions': y_predictions,\n",
        "                          'y_actual': y_val_1d\n",
        "                          })"
      ],
      "metadata": {
        "id": "u2hbxUUp4CyT"
      },
      "execution_count": 26,
      "outputs": []
    },
    {
      "cell_type": "code",
      "source": [
        "y_dataframe"
      ],
      "metadata": {
        "colab": {
          "base_uri": "https://localhost:8080/",
          "height": 424
        },
        "id": "t4oKtFtw4Cvs",
        "outputId": "59eb4393-fea9-410a-b400-9974b4f9c641"
      },
      "execution_count": 27,
      "outputs": [
        {
          "output_type": "execute_result",
          "data": {
            "text/plain": [
              "      y_predictions  y_actual\n",
              "0                25        25\n",
              "1                12        12\n",
              "2                 2         2\n",
              "3                23        23\n",
              "4                 9        14\n",
              "...             ...       ...\n",
              "8268              1         1\n",
              "8269             13        13\n",
              "8270              1         1\n",
              "8271              1         1\n",
              "8272             13        13\n",
              "\n",
              "[8273 rows x 2 columns]"
            ],
            "text/html": [
              "\n",
              "  <div id=\"df-4097c381-5979-4ce7-9adf-382fa43d819b\">\n",
              "    <div class=\"colab-df-container\">\n",
              "      <div>\n",
              "<style scoped>\n",
              "    .dataframe tbody tr th:only-of-type {\n",
              "        vertical-align: middle;\n",
              "    }\n",
              "\n",
              "    .dataframe tbody tr th {\n",
              "        vertical-align: top;\n",
              "    }\n",
              "\n",
              "    .dataframe thead th {\n",
              "        text-align: right;\n",
              "    }\n",
              "</style>\n",
              "<table border=\"1\" class=\"dataframe\">\n",
              "  <thead>\n",
              "    <tr style=\"text-align: right;\">\n",
              "      <th></th>\n",
              "      <th>y_predictions</th>\n",
              "      <th>y_actual</th>\n",
              "    </tr>\n",
              "  </thead>\n",
              "  <tbody>\n",
              "    <tr>\n",
              "      <th>0</th>\n",
              "      <td>25</td>\n",
              "      <td>25</td>\n",
              "    </tr>\n",
              "    <tr>\n",
              "      <th>1</th>\n",
              "      <td>12</td>\n",
              "      <td>12</td>\n",
              "    </tr>\n",
              "    <tr>\n",
              "      <th>2</th>\n",
              "      <td>2</td>\n",
              "      <td>2</td>\n",
              "    </tr>\n",
              "    <tr>\n",
              "      <th>3</th>\n",
              "      <td>23</td>\n",
              "      <td>23</td>\n",
              "    </tr>\n",
              "    <tr>\n",
              "      <th>4</th>\n",
              "      <td>9</td>\n",
              "      <td>14</td>\n",
              "    </tr>\n",
              "    <tr>\n",
              "      <th>...</th>\n",
              "      <td>...</td>\n",
              "      <td>...</td>\n",
              "    </tr>\n",
              "    <tr>\n",
              "      <th>8268</th>\n",
              "      <td>1</td>\n",
              "      <td>1</td>\n",
              "    </tr>\n",
              "    <tr>\n",
              "      <th>8269</th>\n",
              "      <td>13</td>\n",
              "      <td>13</td>\n",
              "    </tr>\n",
              "    <tr>\n",
              "      <th>8270</th>\n",
              "      <td>1</td>\n",
              "      <td>1</td>\n",
              "    </tr>\n",
              "    <tr>\n",
              "      <th>8271</th>\n",
              "      <td>1</td>\n",
              "      <td>1</td>\n",
              "    </tr>\n",
              "    <tr>\n",
              "      <th>8272</th>\n",
              "      <td>13</td>\n",
              "      <td>13</td>\n",
              "    </tr>\n",
              "  </tbody>\n",
              "</table>\n",
              "<p>8273 rows × 2 columns</p>\n",
              "</div>\n",
              "      <button class=\"colab-df-convert\" onclick=\"convertToInteractive('df-4097c381-5979-4ce7-9adf-382fa43d819b')\"\n",
              "              title=\"Convert this dataframe to an interactive table.\"\n",
              "              style=\"display:none;\">\n",
              "        \n",
              "  <svg xmlns=\"http://www.w3.org/2000/svg\" height=\"24px\"viewBox=\"0 0 24 24\"\n",
              "       width=\"24px\">\n",
              "    <path d=\"M0 0h24v24H0V0z\" fill=\"none\"/>\n",
              "    <path d=\"M18.56 5.44l.94 2.06.94-2.06 2.06-.94-2.06-.94-.94-2.06-.94 2.06-2.06.94zm-11 1L8.5 8.5l.94-2.06 2.06-.94-2.06-.94L8.5 2.5l-.94 2.06-2.06.94zm10 10l.94 2.06.94-2.06 2.06-.94-2.06-.94-.94-2.06-.94 2.06-2.06.94z\"/><path d=\"M17.41 7.96l-1.37-1.37c-.4-.4-.92-.59-1.43-.59-.52 0-1.04.2-1.43.59L10.3 9.45l-7.72 7.72c-.78.78-.78 2.05 0 2.83L4 21.41c.39.39.9.59 1.41.59.51 0 1.02-.2 1.41-.59l7.78-7.78 2.81-2.81c.8-.78.8-2.07 0-2.86zM5.41 20L4 18.59l7.72-7.72 1.47 1.35L5.41 20z\"/>\n",
              "  </svg>\n",
              "      </button>\n",
              "      \n",
              "  <style>\n",
              "    .colab-df-container {\n",
              "      display:flex;\n",
              "      flex-wrap:wrap;\n",
              "      gap: 12px;\n",
              "    }\n",
              "\n",
              "    .colab-df-convert {\n",
              "      background-color: #E8F0FE;\n",
              "      border: none;\n",
              "      border-radius: 50%;\n",
              "      cursor: pointer;\n",
              "      display: none;\n",
              "      fill: #1967D2;\n",
              "      height: 32px;\n",
              "      padding: 0 0 0 0;\n",
              "      width: 32px;\n",
              "    }\n",
              "\n",
              "    .colab-df-convert:hover {\n",
              "      background-color: #E2EBFA;\n",
              "      box-shadow: 0px 1px 2px rgba(60, 64, 67, 0.3), 0px 1px 3px 1px rgba(60, 64, 67, 0.15);\n",
              "      fill: #174EA6;\n",
              "    }\n",
              "\n",
              "    [theme=dark] .colab-df-convert {\n",
              "      background-color: #3B4455;\n",
              "      fill: #D2E3FC;\n",
              "    }\n",
              "\n",
              "    [theme=dark] .colab-df-convert:hover {\n",
              "      background-color: #434B5C;\n",
              "      box-shadow: 0px 1px 3px 1px rgba(0, 0, 0, 0.15);\n",
              "      filter: drop-shadow(0px 1px 2px rgba(0, 0, 0, 0.3));\n",
              "      fill: #FFFFFF;\n",
              "    }\n",
              "  </style>\n",
              "\n",
              "      <script>\n",
              "        const buttonEl =\n",
              "          document.querySelector('#df-4097c381-5979-4ce7-9adf-382fa43d819b button.colab-df-convert');\n",
              "        buttonEl.style.display =\n",
              "          google.colab.kernel.accessAllowed ? 'block' : 'none';\n",
              "\n",
              "        async function convertToInteractive(key) {\n",
              "          const element = document.querySelector('#df-4097c381-5979-4ce7-9adf-382fa43d819b');\n",
              "          const dataTable =\n",
              "            await google.colab.kernel.invokeFunction('convertToInteractive',\n",
              "                                                     [key], {});\n",
              "          if (!dataTable) return;\n",
              "\n",
              "          const docLinkHtml = 'Like what you see? Visit the ' +\n",
              "            '<a target=\"_blank\" href=https://colab.research.google.com/notebooks/data_table.ipynb>data table notebook</a>'\n",
              "            + ' to learn more about interactive tables.';\n",
              "          element.innerHTML = '';\n",
              "          dataTable['output_type'] = 'display_data';\n",
              "          await google.colab.output.renderOutput(dataTable, element);\n",
              "          const docLink = document.createElement('div');\n",
              "          docLink.innerHTML = docLinkHtml;\n",
              "          element.appendChild(docLink);\n",
              "        }\n",
              "      </script>\n",
              "    </div>\n",
              "  </div>\n",
              "  "
            ]
          },
          "metadata": {},
          "execution_count": 27
        }
      ]
    },
    {
      "cell_type": "code",
      "source": [
        "#y_dataframe['y_proba']=y_proba"
      ],
      "metadata": {
        "id": "3qsL8rtw4CtC"
      },
      "execution_count": 29,
      "outputs": []
    },
    {
      "cell_type": "markdown",
      "source": [
        "Create Weights for underepresented classes"
      ],
      "metadata": {
        "id": "Bq0lVqWN3XSJ"
      }
    },
    {
      "cell_type": "code",
      "source": [
        "from sklearn.utils import class_weight"
      ],
      "metadata": {
        "id": "s7owBw6H243v"
      },
      "execution_count": 7,
      "outputs": []
    },
    {
      "cell_type": "code",
      "source": [
        "# Turn one hot array into integers\n",
        "y_train_1d=np.argmax(y_train, axis=1)\n",
        "\n",
        "class_weights=class_weight.compute_class_weight(class_weight='balanced',\n",
        "                                                classes=np.unique(y_train_1d),\n",
        "                                                y=y_train_1d)"
      ],
      "metadata": {
        "id": "tg-ea2Lv33FC"
      },
      "execution_count": 8,
      "outputs": []
    },
    {
      "cell_type": "code",
      "source": [
        "class_weights"
      ],
      "metadata": {
        "colab": {
          "base_uri": "https://localhost:8080/"
        },
        "id": "EacWwOAIAFnF",
        "outputId": "ff2d94d4-cf9d-4d5f-e7a0-095dbe8e34c9"
      },
      "execution_count": 9,
      "outputs": [
        {
          "output_type": "execute_result",
          "data": {
            "text/plain": [
              "array([  0.24477009,   0.37731481,   0.16976727,  11.8175    ,\n",
              "        19.69583333,   5.13804348,   5.54812207,   0.57674475,\n",
              "         0.54035208,   1.3837822 , 131.30555556,  15.96959459,\n",
              "         1.61001362,   0.24650605,   0.75366709,   7.47943038,\n",
              "         1.07334242,   1.12978011,  12.18298969,   7.03422619,\n",
              "        23.635     ,  31.09868421,   4.3129562 ,   4.96533613,\n",
              "         2.09530142,   1.08021024,   3.69296875,   7.9847973 ])"
            ]
          },
          "metadata": {},
          "execution_count": 9
        }
      ]
    },
    {
      "cell_type": "markdown",
      "source": [
        "weights array needs to be dictionary"
      ],
      "metadata": {
        "id": "1Lw4PH-fASQQ"
      }
    },
    {
      "cell_type": "code",
      "source": [
        "class_weight_dict=dict(enumerate(class_weights))"
      ],
      "metadata": {
        "id": "UGGcS31SARBd"
      },
      "execution_count": 10,
      "outputs": []
    },
    {
      "cell_type": "markdown",
      "source": [
        "Add weights to training"
      ],
      "metadata": {
        "id": "UvaY7uvS_fW1"
      }
    },
    {
      "cell_type": "code",
      "source": [
        "Weighted_Model.fit(X_train, y_train, class_weight=class_weight_dict, epochs=30, validation_data=(X_val, y_val))"
      ],
      "metadata": {
        "colab": {
          "base_uri": "https://localhost:8080/"
        },
        "id": "meHx6P3533Bt",
        "outputId": "1776e043-7db3-4234-f491-3f1a5c5c8e6f"
      },
      "execution_count": 11,
      "outputs": [
        {
          "output_type": "stream",
          "name": "stdout",
          "text": [
            "Epoch 1/30\n",
            "1035/1035 [==============================] - 54s 37ms/step - loss: 2.5710 - accuracy: 0.4092 - val_loss: 3.1123 - val_accuracy: 0.1168\n",
            "Epoch 2/30\n",
            "1035/1035 [==============================] - 31s 30ms/step - loss: 3.1150 - accuracy: 0.1815 - val_loss: 2.3929 - val_accuracy: 0.2589\n",
            "Epoch 3/30\n",
            "1035/1035 [==============================] - 31s 30ms/step - loss: 3.3116 - accuracy: 0.1378 - val_loss: 2.8345 - val_accuracy: 0.1148\n",
            "Epoch 4/30\n",
            "1035/1035 [==============================] - 31s 30ms/step - loss: 3.0403 - accuracy: 0.1713 - val_loss: 2.5625 - val_accuracy: 0.2216\n",
            "Epoch 5/30\n",
            "1035/1035 [==============================] - 31s 30ms/step - loss: 3.1485 - accuracy: 0.1500 - val_loss: 3.2273 - val_accuracy: 0.0205\n",
            "Epoch 6/30\n",
            "1035/1035 [==============================] - 31s 30ms/step - loss: 2.9917 - accuracy: 0.1536 - val_loss: 2.5896 - val_accuracy: 0.1955\n",
            "Epoch 7/30\n",
            "1035/1035 [==============================] - 31s 30ms/step - loss: 3.1945 - accuracy: 0.1203 - val_loss: 3.3970 - val_accuracy: 2.4175e-04\n",
            "Epoch 8/30\n",
            "1035/1035 [==============================] - 33s 31ms/step - loss: 3.3810 - accuracy: 0.0094 - val_loss: 3.3531 - val_accuracy: 0.0121\n",
            "Epoch 9/30\n",
            "1035/1035 [==============================] - 33s 31ms/step - loss: 3.2723 - accuracy: 0.1026 - val_loss: 2.7920 - val_accuracy: 0.1193\n",
            "Epoch 10/30\n",
            "1035/1035 [==============================] - 31s 30ms/step - loss: 3.1297 - accuracy: 0.1085 - val_loss: 2.5643 - val_accuracy: 0.1820\n",
            "Epoch 11/30\n",
            "1035/1035 [==============================] - 31s 30ms/step - loss: 3.2098 - accuracy: 0.0844 - val_loss: 3.1685 - val_accuracy: 0.0532\n",
            "Epoch 12/30\n",
            "1035/1035 [==============================] - 31s 30ms/step - loss: 3.0167 - accuracy: 0.1288 - val_loss: 2.7015 - val_accuracy: 0.1670\n",
            "Epoch 13/30\n",
            "1035/1035 [==============================] - 31s 30ms/step - loss: 3.0453 - accuracy: 0.1250 - val_loss: 2.9283 - val_accuracy: 0.0752\n",
            "Epoch 14/30\n",
            "1035/1035 [==============================] - 31s 30ms/step - loss: 3.1840 - accuracy: 0.1038 - val_loss: 3.0327 - val_accuracy: 0.1032\n",
            "Epoch 15/30\n",
            "1035/1035 [==============================] - 31s 30ms/step - loss: 3.2634 - accuracy: 0.0652 - val_loss: 3.2624 - val_accuracy: 0.0265\n",
            "Epoch 16/30\n",
            "1035/1035 [==============================] - 31s 30ms/step - loss: 3.0785 - accuracy: 0.1040 - val_loss: 3.3832 - val_accuracy: 2.4175e-04\n",
            "Epoch 17/30\n",
            "1035/1035 [==============================] - 31s 30ms/step - loss: 3.2227 - accuracy: 0.1025 - val_loss: 3.1212 - val_accuracy: 0.0645\n",
            "Epoch 18/30\n",
            "1035/1035 [==============================] - 31s 30ms/step - loss: 2.9442 - accuracy: 0.1315 - val_loss: 2.8281 - val_accuracy: 0.0811\n",
            "Epoch 19/30\n",
            "1035/1035 [==============================] - 31s 30ms/step - loss: 3.0051 - accuracy: 0.1324 - val_loss: 3.1171 - val_accuracy: 0.0693\n",
            "Epoch 20/30\n",
            "1035/1035 [==============================] - 31s 30ms/step - loss: 3.0443 - accuracy: 0.1269 - val_loss: 2.7738 - val_accuracy: 0.1276\n",
            "Epoch 21/30\n",
            "1035/1035 [==============================] - 31s 30ms/step - loss: 3.0012 - accuracy: 0.1326 - val_loss: 2.7857 - val_accuracy: 0.1122\n",
            "Epoch 22/30\n",
            "1035/1035 [==============================] - 31s 30ms/step - loss: 2.7829 - accuracy: 0.1701 - val_loss: 2.6254 - val_accuracy: 0.1735\n",
            "Epoch 23/30\n",
            "1035/1035 [==============================] - 31s 30ms/step - loss: 2.8949 - accuracy: 0.1588 - val_loss: 2.7939 - val_accuracy: 0.1111\n",
            "Epoch 24/30\n",
            "1035/1035 [==============================] - 33s 32ms/step - loss: 3.0143 - accuracy: 0.1619 - val_loss: 2.9550 - val_accuracy: 0.1131\n",
            "Epoch 25/30\n",
            "1035/1035 [==============================] - 31s 30ms/step - loss: 2.7401 - accuracy: 0.1714 - val_loss: 2.8122 - val_accuracy: 0.1227\n",
            "Epoch 26/30\n",
            "1035/1035 [==============================] - 32s 31ms/step - loss: 2.9947 - accuracy: 0.1388 - val_loss: 2.6509 - val_accuracy: 0.1782\n",
            "Epoch 27/30\n",
            "1035/1035 [==============================] - 32s 31ms/step - loss: 2.7658 - accuracy: 0.1808 - val_loss: 2.7504 - val_accuracy: 0.1411\n",
            "Epoch 28/30\n",
            "1035/1035 [==============================] - 32s 31ms/step - loss: 2.7529 - accuracy: 0.1918 - val_loss: 2.6143 - val_accuracy: 0.1810\n",
            "Epoch 29/30\n",
            "1035/1035 [==============================] - 32s 31ms/step - loss: 2.7140 - accuracy: 0.1989 - val_loss: 2.7316 - val_accuracy: 0.1172\n",
            "Epoch 30/30\n",
            "1035/1035 [==============================] - 33s 31ms/step - loss: 2.7222 - accuracy: 0.2070 - val_loss: 2.8957 - val_accuracy: 0.1084\n"
          ]
        },
        {
          "output_type": "execute_result",
          "data": {
            "text/plain": [
              "<keras.callbacks.History at 0x7fbc8e685cd0>"
            ]
          },
          "metadata": {},
          "execution_count": 11
        }
      ]
    },
    {
      "cell_type": "markdown",
      "source": [
        "Try only adding weights to the classes with poor results\n"
      ],
      "metadata": {
        "id": "l_6ZQcS6BbQM"
      }
    },
    {
      "cell_type": "code",
      "source": [
        ""
      ],
      "metadata": {
        "id": "bXlClsGl32_H"
      },
      "execution_count": null,
      "outputs": []
    },
    {
      "cell_type": "code",
      "source": [
        ""
      ],
      "metadata": {
        "id": "yN82DhKf328L"
      },
      "execution_count": null,
      "outputs": []
    }
  ]
}