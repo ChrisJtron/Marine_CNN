{
  "nbformat": 4,
  "nbformat_minor": 0,
  "metadata": {
    "colab": {
      "name": "CNN_Species_with_weights.ipynb",
      "provenance": [],
      "collapsed_sections": [],
      "machine_shape": "hm",
      "mount_file_id": "1zHQuvtCTc4mhcbGYhLgV8NcBc1scnGxt",
      "authorship_tag": "ABX9TyOHoKN2IFTp1muzaiCPeyIS"
    },
    "kernelspec": {
      "name": "python3",
      "display_name": "Python 3"
    },
    "language_info": {
      "name": "python"
    },
    "accelerator": "GPU"
  },
  "cells": [
    {
      "cell_type": "code",
      "execution_count": 2,
      "metadata": {
        "id": "uVZsMkbJ1QFJ"
      },
      "outputs": [],
      "source": [
        "import pandas as pd\n",
        "import numpy as np\n",
        "import matplotlib.pyplot as plt\n",
        "import PIL\n",
        "from PIL import Image\n",
        "from numpy import asarray\n",
        "import glob\n",
        "import cv2\n",
        "import tensorflow as tf\n",
        "from tensorflow import keras"
      ]
    },
    {
      "cell_type": "markdown",
      "source": [
        "Import Model"
      ],
      "metadata": {
        "id": "nL74SE0i1luf"
      }
    },
    {
      "cell_type": "code",
      "source": [
        "UnWeighted_Model=keras.models.load_model('drive/MyDrive/CNNSpeciesAcc0.9133val0.8493')"
      ],
      "metadata": {
        "id": "ppz7lLnp1nwR"
      },
      "execution_count": 11,
      "outputs": []
    },
    {
      "cell_type": "markdown",
      "source": [
        "Import Data"
      ],
      "metadata": {
        "id": "95_r-8e82vzw"
      }
    },
    {
      "cell_type": "code",
      "source": [
        "X_train=np.load('drive/MyDrive/X_train_strat.npy')"
      ],
      "metadata": {
        "id": "5cX7HcSt2xXo"
      },
      "execution_count": 3,
      "outputs": []
    },
    {
      "cell_type": "code",
      "source": [
        "y_train=np.load('drive/MyDrive/y_train_strat.npy')"
      ],
      "metadata": {
        "id": "3pRZCNjg25Kj"
      },
      "execution_count": 4,
      "outputs": []
    },
    {
      "cell_type": "code",
      "source": [
        "X_val=np.load('drive/MyDrive/X_val_strat.npy')"
      ],
      "metadata": {
        "id": "_S7OgLSv25Ci"
      },
      "execution_count": 5,
      "outputs": []
    },
    {
      "cell_type": "code",
      "source": [
        "y_val=np.load('drive/MyDrive/y_val_strat.npy')"
      ],
      "metadata": {
        "id": "z3X1v_lq24_L"
      },
      "execution_count": 6,
      "outputs": []
    },
    {
      "cell_type": "markdown",
      "source": [
        "Get val data probabilities"
      ],
      "metadata": {
        "id": "4_VR8SzD35QM"
      }
    },
    {
      "cell_type": "code",
      "source": [
        "y_proba=UnWeighted_Model.predict(X_val)"
      ],
      "metadata": {
        "id": "FB11buJM4C1r"
      },
      "execution_count": 12,
      "outputs": []
    },
    {
      "cell_type": "code",
      "source": [
        "y_proba[1]"
      ],
      "metadata": {
        "colab": {
          "base_uri": "https://localhost:8080/"
        },
        "id": "xpjxUTv-7ylc",
        "outputId": "4a48cdc5-98f3-4a76-c378-8a1c6dade40a"
      },
      "execution_count": 13,
      "outputs": [
        {
          "output_type": "execute_result",
          "data": {
            "text/plain": [
              "array([3.6509544e-01, 5.0902392e-05, 1.5057314e-02, 1.4492625e-06,\n",
              "       8.8719971e-13, 2.0239108e-06, 1.9344385e-04, 7.9907929e-12,\n",
              "       3.2738722e-06, 3.8893751e-05, 6.2414634e-22, 9.8531291e-07,\n",
              "       5.1459068e-01, 1.1715752e-02, 5.5191405e-05, 5.8600608e-10,\n",
              "       2.8074014e-06, 9.1593608e-04, 1.9018884e-06, 6.6723888e-10,\n",
              "       1.2768989e-14, 6.2570500e-12, 1.8522213e-08, 1.6897484e-07,\n",
              "       9.2255339e-02, 1.5063314e-07, 3.5252967e-09, 1.8258364e-05],\n",
              "      dtype=float32)"
            ]
          },
          "metadata": {},
          "execution_count": 13
        }
      ]
    },
    {
      "cell_type": "code",
      "source": [
        "# Turn one hot array into integers\n",
        "y_val_1d=np.argmax(y_val, axis=1)\n",
        "y_predictions=np.argmax(y_proba, axis=1)"
      ],
      "metadata": {
        "id": "vZ15ETD46sGv"
      },
      "execution_count": 14,
      "outputs": []
    },
    {
      "cell_type": "code",
      "source": [
        "y_dataframe=pd.DataFrame({'y_predictions': y_predictions,\n",
        "                          'y_actual': y_val_1d\n",
        "                          })"
      ],
      "metadata": {
        "id": "u2hbxUUp4CyT"
      },
      "execution_count": 15,
      "outputs": []
    },
    {
      "cell_type": "code",
      "source": [
        "y_dataframe"
      ],
      "metadata": {
        "colab": {
          "base_uri": "https://localhost:8080/",
          "height": 424
        },
        "id": "t4oKtFtw4Cvs",
        "outputId": "570fb338-d64b-49da-e0f3-60b1268360b2"
      },
      "execution_count": 16,
      "outputs": [
        {
          "output_type": "execute_result",
          "data": {
            "text/plain": [
              "      y_predictions  y_actual\n",
              "0                25        25\n",
              "1                12        12\n",
              "2                 2         2\n",
              "3                23        23\n",
              "4                 9        14\n",
              "...             ...       ...\n",
              "8268              1         1\n",
              "8269             13        13\n",
              "8270              1         1\n",
              "8271              1         1\n",
              "8272             13        13\n",
              "\n",
              "[8273 rows x 2 columns]"
            ],
            "text/html": [
              "\n",
              "  <div id=\"df-c9364fd5-4899-47db-82d4-599305faa37b\">\n",
              "    <div class=\"colab-df-container\">\n",
              "      <div>\n",
              "<style scoped>\n",
              "    .dataframe tbody tr th:only-of-type {\n",
              "        vertical-align: middle;\n",
              "    }\n",
              "\n",
              "    .dataframe tbody tr th {\n",
              "        vertical-align: top;\n",
              "    }\n",
              "\n",
              "    .dataframe thead th {\n",
              "        text-align: right;\n",
              "    }\n",
              "</style>\n",
              "<table border=\"1\" class=\"dataframe\">\n",
              "  <thead>\n",
              "    <tr style=\"text-align: right;\">\n",
              "      <th></th>\n",
              "      <th>y_predictions</th>\n",
              "      <th>y_actual</th>\n",
              "    </tr>\n",
              "  </thead>\n",
              "  <tbody>\n",
              "    <tr>\n",
              "      <th>0</th>\n",
              "      <td>25</td>\n",
              "      <td>25</td>\n",
              "    </tr>\n",
              "    <tr>\n",
              "      <th>1</th>\n",
              "      <td>12</td>\n",
              "      <td>12</td>\n",
              "    </tr>\n",
              "    <tr>\n",
              "      <th>2</th>\n",
              "      <td>2</td>\n",
              "      <td>2</td>\n",
              "    </tr>\n",
              "    <tr>\n",
              "      <th>3</th>\n",
              "      <td>23</td>\n",
              "      <td>23</td>\n",
              "    </tr>\n",
              "    <tr>\n",
              "      <th>4</th>\n",
              "      <td>9</td>\n",
              "      <td>14</td>\n",
              "    </tr>\n",
              "    <tr>\n",
              "      <th>...</th>\n",
              "      <td>...</td>\n",
              "      <td>...</td>\n",
              "    </tr>\n",
              "    <tr>\n",
              "      <th>8268</th>\n",
              "      <td>1</td>\n",
              "      <td>1</td>\n",
              "    </tr>\n",
              "    <tr>\n",
              "      <th>8269</th>\n",
              "      <td>13</td>\n",
              "      <td>13</td>\n",
              "    </tr>\n",
              "    <tr>\n",
              "      <th>8270</th>\n",
              "      <td>1</td>\n",
              "      <td>1</td>\n",
              "    </tr>\n",
              "    <tr>\n",
              "      <th>8271</th>\n",
              "      <td>1</td>\n",
              "      <td>1</td>\n",
              "    </tr>\n",
              "    <tr>\n",
              "      <th>8272</th>\n",
              "      <td>13</td>\n",
              "      <td>13</td>\n",
              "    </tr>\n",
              "  </tbody>\n",
              "</table>\n",
              "<p>8273 rows × 2 columns</p>\n",
              "</div>\n",
              "      <button class=\"colab-df-convert\" onclick=\"convertToInteractive('df-c9364fd5-4899-47db-82d4-599305faa37b')\"\n",
              "              title=\"Convert this dataframe to an interactive table.\"\n",
              "              style=\"display:none;\">\n",
              "        \n",
              "  <svg xmlns=\"http://www.w3.org/2000/svg\" height=\"24px\"viewBox=\"0 0 24 24\"\n",
              "       width=\"24px\">\n",
              "    <path d=\"M0 0h24v24H0V0z\" fill=\"none\"/>\n",
              "    <path d=\"M18.56 5.44l.94 2.06.94-2.06 2.06-.94-2.06-.94-.94-2.06-.94 2.06-2.06.94zm-11 1L8.5 8.5l.94-2.06 2.06-.94-2.06-.94L8.5 2.5l-.94 2.06-2.06.94zm10 10l.94 2.06.94-2.06 2.06-.94-2.06-.94-.94-2.06-.94 2.06-2.06.94z\"/><path d=\"M17.41 7.96l-1.37-1.37c-.4-.4-.92-.59-1.43-.59-.52 0-1.04.2-1.43.59L10.3 9.45l-7.72 7.72c-.78.78-.78 2.05 0 2.83L4 21.41c.39.39.9.59 1.41.59.51 0 1.02-.2 1.41-.59l7.78-7.78 2.81-2.81c.8-.78.8-2.07 0-2.86zM5.41 20L4 18.59l7.72-7.72 1.47 1.35L5.41 20z\"/>\n",
              "  </svg>\n",
              "      </button>\n",
              "      \n",
              "  <style>\n",
              "    .colab-df-container {\n",
              "      display:flex;\n",
              "      flex-wrap:wrap;\n",
              "      gap: 12px;\n",
              "    }\n",
              "\n",
              "    .colab-df-convert {\n",
              "      background-color: #E8F0FE;\n",
              "      border: none;\n",
              "      border-radius: 50%;\n",
              "      cursor: pointer;\n",
              "      display: none;\n",
              "      fill: #1967D2;\n",
              "      height: 32px;\n",
              "      padding: 0 0 0 0;\n",
              "      width: 32px;\n",
              "    }\n",
              "\n",
              "    .colab-df-convert:hover {\n",
              "      background-color: #E2EBFA;\n",
              "      box-shadow: 0px 1px 2px rgba(60, 64, 67, 0.3), 0px 1px 3px 1px rgba(60, 64, 67, 0.15);\n",
              "      fill: #174EA6;\n",
              "    }\n",
              "\n",
              "    [theme=dark] .colab-df-convert {\n",
              "      background-color: #3B4455;\n",
              "      fill: #D2E3FC;\n",
              "    }\n",
              "\n",
              "    [theme=dark] .colab-df-convert:hover {\n",
              "      background-color: #434B5C;\n",
              "      box-shadow: 0px 1px 3px 1px rgba(0, 0, 0, 0.15);\n",
              "      filter: drop-shadow(0px 1px 2px rgba(0, 0, 0, 0.3));\n",
              "      fill: #FFFFFF;\n",
              "    }\n",
              "  </style>\n",
              "\n",
              "      <script>\n",
              "        const buttonEl =\n",
              "          document.querySelector('#df-c9364fd5-4899-47db-82d4-599305faa37b button.colab-df-convert');\n",
              "        buttonEl.style.display =\n",
              "          google.colab.kernel.accessAllowed ? 'block' : 'none';\n",
              "\n",
              "        async function convertToInteractive(key) {\n",
              "          const element = document.querySelector('#df-c9364fd5-4899-47db-82d4-599305faa37b');\n",
              "          const dataTable =\n",
              "            await google.colab.kernel.invokeFunction('convertToInteractive',\n",
              "                                                     [key], {});\n",
              "          if (!dataTable) return;\n",
              "\n",
              "          const docLinkHtml = 'Like what you see? Visit the ' +\n",
              "            '<a target=\"_blank\" href=https://colab.research.google.com/notebooks/data_table.ipynb>data table notebook</a>'\n",
              "            + ' to learn more about interactive tables.';\n",
              "          element.innerHTML = '';\n",
              "          dataTable['output_type'] = 'display_data';\n",
              "          await google.colab.output.renderOutput(dataTable, element);\n",
              "          const docLink = document.createElement('div');\n",
              "          docLink.innerHTML = docLinkHtml;\n",
              "          element.appendChild(docLink);\n",
              "        }\n",
              "      </script>\n",
              "    </div>\n",
              "  </div>\n",
              "  "
            ]
          },
          "metadata": {},
          "execution_count": 16
        }
      ]
    },
    {
      "cell_type": "code",
      "source": [
        "y_proba_list=[]\n",
        "\n",
        "for each in y_proba:\n",
        "  y_proba_list.append(each)"
      ],
      "metadata": {
        "id": "zWqDcEmVAPzd"
      },
      "execution_count": 17,
      "outputs": []
    },
    {
      "cell_type": "code",
      "source": [
        "y_dataframe['y_proba']=y_proba_list"
      ],
      "metadata": {
        "id": "3qsL8rtw4CtC"
      },
      "execution_count": 18,
      "outputs": []
    },
    {
      "cell_type": "code",
      "source": [
        "#round to 5 decimals\n",
        "\n",
        "rounded_proba_list=[]\n",
        "for each_array in y_proba_list:\n",
        "  new_array=[]\n",
        "  for each_number in each_array:\n",
        "    rounded_number=round(each_number, ndigits=5)\n",
        "    new_array.append('{0:6f}'.format(rounded_number))\n",
        "  rounded_proba_list.append(new_array)"
      ],
      "metadata": {
        "id": "ffMC1q_CBAWP"
      },
      "execution_count": 19,
      "outputs": []
    },
    {
      "cell_type": "code",
      "source": [
        "y_dataframe['y_rounded_proba']=rounded_proba_list"
      ],
      "metadata": {
        "id": "wFjm1CxvCvZS"
      },
      "execution_count": 20,
      "outputs": []
    },
    {
      "cell_type": "code",
      "source": [
        "y_dataframe.head(20)"
      ],
      "metadata": {
        "colab": {
          "base_uri": "https://localhost:8080/",
          "height": 677
        },
        "id": "tASR-RQHAhDY",
        "outputId": "593b5e6a-fbfa-4212-e794-ae0c08b2cdf8"
      },
      "execution_count": 21,
      "outputs": [
        {
          "output_type": "execute_result",
          "data": {
            "text/plain": [
              "    y_predictions  y_actual  \\\n",
              "0              25        25   \n",
              "1              12        12   \n",
              "2               2         2   \n",
              "3              23        23   \n",
              "4               9        14   \n",
              "5               7         7   \n",
              "6               0        13   \n",
              "7               2         2   \n",
              "8              13        12   \n",
              "9               2         2   \n",
              "10             17         9   \n",
              "11              2         2   \n",
              "12              2         2   \n",
              "13             25        25   \n",
              "14              2         2   \n",
              "15              2        16   \n",
              "16              1         1   \n",
              "17              8         8   \n",
              "18              2         2   \n",
              "19             13        13   \n",
              "\n",
              "                                              y_proba  \\\n",
              "0   [1.0411376e-07, 1.8620929e-06, 0.053617027, 3....   \n",
              "1   [0.36509544, 5.0902392e-05, 0.015057314, 1.449...   \n",
              "2   [2.6952187e-11, 5.936212e-09, 0.84236664, 2.76...   \n",
              "3   [1.4206581e-22, 4.5429557e-20, 2.0954663e-16, ...   \n",
              "4   [0.010332668, 0.00021841915, 0.0023903393, 0.0...   \n",
              "5   [1.6813204e-14, 3.618786e-15, 1.5613007e-10, 0...   \n",
              "6   [0.59035474, 0.00045025913, 0.08361771, 0.0001...   \n",
              "7   [9.644166e-14, 2.007716e-11, 0.9982496, 7.7603...   \n",
              "8   [0.011090288, 0.00071977166, 1.3795623e-05, 1....   \n",
              "9   [1.312381e-13, 2.8090893e-12, 0.9999609, 4.811...   \n",
              "10  [4.411181e-14, 9.549925e-13, 5.5625105e-06, 2....   \n",
              "11  [4.1417e-13, 1.736753e-09, 0.9956369, 6.425708...   \n",
              "12  [1.5863536e-08, 2.6682196e-09, 0.9969483, 1.05...   \n",
              "13  [1.4324977e-12, 1.4096107e-09, 0.002795776, 1....   \n",
              "14  [4.9190648e-11, 2.1676794e-10, 0.99771345, 6.5...   \n",
              "15  [1.6606772e-11, 2.4340312e-09, 0.95280117, 9.9...   \n",
              "16  [6.923476e-14, 1.0, 3.5822515e-11, 0.0, 4.5713...   \n",
              "17  [1.9524101e-07, 7.5667617e-06, 0.012017159, 5....   \n",
              "18  [2.2682582e-10, 8.4590016e-11, 0.99821055, 9.6...   \n",
              "19  [0.00022324633, 1.9983494e-05, 0.015343153, 9....   \n",
              "\n",
              "                                      y_rounded_proba  \n",
              "0   [0.000000, 0.000000, 0.053620, 0.000000, 0.000...  \n",
              "1   [0.365100, 0.000050, 0.015060, 0.000000, 0.000...  \n",
              "2   [0.000000, 0.000000, 0.842370, 0.000000, 0.000...  \n",
              "3   [0.000000, 0.000000, 0.000000, 0.000000, 0.000...  \n",
              "4   [0.010330, 0.000220, 0.002390, 0.050820, 0.000...  \n",
              "5   [0.000000, 0.000000, 0.000000, 0.000000, 0.000...  \n",
              "6   [0.590350, 0.000450, 0.083620, 0.000120, 0.000...  \n",
              "7   [0.000000, 0.000000, 0.998250, 0.000000, 0.000...  \n",
              "8   [0.011090, 0.000720, 0.000010, 0.000000, 0.000...  \n",
              "9   [0.000000, 0.000000, 0.999960, 0.000000, 0.000...  \n",
              "10  [0.000000, 0.000000, 0.000010, 0.000000, 0.000...  \n",
              "11  [0.000000, 0.000000, 0.995640, 0.000000, 0.000...  \n",
              "12  [0.000000, 0.000000, 0.996950, 0.000000, 0.000...  \n",
              "13  [0.000000, 0.000000, 0.002800, 0.000000, 0.000...  \n",
              "14  [0.000000, 0.000000, 0.997710, 0.000000, 0.000...  \n",
              "15  [0.000000, 0.000000, 0.952800, 0.000000, 0.000...  \n",
              "16  [0.000000, 1.000000, 0.000000, 0.000000, 0.000...  \n",
              "17  [0.000000, 0.000010, 0.012020, 0.000000, 0.000...  \n",
              "18  [0.000000, 0.000000, 0.998210, 0.000000, 0.000...  \n",
              "19  [0.000220, 0.000020, 0.015340, 0.000000, 0.000...  "
            ],
            "text/html": [
              "\n",
              "  <div id=\"df-f7b22350-44b7-4baf-8ea6-1d08d8bebe00\">\n",
              "    <div class=\"colab-df-container\">\n",
              "      <div>\n",
              "<style scoped>\n",
              "    .dataframe tbody tr th:only-of-type {\n",
              "        vertical-align: middle;\n",
              "    }\n",
              "\n",
              "    .dataframe tbody tr th {\n",
              "        vertical-align: top;\n",
              "    }\n",
              "\n",
              "    .dataframe thead th {\n",
              "        text-align: right;\n",
              "    }\n",
              "</style>\n",
              "<table border=\"1\" class=\"dataframe\">\n",
              "  <thead>\n",
              "    <tr style=\"text-align: right;\">\n",
              "      <th></th>\n",
              "      <th>y_predictions</th>\n",
              "      <th>y_actual</th>\n",
              "      <th>y_proba</th>\n",
              "      <th>y_rounded_proba</th>\n",
              "    </tr>\n",
              "  </thead>\n",
              "  <tbody>\n",
              "    <tr>\n",
              "      <th>0</th>\n",
              "      <td>25</td>\n",
              "      <td>25</td>\n",
              "      <td>[1.0411376e-07, 1.8620929e-06, 0.053617027, 3....</td>\n",
              "      <td>[0.000000, 0.000000, 0.053620, 0.000000, 0.000...</td>\n",
              "    </tr>\n",
              "    <tr>\n",
              "      <th>1</th>\n",
              "      <td>12</td>\n",
              "      <td>12</td>\n",
              "      <td>[0.36509544, 5.0902392e-05, 0.015057314, 1.449...</td>\n",
              "      <td>[0.365100, 0.000050, 0.015060, 0.000000, 0.000...</td>\n",
              "    </tr>\n",
              "    <tr>\n",
              "      <th>2</th>\n",
              "      <td>2</td>\n",
              "      <td>2</td>\n",
              "      <td>[2.6952187e-11, 5.936212e-09, 0.84236664, 2.76...</td>\n",
              "      <td>[0.000000, 0.000000, 0.842370, 0.000000, 0.000...</td>\n",
              "    </tr>\n",
              "    <tr>\n",
              "      <th>3</th>\n",
              "      <td>23</td>\n",
              "      <td>23</td>\n",
              "      <td>[1.4206581e-22, 4.5429557e-20, 2.0954663e-16, ...</td>\n",
              "      <td>[0.000000, 0.000000, 0.000000, 0.000000, 0.000...</td>\n",
              "    </tr>\n",
              "    <tr>\n",
              "      <th>4</th>\n",
              "      <td>9</td>\n",
              "      <td>14</td>\n",
              "      <td>[0.010332668, 0.00021841915, 0.0023903393, 0.0...</td>\n",
              "      <td>[0.010330, 0.000220, 0.002390, 0.050820, 0.000...</td>\n",
              "    </tr>\n",
              "    <tr>\n",
              "      <th>5</th>\n",
              "      <td>7</td>\n",
              "      <td>7</td>\n",
              "      <td>[1.6813204e-14, 3.618786e-15, 1.5613007e-10, 0...</td>\n",
              "      <td>[0.000000, 0.000000, 0.000000, 0.000000, 0.000...</td>\n",
              "    </tr>\n",
              "    <tr>\n",
              "      <th>6</th>\n",
              "      <td>0</td>\n",
              "      <td>13</td>\n",
              "      <td>[0.59035474, 0.00045025913, 0.08361771, 0.0001...</td>\n",
              "      <td>[0.590350, 0.000450, 0.083620, 0.000120, 0.000...</td>\n",
              "    </tr>\n",
              "    <tr>\n",
              "      <th>7</th>\n",
              "      <td>2</td>\n",
              "      <td>2</td>\n",
              "      <td>[9.644166e-14, 2.007716e-11, 0.9982496, 7.7603...</td>\n",
              "      <td>[0.000000, 0.000000, 0.998250, 0.000000, 0.000...</td>\n",
              "    </tr>\n",
              "    <tr>\n",
              "      <th>8</th>\n",
              "      <td>13</td>\n",
              "      <td>12</td>\n",
              "      <td>[0.011090288, 0.00071977166, 1.3795623e-05, 1....</td>\n",
              "      <td>[0.011090, 0.000720, 0.000010, 0.000000, 0.000...</td>\n",
              "    </tr>\n",
              "    <tr>\n",
              "      <th>9</th>\n",
              "      <td>2</td>\n",
              "      <td>2</td>\n",
              "      <td>[1.312381e-13, 2.8090893e-12, 0.9999609, 4.811...</td>\n",
              "      <td>[0.000000, 0.000000, 0.999960, 0.000000, 0.000...</td>\n",
              "    </tr>\n",
              "    <tr>\n",
              "      <th>10</th>\n",
              "      <td>17</td>\n",
              "      <td>9</td>\n",
              "      <td>[4.411181e-14, 9.549925e-13, 5.5625105e-06, 2....</td>\n",
              "      <td>[0.000000, 0.000000, 0.000010, 0.000000, 0.000...</td>\n",
              "    </tr>\n",
              "    <tr>\n",
              "      <th>11</th>\n",
              "      <td>2</td>\n",
              "      <td>2</td>\n",
              "      <td>[4.1417e-13, 1.736753e-09, 0.9956369, 6.425708...</td>\n",
              "      <td>[0.000000, 0.000000, 0.995640, 0.000000, 0.000...</td>\n",
              "    </tr>\n",
              "    <tr>\n",
              "      <th>12</th>\n",
              "      <td>2</td>\n",
              "      <td>2</td>\n",
              "      <td>[1.5863536e-08, 2.6682196e-09, 0.9969483, 1.05...</td>\n",
              "      <td>[0.000000, 0.000000, 0.996950, 0.000000, 0.000...</td>\n",
              "    </tr>\n",
              "    <tr>\n",
              "      <th>13</th>\n",
              "      <td>25</td>\n",
              "      <td>25</td>\n",
              "      <td>[1.4324977e-12, 1.4096107e-09, 0.002795776, 1....</td>\n",
              "      <td>[0.000000, 0.000000, 0.002800, 0.000000, 0.000...</td>\n",
              "    </tr>\n",
              "    <tr>\n",
              "      <th>14</th>\n",
              "      <td>2</td>\n",
              "      <td>2</td>\n",
              "      <td>[4.9190648e-11, 2.1676794e-10, 0.99771345, 6.5...</td>\n",
              "      <td>[0.000000, 0.000000, 0.997710, 0.000000, 0.000...</td>\n",
              "    </tr>\n",
              "    <tr>\n",
              "      <th>15</th>\n",
              "      <td>2</td>\n",
              "      <td>16</td>\n",
              "      <td>[1.6606772e-11, 2.4340312e-09, 0.95280117, 9.9...</td>\n",
              "      <td>[0.000000, 0.000000, 0.952800, 0.000000, 0.000...</td>\n",
              "    </tr>\n",
              "    <tr>\n",
              "      <th>16</th>\n",
              "      <td>1</td>\n",
              "      <td>1</td>\n",
              "      <td>[6.923476e-14, 1.0, 3.5822515e-11, 0.0, 4.5713...</td>\n",
              "      <td>[0.000000, 1.000000, 0.000000, 0.000000, 0.000...</td>\n",
              "    </tr>\n",
              "    <tr>\n",
              "      <th>17</th>\n",
              "      <td>8</td>\n",
              "      <td>8</td>\n",
              "      <td>[1.9524101e-07, 7.5667617e-06, 0.012017159, 5....</td>\n",
              "      <td>[0.000000, 0.000010, 0.012020, 0.000000, 0.000...</td>\n",
              "    </tr>\n",
              "    <tr>\n",
              "      <th>18</th>\n",
              "      <td>2</td>\n",
              "      <td>2</td>\n",
              "      <td>[2.2682582e-10, 8.4590016e-11, 0.99821055, 9.6...</td>\n",
              "      <td>[0.000000, 0.000000, 0.998210, 0.000000, 0.000...</td>\n",
              "    </tr>\n",
              "    <tr>\n",
              "      <th>19</th>\n",
              "      <td>13</td>\n",
              "      <td>13</td>\n",
              "      <td>[0.00022324633, 1.9983494e-05, 0.015343153, 9....</td>\n",
              "      <td>[0.000220, 0.000020, 0.015340, 0.000000, 0.000...</td>\n",
              "    </tr>\n",
              "  </tbody>\n",
              "</table>\n",
              "</div>\n",
              "      <button class=\"colab-df-convert\" onclick=\"convertToInteractive('df-f7b22350-44b7-4baf-8ea6-1d08d8bebe00')\"\n",
              "              title=\"Convert this dataframe to an interactive table.\"\n",
              "              style=\"display:none;\">\n",
              "        \n",
              "  <svg xmlns=\"http://www.w3.org/2000/svg\" height=\"24px\"viewBox=\"0 0 24 24\"\n",
              "       width=\"24px\">\n",
              "    <path d=\"M0 0h24v24H0V0z\" fill=\"none\"/>\n",
              "    <path d=\"M18.56 5.44l.94 2.06.94-2.06 2.06-.94-2.06-.94-.94-2.06-.94 2.06-2.06.94zm-11 1L8.5 8.5l.94-2.06 2.06-.94-2.06-.94L8.5 2.5l-.94 2.06-2.06.94zm10 10l.94 2.06.94-2.06 2.06-.94-2.06-.94-.94-2.06-.94 2.06-2.06.94z\"/><path d=\"M17.41 7.96l-1.37-1.37c-.4-.4-.92-.59-1.43-.59-.52 0-1.04.2-1.43.59L10.3 9.45l-7.72 7.72c-.78.78-.78 2.05 0 2.83L4 21.41c.39.39.9.59 1.41.59.51 0 1.02-.2 1.41-.59l7.78-7.78 2.81-2.81c.8-.78.8-2.07 0-2.86zM5.41 20L4 18.59l7.72-7.72 1.47 1.35L5.41 20z\"/>\n",
              "  </svg>\n",
              "      </button>\n",
              "      \n",
              "  <style>\n",
              "    .colab-df-container {\n",
              "      display:flex;\n",
              "      flex-wrap:wrap;\n",
              "      gap: 12px;\n",
              "    }\n",
              "\n",
              "    .colab-df-convert {\n",
              "      background-color: #E8F0FE;\n",
              "      border: none;\n",
              "      border-radius: 50%;\n",
              "      cursor: pointer;\n",
              "      display: none;\n",
              "      fill: #1967D2;\n",
              "      height: 32px;\n",
              "      padding: 0 0 0 0;\n",
              "      width: 32px;\n",
              "    }\n",
              "\n",
              "    .colab-df-convert:hover {\n",
              "      background-color: #E2EBFA;\n",
              "      box-shadow: 0px 1px 2px rgba(60, 64, 67, 0.3), 0px 1px 3px 1px rgba(60, 64, 67, 0.15);\n",
              "      fill: #174EA6;\n",
              "    }\n",
              "\n",
              "    [theme=dark] .colab-df-convert {\n",
              "      background-color: #3B4455;\n",
              "      fill: #D2E3FC;\n",
              "    }\n",
              "\n",
              "    [theme=dark] .colab-df-convert:hover {\n",
              "      background-color: #434B5C;\n",
              "      box-shadow: 0px 1px 3px 1px rgba(0, 0, 0, 0.15);\n",
              "      filter: drop-shadow(0px 1px 2px rgba(0, 0, 0, 0.3));\n",
              "      fill: #FFFFFF;\n",
              "    }\n",
              "  </style>\n",
              "\n",
              "      <script>\n",
              "        const buttonEl =\n",
              "          document.querySelector('#df-f7b22350-44b7-4baf-8ea6-1d08d8bebe00 button.colab-df-convert');\n",
              "        buttonEl.style.display =\n",
              "          google.colab.kernel.accessAllowed ? 'block' : 'none';\n",
              "\n",
              "        async function convertToInteractive(key) {\n",
              "          const element = document.querySelector('#df-f7b22350-44b7-4baf-8ea6-1d08d8bebe00');\n",
              "          const dataTable =\n",
              "            await google.colab.kernel.invokeFunction('convertToInteractive',\n",
              "                                                     [key], {});\n",
              "          if (!dataTable) return;\n",
              "\n",
              "          const docLinkHtml = 'Like what you see? Visit the ' +\n",
              "            '<a target=\"_blank\" href=https://colab.research.google.com/notebooks/data_table.ipynb>data table notebook</a>'\n",
              "            + ' to learn more about interactive tables.';\n",
              "          element.innerHTML = '';\n",
              "          dataTable['output_type'] = 'display_data';\n",
              "          await google.colab.output.renderOutput(dataTable, element);\n",
              "          const docLink = document.createElement('div');\n",
              "          docLink.innerHTML = docLinkHtml;\n",
              "          element.appendChild(docLink);\n",
              "        }\n",
              "      </script>\n",
              "    </div>\n",
              "  </div>\n",
              "  "
            ]
          },
          "metadata": {},
          "execution_count": 21
        }
      ]
    },
    {
      "cell_type": "code",
      "source": [
        "y_dataframe['y_rounded_proba'][15]"
      ],
      "metadata": {
        "colab": {
          "base_uri": "https://localhost:8080/"
        },
        "id": "Jn3_XOeMDFtg",
        "outputId": "cc6c845b-e054-43a7-cca2-6f50262ac2a4"
      },
      "execution_count": 22,
      "outputs": [
        {
          "output_type": "execute_result",
          "data": {
            "text/plain": [
              "['0.000000',\n",
              " '0.000000',\n",
              " '0.952800',\n",
              " '0.000000',\n",
              " '0.000000',\n",
              " '0.000000',\n",
              " '0.000000',\n",
              " '0.000000',\n",
              " '0.006710',\n",
              " '0.000000',\n",
              " '0.000000',\n",
              " '0.000100',\n",
              " '0.000000',\n",
              " '0.000000',\n",
              " '0.000000',\n",
              " '0.000000',\n",
              " '0.038260',\n",
              " '0.000000',\n",
              " '0.000000',\n",
              " '0.000130',\n",
              " '0.000000',\n",
              " '0.000000',\n",
              " '0.000010',\n",
              " '0.000000',\n",
              " '0.000000',\n",
              " '0.001980',\n",
              " '0.000000',\n",
              " '0.000000']"
            ]
          },
          "metadata": {},
          "execution_count": 22
        }
      ]
    },
    {
      "cell_type": "code",
      "source": [
        "## locate incorrectly classified animals\n"
      ],
      "metadata": {
        "id": "13qKO6NMrWm5"
      },
      "execution_count": null,
      "outputs": []
    },
    {
      "cell_type": "markdown",
      "source": [
        "Create Weights for underepresented classes"
      ],
      "metadata": {
        "id": "Bq0lVqWN3XSJ"
      }
    },
    {
      "cell_type": "code",
      "source": [
        "from sklearn.utils import class_weight"
      ],
      "metadata": {
        "id": "s7owBw6H243v"
      },
      "execution_count": 29,
      "outputs": []
    },
    {
      "cell_type": "code",
      "source": [
        "# Turn one hot array into integers\n",
        "y_train_1d=np.argmax(y_train, axis=1)\n",
        "\n",
        "class_weights=class_weight.compute_class_weight(class_weight='balanced',\n",
        "                                                classes=np.unique(y_train_1d),\n",
        "                                                y=y_train_1d)"
      ],
      "metadata": {
        "id": "tg-ea2Lv33FC"
      },
      "execution_count": 30,
      "outputs": []
    },
    {
      "cell_type": "code",
      "source": [
        "class_weights"
      ],
      "metadata": {
        "colab": {
          "base_uri": "https://localhost:8080/"
        },
        "id": "EacWwOAIAFnF",
        "outputId": "3897fcf9-cc35-4d99-db82-713d33fb5a4c"
      },
      "execution_count": 31,
      "outputs": [
        {
          "output_type": "execute_result",
          "data": {
            "text/plain": [
              "array([  0.24477009,   0.37731481,   0.16976727,  11.8175    ,\n",
              "        19.69583333,   5.13804348,   5.54812207,   0.57674475,\n",
              "         0.54035208,   1.3837822 , 131.30555556,  15.96959459,\n",
              "         1.61001362,   0.24650605,   0.75366709,   7.47943038,\n",
              "         1.07334242,   1.12978011,  12.18298969,   7.03422619,\n",
              "        23.635     ,  31.09868421,   4.3129562 ,   4.96533613,\n",
              "         2.09530142,   1.08021024,   3.69296875,   7.9847973 ])"
            ]
          },
          "metadata": {},
          "execution_count": 31
        }
      ]
    },
    {
      "cell_type": "markdown",
      "source": [
        "weights array needs to be dictionary"
      ],
      "metadata": {
        "id": "1Lw4PH-fASQQ"
      }
    },
    {
      "cell_type": "code",
      "source": [
        "class_weight_dict=dict(enumerate(class_weights))"
      ],
      "metadata": {
        "id": "UGGcS31SARBd"
      },
      "execution_count": 32,
      "outputs": []
    },
    {
      "cell_type": "code",
      "source": [
        "class_weight_dict"
      ],
      "metadata": {
        "colab": {
          "base_uri": "https://localhost:8080/"
        },
        "id": "PPaP4cyv-cIG",
        "outputId": "72557de7-0d75-4eb9-d05c-6b78fffdc61d"
      },
      "execution_count": 33,
      "outputs": [
        {
          "output_type": "execute_result",
          "data": {
            "text/plain": [
              "{0: 0.24477009113504558,\n",
              " 1: 0.3773148148148148,\n",
              " 2: 0.16976727481683665,\n",
              " 3: 11.8175,\n",
              " 4: 19.695833333333333,\n",
              " 5: 5.13804347826087,\n",
              " 6: 5.5481220657277,\n",
              " 7: 0.5767447535383113,\n",
              " 8: 0.5403520804755373,\n",
              " 9: 1.3837822014051522,\n",
              " 10: 131.30555555555554,\n",
              " 11: 15.969594594594595,\n",
              " 12: 1.6100136239782017,\n",
              " 13: 0.2465060492282019,\n",
              " 14: 0.7536670918367347,\n",
              " 15: 7.4794303797468356,\n",
              " 16: 1.0733424159854676,\n",
              " 17: 1.1297801147227533,\n",
              " 18: 12.18298969072165,\n",
              " 19: 7.034226190476191,\n",
              " 20: 23.635,\n",
              " 21: 31.098684210526315,\n",
              " 22: 4.312956204379562,\n",
              " 23: 4.965336134453781,\n",
              " 24: 2.0953014184397163,\n",
              " 25: 1.0802102376599634,\n",
              " 26: 3.69296875,\n",
              " 27: 7.984797297297297}"
            ]
          },
          "metadata": {},
          "execution_count": 33
        }
      ]
    },
    {
      "cell_type": "code",
      "source": [
        "#Manually adjusting weights for only the poorly classified classes\n",
        "adjusted_class_weights={\n",
        "    0: 1.,\n",
        "    1: 1.,\n",
        "    2: 1.,\n",
        "    3: 1.,\n",
        "    4: 1.,\n",
        "    5: 1.,\n",
        "    6: 5.,\n",
        "    7: 1.,\n",
        "    8: 1.,\n",
        "    9: 1.,\n",
        "    10: 1.,\n",
        "    11: 6.,\n",
        "    12: 1.,\n",
        "    13: 1.,\n",
        "    14: 1.,\n",
        "    15: 4.,\n",
        "    16: 1.,\n",
        "    17: 1.,\n",
        "    18: 1.,\n",
        "    19: 4.,\n",
        "    20: 10.,\n",
        "    21: 10.,\n",
        "    22: 1.,\n",
        "    23: 1.,\n",
        "    24: 1.,\n",
        "    25: 1.,\n",
        "    26: 1.,\n",
        "    27: 1.}"
      ],
      "metadata": {
        "id": "zKAUhh-HGp9h"
      },
      "execution_count": 7,
      "outputs": []
    },
    {
      "cell_type": "markdown",
      "source": [
        "Add weights to training"
      ],
      "metadata": {
        "id": "UvaY7uvS_fW1"
      }
    },
    {
      "cell_type": "code",
      "source": [
        "from tensorflow.keras import layers\n",
        "from keras.models import Sequential,Input,Model\n",
        "from keras.layers import Dense, Dropout, Flatten\n",
        "from keras.layers import Conv2D, MaxPooling2D\n",
        "\n",
        "model4 = keras.models.Sequential()\n",
        "model4.add(Conv2D(32, kernel_size=(3, 3),activation='relu',input_shape=(150,200,1),padding='same'))\n",
        "model4.add(MaxPooling2D((2, 2),padding='same'))\n",
        "model4.add(Conv2D(64, (3, 3), activation='relu',padding='same'))\n",
        "model4.add(MaxPooling2D(pool_size=(2, 2),padding='same'))\n",
        "model4.add(Dropout(0.28))\n",
        "model4.add(Conv2D(128, (3, 3), activation='relu',padding='same'))                 \n",
        "model4.add(MaxPooling2D(pool_size=(2, 2),padding='same'))\n",
        "model4.add(Dropout(0.35))\n",
        "model4.add(Conv2D(256, (3, 3), activation='relu',padding='same'))                 \n",
        "model4.add(MaxPooling2D(pool_size=(3, 3),padding='same'))\n",
        "model4.add(Dropout(0.40))\n",
        "model4.add(Conv2D(512, (3, 3), activation='relu',padding='same'))                 \n",
        "model4.add(MaxPooling2D(pool_size=(3, 3),padding='same'))\n",
        "model4.add(Dropout(0.40))\n",
        "model4.add(Conv2D(800, (3, 3), activation='relu',padding='same'))                 \n",
        "model4.add(MaxPooling2D(pool_size=(2, 2),padding='same'))\n",
        "model4.add(Dropout(0.40))\n",
        "model4.add(Flatten())\n",
        "model4.add(Dense(600, activation='relu'))               \n",
        "model4.add(Dense(28, activation='softmax'))"
      ],
      "metadata": {
        "id": "082lwOEEOglX"
      },
      "execution_count": 8,
      "outputs": []
    },
    {
      "cell_type": "code",
      "source": [
        "model4.compile(optimizer='adam', loss='categorical_crossentropy', metrics=['accuracy'])"
      ],
      "metadata": {
        "id": "uKC3bi5vOsXo"
      },
      "execution_count": 9,
      "outputs": []
    },
    {
      "cell_type": "code",
      "source": [
        "model4.fit(X_train, y_train, class_weight=adjusted_class_weights, epochs=30, validation_data=(X_val, y_val))"
      ],
      "metadata": {
        "colab": {
          "base_uri": "https://localhost:8080/",
          "height": 1000
        },
        "id": "meHx6P3533Bt",
        "outputId": "da3c0d1a-8e72-4623-a6da-63ee2289a5df"
      },
      "execution_count": 10,
      "outputs": [
        {
          "output_type": "stream",
          "name": "stdout",
          "text": [
            "Epoch 1/30\n",
            "1035/1035 [==============================] - 71s 53ms/step - loss: 2.4223 - accuracy: 0.3773 - val_loss: 1.5480 - val_accuracy: 0.5206\n",
            "Epoch 2/30\n",
            "1035/1035 [==============================] - 50s 49ms/step - loss: 1.7234 - accuracy: 0.5613 - val_loss: 1.3672 - val_accuracy: 0.5833\n",
            "Epoch 3/30\n",
            "1035/1035 [==============================] - 50s 48ms/step - loss: 1.5369 - accuracy: 0.6010 - val_loss: 1.2107 - val_accuracy: 0.6325\n",
            "Epoch 4/30\n",
            "1035/1035 [==============================] - 50s 48ms/step - loss: 1.4609 - accuracy: 0.6194 - val_loss: 1.2531 - val_accuracy: 0.6167\n",
            "Epoch 5/30\n",
            "1035/1035 [==============================] - 50s 48ms/step - loss: 1.3679 - accuracy: 0.6369 - val_loss: 1.2098 - val_accuracy: 0.6208\n",
            "Epoch 6/30\n",
            "1035/1035 [==============================] - 50s 48ms/step - loss: 1.3229 - accuracy: 0.6435 - val_loss: 1.0476 - val_accuracy: 0.6745\n",
            "Epoch 7/30\n",
            "1035/1035 [==============================] - 50s 48ms/step - loss: 1.2769 - accuracy: 0.6532 - val_loss: 1.1655 - val_accuracy: 0.6364\n",
            "Epoch 8/30\n",
            "1035/1035 [==============================] - 50s 48ms/step - loss: 1.2503 - accuracy: 0.6619 - val_loss: 1.1166 - val_accuracy: 0.6425\n",
            "Epoch 9/30\n",
            "1035/1035 [==============================] - 50s 48ms/step - loss: 1.2333 - accuracy: 0.6646 - val_loss: 1.0718 - val_accuracy: 0.6634\n",
            "Epoch 10/30\n",
            "1035/1035 [==============================] - 50s 48ms/step - loss: 1.1937 - accuracy: 0.6701 - val_loss: 1.0658 - val_accuracy: 0.6595\n",
            "Epoch 11/30\n",
            "1035/1035 [==============================] - 50s 48ms/step - loss: 1.1785 - accuracy: 0.6774 - val_loss: 1.0349 - val_accuracy: 0.6770\n",
            "Epoch 12/30\n",
            "1035/1035 [==============================] - 50s 48ms/step - loss: 1.1564 - accuracy: 0.6787 - val_loss: 1.0961 - val_accuracy: 0.6509\n",
            "Epoch 13/30\n",
            "1035/1035 [==============================] - 50s 48ms/step - loss: 1.1465 - accuracy: 0.6816 - val_loss: 1.0368 - val_accuracy: 0.6761\n",
            "Epoch 14/30\n",
            "1035/1035 [==============================] - 50s 48ms/step - loss: 1.1146 - accuracy: 0.6912 - val_loss: 1.0691 - val_accuracy: 0.6618\n",
            "Epoch 15/30\n",
            "1035/1035 [==============================] - 50s 48ms/step - loss: 1.1241 - accuracy: 0.6879 - val_loss: 1.1501 - val_accuracy: 0.6434\n",
            "Epoch 16/30\n",
            "1035/1035 [==============================] - 50s 48ms/step - loss: 1.1193 - accuracy: 0.6854 - val_loss: 1.1556 - val_accuracy: 0.6454\n",
            "Epoch 17/30\n",
            "1035/1035 [==============================] - 50s 48ms/step - loss: 1.1055 - accuracy: 0.6923 - val_loss: 1.1258 - val_accuracy: 0.6559\n",
            "Epoch 18/30\n",
            "1035/1035 [==============================] - 50s 48ms/step - loss: 1.0886 - accuracy: 0.6942 - val_loss: 1.2041 - val_accuracy: 0.6200\n",
            "Epoch 19/30\n",
            "1035/1035 [==============================] - 50s 48ms/step - loss: 1.0887 - accuracy: 0.6979 - val_loss: 1.0495 - val_accuracy: 0.6703\n",
            "Epoch 20/30\n",
            "1035/1035 [==============================] - 50s 48ms/step - loss: 1.0677 - accuracy: 0.6959 - val_loss: 1.0098 - val_accuracy: 0.6834\n",
            "Epoch 21/30\n",
            "1035/1035 [==============================] - 50s 48ms/step - loss: 1.0612 - accuracy: 0.7015 - val_loss: 1.2104 - val_accuracy: 0.6447\n",
            "Epoch 22/30\n",
            "1035/1035 [==============================] - 50s 48ms/step - loss: 1.0527 - accuracy: 0.6994 - val_loss: 1.0777 - val_accuracy: 0.6659\n",
            "Epoch 23/30\n",
            "1035/1035 [==============================] - 50s 49ms/step - loss: 1.0734 - accuracy: 0.7028 - val_loss: 1.1648 - val_accuracy: 0.6433\n",
            "Epoch 24/30\n",
            "1035/1035 [==============================] - 50s 49ms/step - loss: 1.0620 - accuracy: 0.7002 - val_loss: 1.0601 - val_accuracy: 0.6667\n",
            "Epoch 25/30\n",
            "1035/1035 [==============================] - 50s 49ms/step - loss: 1.0229 - accuracy: 0.7076 - val_loss: 1.0723 - val_accuracy: 0.6646\n",
            "Epoch 26/30\n",
            "1035/1035 [==============================] - 50s 49ms/step - loss: 1.1093 - accuracy: 0.6902 - val_loss: 1.2603 - val_accuracy: 0.6079\n",
            "Epoch 27/30\n",
            " 358/1035 [=========>....................] - ETA: 30s - loss: 1.0824 - accuracy: 0.6936"
          ]
        },
        {
          "output_type": "error",
          "ename": "KeyboardInterrupt",
          "evalue": "ignored",
          "traceback": [
            "\u001b[0;31m---------------------------------------------------------------------------\u001b[0m",
            "\u001b[0;31mKeyboardInterrupt\u001b[0m                         Traceback (most recent call last)",
            "\u001b[0;32m<ipython-input-10-af77e28301d3>\u001b[0m in \u001b[0;36m<module>\u001b[0;34m()\u001b[0m\n\u001b[0;32m----> 1\u001b[0;31m \u001b[0mmodel4\u001b[0m\u001b[0;34m.\u001b[0m\u001b[0mfit\u001b[0m\u001b[0;34m(\u001b[0m\u001b[0mX_train\u001b[0m\u001b[0;34m,\u001b[0m \u001b[0my_train\u001b[0m\u001b[0;34m,\u001b[0m \u001b[0mclass_weight\u001b[0m\u001b[0;34m=\u001b[0m\u001b[0madjusted_class_weights\u001b[0m\u001b[0;34m,\u001b[0m \u001b[0mepochs\u001b[0m\u001b[0;34m=\u001b[0m\u001b[0;36m30\u001b[0m\u001b[0;34m,\u001b[0m \u001b[0mvalidation_data\u001b[0m\u001b[0;34m=\u001b[0m\u001b[0;34m(\u001b[0m\u001b[0mX_val\u001b[0m\u001b[0;34m,\u001b[0m \u001b[0my_val\u001b[0m\u001b[0;34m)\u001b[0m\u001b[0;34m)\u001b[0m\u001b[0;34m\u001b[0m\u001b[0;34m\u001b[0m\u001b[0m\n\u001b[0m",
            "\u001b[0;32m/usr/local/lib/python3.7/dist-packages/keras/utils/traceback_utils.py\u001b[0m in \u001b[0;36merror_handler\u001b[0;34m(*args, **kwargs)\u001b[0m\n\u001b[1;32m     62\u001b[0m     \u001b[0mfiltered_tb\u001b[0m \u001b[0;34m=\u001b[0m \u001b[0;32mNone\u001b[0m\u001b[0;34m\u001b[0m\u001b[0;34m\u001b[0m\u001b[0m\n\u001b[1;32m     63\u001b[0m     \u001b[0;32mtry\u001b[0m\u001b[0;34m:\u001b[0m\u001b[0;34m\u001b[0m\u001b[0;34m\u001b[0m\u001b[0m\n\u001b[0;32m---> 64\u001b[0;31m       \u001b[0;32mreturn\u001b[0m \u001b[0mfn\u001b[0m\u001b[0;34m(\u001b[0m\u001b[0;34m*\u001b[0m\u001b[0margs\u001b[0m\u001b[0;34m,\u001b[0m \u001b[0;34m**\u001b[0m\u001b[0mkwargs\u001b[0m\u001b[0;34m)\u001b[0m\u001b[0;34m\u001b[0m\u001b[0;34m\u001b[0m\u001b[0m\n\u001b[0m\u001b[1;32m     65\u001b[0m     \u001b[0;32mexcept\u001b[0m \u001b[0mException\u001b[0m \u001b[0;32mas\u001b[0m \u001b[0me\u001b[0m\u001b[0;34m:\u001b[0m  \u001b[0;31m# pylint: disable=broad-except\u001b[0m\u001b[0;34m\u001b[0m\u001b[0;34m\u001b[0m\u001b[0m\n\u001b[1;32m     66\u001b[0m       \u001b[0mfiltered_tb\u001b[0m \u001b[0;34m=\u001b[0m \u001b[0m_process_traceback_frames\u001b[0m\u001b[0;34m(\u001b[0m\u001b[0me\u001b[0m\u001b[0;34m.\u001b[0m\u001b[0m__traceback__\u001b[0m\u001b[0;34m)\u001b[0m\u001b[0;34m\u001b[0m\u001b[0;34m\u001b[0m\u001b[0m\n",
            "\u001b[0;32m/usr/local/lib/python3.7/dist-packages/keras/engine/training.py\u001b[0m in \u001b[0;36mfit\u001b[0;34m(self, x, y, batch_size, epochs, verbose, callbacks, validation_split, validation_data, shuffle, class_weight, sample_weight, initial_epoch, steps_per_epoch, validation_steps, validation_batch_size, validation_freq, max_queue_size, workers, use_multiprocessing)\u001b[0m\n\u001b[1;32m   1382\u001b[0m                 _r=1):\n\u001b[1;32m   1383\u001b[0m               \u001b[0mcallbacks\u001b[0m\u001b[0;34m.\u001b[0m\u001b[0mon_train_batch_begin\u001b[0m\u001b[0;34m(\u001b[0m\u001b[0mstep\u001b[0m\u001b[0;34m)\u001b[0m\u001b[0;34m\u001b[0m\u001b[0;34m\u001b[0m\u001b[0m\n\u001b[0;32m-> 1384\u001b[0;31m               \u001b[0mtmp_logs\u001b[0m \u001b[0;34m=\u001b[0m \u001b[0mself\u001b[0m\u001b[0;34m.\u001b[0m\u001b[0mtrain_function\u001b[0m\u001b[0;34m(\u001b[0m\u001b[0miterator\u001b[0m\u001b[0;34m)\u001b[0m\u001b[0;34m\u001b[0m\u001b[0;34m\u001b[0m\u001b[0m\n\u001b[0m\u001b[1;32m   1385\u001b[0m               \u001b[0;32mif\u001b[0m \u001b[0mdata_handler\u001b[0m\u001b[0;34m.\u001b[0m\u001b[0mshould_sync\u001b[0m\u001b[0;34m:\u001b[0m\u001b[0;34m\u001b[0m\u001b[0;34m\u001b[0m\u001b[0m\n\u001b[1;32m   1386\u001b[0m                 \u001b[0mcontext\u001b[0m\u001b[0;34m.\u001b[0m\u001b[0masync_wait\u001b[0m\u001b[0;34m(\u001b[0m\u001b[0;34m)\u001b[0m\u001b[0;34m\u001b[0m\u001b[0;34m\u001b[0m\u001b[0m\n",
            "\u001b[0;32m/usr/local/lib/python3.7/dist-packages/tensorflow/python/util/traceback_utils.py\u001b[0m in \u001b[0;36merror_handler\u001b[0;34m(*args, **kwargs)\u001b[0m\n\u001b[1;32m    148\u001b[0m     \u001b[0mfiltered_tb\u001b[0m \u001b[0;34m=\u001b[0m \u001b[0;32mNone\u001b[0m\u001b[0;34m\u001b[0m\u001b[0;34m\u001b[0m\u001b[0m\n\u001b[1;32m    149\u001b[0m     \u001b[0;32mtry\u001b[0m\u001b[0;34m:\u001b[0m\u001b[0;34m\u001b[0m\u001b[0;34m\u001b[0m\u001b[0m\n\u001b[0;32m--> 150\u001b[0;31m       \u001b[0;32mreturn\u001b[0m \u001b[0mfn\u001b[0m\u001b[0;34m(\u001b[0m\u001b[0;34m*\u001b[0m\u001b[0margs\u001b[0m\u001b[0;34m,\u001b[0m \u001b[0;34m**\u001b[0m\u001b[0mkwargs\u001b[0m\u001b[0;34m)\u001b[0m\u001b[0;34m\u001b[0m\u001b[0;34m\u001b[0m\u001b[0m\n\u001b[0m\u001b[1;32m    151\u001b[0m     \u001b[0;32mexcept\u001b[0m \u001b[0mException\u001b[0m \u001b[0;32mas\u001b[0m \u001b[0me\u001b[0m\u001b[0;34m:\u001b[0m\u001b[0;34m\u001b[0m\u001b[0;34m\u001b[0m\u001b[0m\n\u001b[1;32m    152\u001b[0m       \u001b[0mfiltered_tb\u001b[0m \u001b[0;34m=\u001b[0m \u001b[0m_process_traceback_frames\u001b[0m\u001b[0;34m(\u001b[0m\u001b[0me\u001b[0m\u001b[0;34m.\u001b[0m\u001b[0m__traceback__\u001b[0m\u001b[0;34m)\u001b[0m\u001b[0;34m\u001b[0m\u001b[0;34m\u001b[0m\u001b[0m\n",
            "\u001b[0;32m/usr/local/lib/python3.7/dist-packages/tensorflow/python/eager/def_function.py\u001b[0m in \u001b[0;36m__call__\u001b[0;34m(self, *args, **kwds)\u001b[0m\n\u001b[1;32m    913\u001b[0m \u001b[0;34m\u001b[0m\u001b[0m\n\u001b[1;32m    914\u001b[0m       \u001b[0;32mwith\u001b[0m \u001b[0mOptionalXlaContext\u001b[0m\u001b[0;34m(\u001b[0m\u001b[0mself\u001b[0m\u001b[0;34m.\u001b[0m\u001b[0m_jit_compile\u001b[0m\u001b[0;34m)\u001b[0m\u001b[0;34m:\u001b[0m\u001b[0;34m\u001b[0m\u001b[0;34m\u001b[0m\u001b[0m\n\u001b[0;32m--> 915\u001b[0;31m         \u001b[0mresult\u001b[0m \u001b[0;34m=\u001b[0m \u001b[0mself\u001b[0m\u001b[0;34m.\u001b[0m\u001b[0m_call\u001b[0m\u001b[0;34m(\u001b[0m\u001b[0;34m*\u001b[0m\u001b[0margs\u001b[0m\u001b[0;34m,\u001b[0m \u001b[0;34m**\u001b[0m\u001b[0mkwds\u001b[0m\u001b[0;34m)\u001b[0m\u001b[0;34m\u001b[0m\u001b[0;34m\u001b[0m\u001b[0m\n\u001b[0m\u001b[1;32m    916\u001b[0m \u001b[0;34m\u001b[0m\u001b[0m\n\u001b[1;32m    917\u001b[0m       \u001b[0mnew_tracing_count\u001b[0m \u001b[0;34m=\u001b[0m \u001b[0mself\u001b[0m\u001b[0;34m.\u001b[0m\u001b[0mexperimental_get_tracing_count\u001b[0m\u001b[0;34m(\u001b[0m\u001b[0;34m)\u001b[0m\u001b[0;34m\u001b[0m\u001b[0;34m\u001b[0m\u001b[0m\n",
            "\u001b[0;32m/usr/local/lib/python3.7/dist-packages/tensorflow/python/eager/def_function.py\u001b[0m in \u001b[0;36m_call\u001b[0;34m(self, *args, **kwds)\u001b[0m\n\u001b[1;32m    945\u001b[0m       \u001b[0;31m# In this case we have created variables on the first call, so we run the\u001b[0m\u001b[0;34m\u001b[0m\u001b[0;34m\u001b[0m\u001b[0;34m\u001b[0m\u001b[0m\n\u001b[1;32m    946\u001b[0m       \u001b[0;31m# defunned version which is guaranteed to never create variables.\u001b[0m\u001b[0;34m\u001b[0m\u001b[0;34m\u001b[0m\u001b[0;34m\u001b[0m\u001b[0m\n\u001b[0;32m--> 947\u001b[0;31m       \u001b[0;32mreturn\u001b[0m \u001b[0mself\u001b[0m\u001b[0;34m.\u001b[0m\u001b[0m_stateless_fn\u001b[0m\u001b[0;34m(\u001b[0m\u001b[0;34m*\u001b[0m\u001b[0margs\u001b[0m\u001b[0;34m,\u001b[0m \u001b[0;34m**\u001b[0m\u001b[0mkwds\u001b[0m\u001b[0;34m)\u001b[0m  \u001b[0;31m# pylint: disable=not-callable\u001b[0m\u001b[0;34m\u001b[0m\u001b[0;34m\u001b[0m\u001b[0m\n\u001b[0m\u001b[1;32m    948\u001b[0m     \u001b[0;32melif\u001b[0m \u001b[0mself\u001b[0m\u001b[0;34m.\u001b[0m\u001b[0m_stateful_fn\u001b[0m \u001b[0;32mis\u001b[0m \u001b[0;32mnot\u001b[0m \u001b[0;32mNone\u001b[0m\u001b[0;34m:\u001b[0m\u001b[0;34m\u001b[0m\u001b[0;34m\u001b[0m\u001b[0m\n\u001b[1;32m    949\u001b[0m       \u001b[0;31m# Release the lock early so that multiple threads can perform the call\u001b[0m\u001b[0;34m\u001b[0m\u001b[0;34m\u001b[0m\u001b[0;34m\u001b[0m\u001b[0m\n",
            "\u001b[0;32m/usr/local/lib/python3.7/dist-packages/tensorflow/python/eager/function.py\u001b[0m in \u001b[0;36m__call__\u001b[0;34m(self, *args, **kwargs)\u001b[0m\n\u001b[1;32m   2955\u001b[0m        filtered_flat_args) = self._maybe_define_function(args, kwargs)\n\u001b[1;32m   2956\u001b[0m     return graph_function._call_flat(\n\u001b[0;32m-> 2957\u001b[0;31m         filtered_flat_args, captured_inputs=graph_function.captured_inputs)  # pylint: disable=protected-access\n\u001b[0m\u001b[1;32m   2958\u001b[0m \u001b[0;34m\u001b[0m\u001b[0m\n\u001b[1;32m   2959\u001b[0m   \u001b[0;34m@\u001b[0m\u001b[0mproperty\u001b[0m\u001b[0;34m\u001b[0m\u001b[0;34m\u001b[0m\u001b[0m\n",
            "\u001b[0;32m/usr/local/lib/python3.7/dist-packages/tensorflow/python/eager/function.py\u001b[0m in \u001b[0;36m_call_flat\u001b[0;34m(self, args, captured_inputs, cancellation_manager)\u001b[0m\n\u001b[1;32m   1852\u001b[0m       \u001b[0;31m# No tape is watching; skip to running the function.\u001b[0m\u001b[0;34m\u001b[0m\u001b[0;34m\u001b[0m\u001b[0;34m\u001b[0m\u001b[0m\n\u001b[1;32m   1853\u001b[0m       return self._build_call_outputs(self._inference_function.call(\n\u001b[0;32m-> 1854\u001b[0;31m           ctx, args, cancellation_manager=cancellation_manager))\n\u001b[0m\u001b[1;32m   1855\u001b[0m     forward_backward = self._select_forward_and_backward_functions(\n\u001b[1;32m   1856\u001b[0m         \u001b[0margs\u001b[0m\u001b[0;34m,\u001b[0m\u001b[0;34m\u001b[0m\u001b[0;34m\u001b[0m\u001b[0m\n",
            "\u001b[0;32m/usr/local/lib/python3.7/dist-packages/tensorflow/python/eager/function.py\u001b[0m in \u001b[0;36mcall\u001b[0;34m(self, ctx, args, cancellation_manager)\u001b[0m\n\u001b[1;32m    502\u001b[0m               \u001b[0minputs\u001b[0m\u001b[0;34m=\u001b[0m\u001b[0margs\u001b[0m\u001b[0;34m,\u001b[0m\u001b[0;34m\u001b[0m\u001b[0;34m\u001b[0m\u001b[0m\n\u001b[1;32m    503\u001b[0m               \u001b[0mattrs\u001b[0m\u001b[0;34m=\u001b[0m\u001b[0mattrs\u001b[0m\u001b[0;34m,\u001b[0m\u001b[0;34m\u001b[0m\u001b[0;34m\u001b[0m\u001b[0m\n\u001b[0;32m--> 504\u001b[0;31m               ctx=ctx)\n\u001b[0m\u001b[1;32m    505\u001b[0m         \u001b[0;32melse\u001b[0m\u001b[0;34m:\u001b[0m\u001b[0;34m\u001b[0m\u001b[0;34m\u001b[0m\u001b[0m\n\u001b[1;32m    506\u001b[0m           outputs = execute.execute_with_cancellation(\n",
            "\u001b[0;32m/usr/local/lib/python3.7/dist-packages/tensorflow/python/eager/execute.py\u001b[0m in \u001b[0;36mquick_execute\u001b[0;34m(op_name, num_outputs, inputs, attrs, ctx, name)\u001b[0m\n\u001b[1;32m     53\u001b[0m     \u001b[0mctx\u001b[0m\u001b[0;34m.\u001b[0m\u001b[0mensure_initialized\u001b[0m\u001b[0;34m(\u001b[0m\u001b[0;34m)\u001b[0m\u001b[0;34m\u001b[0m\u001b[0;34m\u001b[0m\u001b[0m\n\u001b[1;32m     54\u001b[0m     tensors = pywrap_tfe.TFE_Py_Execute(ctx._handle, device_name, op_name,\n\u001b[0;32m---> 55\u001b[0;31m                                         inputs, attrs, num_outputs)\n\u001b[0m\u001b[1;32m     56\u001b[0m   \u001b[0;32mexcept\u001b[0m \u001b[0mcore\u001b[0m\u001b[0;34m.\u001b[0m\u001b[0m_NotOkStatusException\u001b[0m \u001b[0;32mas\u001b[0m \u001b[0me\u001b[0m\u001b[0;34m:\u001b[0m\u001b[0;34m\u001b[0m\u001b[0;34m\u001b[0m\u001b[0m\n\u001b[1;32m     57\u001b[0m     \u001b[0;32mif\u001b[0m \u001b[0mname\u001b[0m \u001b[0;32mis\u001b[0m \u001b[0;32mnot\u001b[0m \u001b[0;32mNone\u001b[0m\u001b[0;34m:\u001b[0m\u001b[0;34m\u001b[0m\u001b[0;34m\u001b[0m\u001b[0m\n",
            "\u001b[0;31mKeyboardInterrupt\u001b[0m: "
          ]
        }
      ]
    },
    {
      "cell_type": "code",
      "source": [
        "## weighted all 1's   Accuracy: 79   Val Accuracy: 79  after 29 epochs"
      ],
      "metadata": {
        "id": "bXlClsGl32_H"
      },
      "execution_count": null,
      "outputs": []
    },
    {
      "cell_type": "code",
      "source": [
        ""
      ],
      "metadata": {
        "id": "yN82DhKf328L"
      },
      "execution_count": null,
      "outputs": []
    }
  ]
}