{
  "cells": [
    {
      "cell_type": "code",
      "execution_count": 5,
      "metadata": {
        "id": "KB0swW82cp2L"
      },
      "outputs": [],
      "source": [
        "import pandas as pd\n",
        "import numpy as np\n",
        "import matplotlib.pyplot as plt\n",
        "import PIL\n",
        "from PIL import Image\n",
        "from numpy import asarray\n",
        "import glob\n",
        "import cv2\n",
        "# import tensorflow as tf\n",
        "# from tensorflow import keras"
      ]
    },
    {
      "cell_type": "code",
      "source": [
        "from google.colab import drive\n",
        "drive.mount('/content/drive')"
      ],
      "metadata": {
        "colab": {
          "base_uri": "https://localhost:8080/"
        },
        "id": "drYgzRSQcXyv",
        "outputId": "5a64449a-f400-422a-ef06-6eec3753649d"
      },
      "execution_count": 16,
      "outputs": [
        {
          "output_type": "stream",
          "name": "stdout",
          "text": [
            "Mounted at /content/drive\n"
          ]
        }
      ]
    },
    {
      "cell_type": "markdown",
      "metadata": {
        "id": "DIjVeJ_Mcp2O"
      },
      "source": [
        "## Import Data"
      ]
    },
    {
      "cell_type": "markdown",
      "metadata": {
        "id": "W0rWR2mHcp2P"
      },
      "source": [
        "#### Labels for images   ____ train.csv"
      ]
    },
    {
      "cell_type": "code",
      "execution_count": 6,
      "metadata": {
        "scrolled": true,
        "id": "8_fosrQCcp2Z"
      },
      "outputs": [],
      "source": [
        "Labels_DF=pd.read_csv(\"Labels_DF.csv\")"
      ]
    },
    {
      "cell_type": "code",
      "source": [
        "Labels_DF.head(5)"
      ],
      "metadata": {
        "colab": {
          "base_uri": "https://localhost:8080/",
          "height": 206
        },
        "id": "4hE0A9W7VoX0",
        "outputId": "c6755fcf-d15e-495e-961c-1674549ed1b1"
      },
      "execution_count": 7,
      "outputs": [
        {
          "output_type": "execute_result",
          "data": {
            "text/plain": [
              "   Unnamed: 0           file_name             species individual_id  category  \\\n",
              "0           0  00021adfb725ed.jpg  melon_headed_whale  cadddb1636b9         1   \n",
              "1           1  000562241d384d.jpg      humpback_whale  1a71fbb72250         1   \n",
              "2           2  0007c33415ce37.jpg  false_killer_whale  60008f293a2b         1   \n",
              "3           3  0007d9bca26a99.jpg  bottlenose_dolphin  4b00fe572063         0   \n",
              "4           4  00087baf5cef7a.jpg      humpback_whale  8e5253662392         1   \n",
              "\n",
              "   species_category  \n",
              "0                16  \n",
              "1                13  \n",
              "2                 8  \n",
              "3                 2  \n",
              "4                13  "
            ],
            "text/html": [
              "\n",
              "  <div id=\"df-bc7e5fa0-c051-449f-a3ad-4f272f156319\">\n",
              "    <div class=\"colab-df-container\">\n",
              "      <div>\n",
              "<style scoped>\n",
              "    .dataframe tbody tr th:only-of-type {\n",
              "        vertical-align: middle;\n",
              "    }\n",
              "\n",
              "    .dataframe tbody tr th {\n",
              "        vertical-align: top;\n",
              "    }\n",
              "\n",
              "    .dataframe thead th {\n",
              "        text-align: right;\n",
              "    }\n",
              "</style>\n",
              "<table border=\"1\" class=\"dataframe\">\n",
              "  <thead>\n",
              "    <tr style=\"text-align: right;\">\n",
              "      <th></th>\n",
              "      <th>Unnamed: 0</th>\n",
              "      <th>file_name</th>\n",
              "      <th>species</th>\n",
              "      <th>individual_id</th>\n",
              "      <th>category</th>\n",
              "      <th>species_category</th>\n",
              "    </tr>\n",
              "  </thead>\n",
              "  <tbody>\n",
              "    <tr>\n",
              "      <th>0</th>\n",
              "      <td>0</td>\n",
              "      <td>00021adfb725ed.jpg</td>\n",
              "      <td>melon_headed_whale</td>\n",
              "      <td>cadddb1636b9</td>\n",
              "      <td>1</td>\n",
              "      <td>16</td>\n",
              "    </tr>\n",
              "    <tr>\n",
              "      <th>1</th>\n",
              "      <td>1</td>\n",
              "      <td>000562241d384d.jpg</td>\n",
              "      <td>humpback_whale</td>\n",
              "      <td>1a71fbb72250</td>\n",
              "      <td>1</td>\n",
              "      <td>13</td>\n",
              "    </tr>\n",
              "    <tr>\n",
              "      <th>2</th>\n",
              "      <td>2</td>\n",
              "      <td>0007c33415ce37.jpg</td>\n",
              "      <td>false_killer_whale</td>\n",
              "      <td>60008f293a2b</td>\n",
              "      <td>1</td>\n",
              "      <td>8</td>\n",
              "    </tr>\n",
              "    <tr>\n",
              "      <th>3</th>\n",
              "      <td>3</td>\n",
              "      <td>0007d9bca26a99.jpg</td>\n",
              "      <td>bottlenose_dolphin</td>\n",
              "      <td>4b00fe572063</td>\n",
              "      <td>0</td>\n",
              "      <td>2</td>\n",
              "    </tr>\n",
              "    <tr>\n",
              "      <th>4</th>\n",
              "      <td>4</td>\n",
              "      <td>00087baf5cef7a.jpg</td>\n",
              "      <td>humpback_whale</td>\n",
              "      <td>8e5253662392</td>\n",
              "      <td>1</td>\n",
              "      <td>13</td>\n",
              "    </tr>\n",
              "  </tbody>\n",
              "</table>\n",
              "</div>\n",
              "      <button class=\"colab-df-convert\" onclick=\"convertToInteractive('df-bc7e5fa0-c051-449f-a3ad-4f272f156319')\"\n",
              "              title=\"Convert this dataframe to an interactive table.\"\n",
              "              style=\"display:none;\">\n",
              "        \n",
              "  <svg xmlns=\"http://www.w3.org/2000/svg\" height=\"24px\"viewBox=\"0 0 24 24\"\n",
              "       width=\"24px\">\n",
              "    <path d=\"M0 0h24v24H0V0z\" fill=\"none\"/>\n",
              "    <path d=\"M18.56 5.44l.94 2.06.94-2.06 2.06-.94-2.06-.94-.94-2.06-.94 2.06-2.06.94zm-11 1L8.5 8.5l.94-2.06 2.06-.94-2.06-.94L8.5 2.5l-.94 2.06-2.06.94zm10 10l.94 2.06.94-2.06 2.06-.94-2.06-.94-.94-2.06-.94 2.06-2.06.94z\"/><path d=\"M17.41 7.96l-1.37-1.37c-.4-.4-.92-.59-1.43-.59-.52 0-1.04.2-1.43.59L10.3 9.45l-7.72 7.72c-.78.78-.78 2.05 0 2.83L4 21.41c.39.39.9.59 1.41.59.51 0 1.02-.2 1.41-.59l7.78-7.78 2.81-2.81c.8-.78.8-2.07 0-2.86zM5.41 20L4 18.59l7.72-7.72 1.47 1.35L5.41 20z\"/>\n",
              "  </svg>\n",
              "      </button>\n",
              "      \n",
              "  <style>\n",
              "    .colab-df-container {\n",
              "      display:flex;\n",
              "      flex-wrap:wrap;\n",
              "      gap: 12px;\n",
              "    }\n",
              "\n",
              "    .colab-df-convert {\n",
              "      background-color: #E8F0FE;\n",
              "      border: none;\n",
              "      border-radius: 50%;\n",
              "      cursor: pointer;\n",
              "      display: none;\n",
              "      fill: #1967D2;\n",
              "      height: 32px;\n",
              "      padding: 0 0 0 0;\n",
              "      width: 32px;\n",
              "    }\n",
              "\n",
              "    .colab-df-convert:hover {\n",
              "      background-color: #E2EBFA;\n",
              "      box-shadow: 0px 1px 2px rgba(60, 64, 67, 0.3), 0px 1px 3px 1px rgba(60, 64, 67, 0.15);\n",
              "      fill: #174EA6;\n",
              "    }\n",
              "\n",
              "    [theme=dark] .colab-df-convert {\n",
              "      background-color: #3B4455;\n",
              "      fill: #D2E3FC;\n",
              "    }\n",
              "\n",
              "    [theme=dark] .colab-df-convert:hover {\n",
              "      background-color: #434B5C;\n",
              "      box-shadow: 0px 1px 3px 1px rgba(0, 0, 0, 0.15);\n",
              "      filter: drop-shadow(0px 1px 2px rgba(0, 0, 0, 0.3));\n",
              "      fill: #FFFFFF;\n",
              "    }\n",
              "  </style>\n",
              "\n",
              "      <script>\n",
              "        const buttonEl =\n",
              "          document.querySelector('#df-bc7e5fa0-c051-449f-a3ad-4f272f156319 button.colab-df-convert');\n",
              "        buttonEl.style.display =\n",
              "          google.colab.kernel.accessAllowed ? 'block' : 'none';\n",
              "\n",
              "        async function convertToInteractive(key) {\n",
              "          const element = document.querySelector('#df-bc7e5fa0-c051-449f-a3ad-4f272f156319');\n",
              "          const dataTable =\n",
              "            await google.colab.kernel.invokeFunction('convertToInteractive',\n",
              "                                                     [key], {});\n",
              "          if (!dataTable) return;\n",
              "\n",
              "          const docLinkHtml = 'Like what you see? Visit the ' +\n",
              "            '<a target=\"_blank\" href=https://colab.research.google.com/notebooks/data_table.ipynb>data table notebook</a>'\n",
              "            + ' to learn more about interactive tables.';\n",
              "          element.innerHTML = '';\n",
              "          dataTable['output_type'] = 'display_data';\n",
              "          await google.colab.output.renderOutput(dataTable, element);\n",
              "          const docLink = document.createElement('div');\n",
              "          docLink.innerHTML = docLinkHtml;\n",
              "          element.appendChild(docLink);\n",
              "        }\n",
              "      </script>\n",
              "    </div>\n",
              "  </div>\n",
              "  "
            ]
          },
          "metadata": {},
          "execution_count": 7
        }
      ]
    },
    {
      "cell_type": "code",
      "execution_count": null,
      "metadata": {
        "scrolled": false,
        "id": "YlODWeF6cp2b",
        "outputId": "43d5141e-09bc-4715-e2e4-c9792a63d075",
        "colab": {
          "base_uri": "https://localhost:8080/"
        }
      },
      "outputs": [
        {
          "output_type": "execute_result",
          "data": {
            "text/plain": [
              "51033"
            ]
          },
          "metadata": {},
          "execution_count": 10
        }
      ],
      "source": [
        "len(Labels_DF['species'].value_counts())\n",
        "len(Labels_DF)"
      ]
    },
    {
      "cell_type": "code",
      "execution_count": null,
      "metadata": {
        "id": "wJeIjzXscp2c"
      },
      "outputs": [],
      "source": [
        "#Labels_DF['species'].value_counts()"
      ]
    },
    {
      "cell_type": "markdown",
      "metadata": {
        "id": "h9_bG0pUcp2d"
      },
      "source": [
        "#### Images"
      ]
    },
    {
      "cell_type": "code",
      "execution_count": 12,
      "metadata": {
        "id": "Y0VVce7ocp2e"
      },
      "outputs": [],
      "source": [
        "#retrieve image names\n",
        "image_names=pd.read_csv(\"Image_Names_DF.csv\")"
      ]
    },
    {
      "cell_type": "code",
      "source": [
        "image_names.head(8)"
      ],
      "metadata": {
        "colab": {
          "base_uri": "https://localhost:8080/",
          "height": 300
        },
        "id": "H4_LDSo5WnhA",
        "outputId": "2e7fc209-de80-447e-e537-2978e021e56e"
      },
      "execution_count": 14,
      "outputs": [
        {
          "output_type": "execute_result",
          "data": {
            "text/plain": [
              "   Unnamed: 0                   0\n",
              "0           0  00021adfb725ed.jpg\n",
              "1           1  000562241d384d.jpg\n",
              "2           2  0007c33415ce37.jpg\n",
              "3           3  0007d9bca26a99.jpg\n",
              "4           4  00087baf5cef7a.jpg\n",
              "5           5  000a8f2d5c316a.jpg\n",
              "6           6  000be9acf46619.jpg\n",
              "7           7  000bef247c7a42.jpg"
            ],
            "text/html": [
              "\n",
              "  <div id=\"df-06131b61-fd6d-4a10-bcb8-b1639bd85908\">\n",
              "    <div class=\"colab-df-container\">\n",
              "      <div>\n",
              "<style scoped>\n",
              "    .dataframe tbody tr th:only-of-type {\n",
              "        vertical-align: middle;\n",
              "    }\n",
              "\n",
              "    .dataframe tbody tr th {\n",
              "        vertical-align: top;\n",
              "    }\n",
              "\n",
              "    .dataframe thead th {\n",
              "        text-align: right;\n",
              "    }\n",
              "</style>\n",
              "<table border=\"1\" class=\"dataframe\">\n",
              "  <thead>\n",
              "    <tr style=\"text-align: right;\">\n",
              "      <th></th>\n",
              "      <th>Unnamed: 0</th>\n",
              "      <th>0</th>\n",
              "    </tr>\n",
              "  </thead>\n",
              "  <tbody>\n",
              "    <tr>\n",
              "      <th>0</th>\n",
              "      <td>0</td>\n",
              "      <td>00021adfb725ed.jpg</td>\n",
              "    </tr>\n",
              "    <tr>\n",
              "      <th>1</th>\n",
              "      <td>1</td>\n",
              "      <td>000562241d384d.jpg</td>\n",
              "    </tr>\n",
              "    <tr>\n",
              "      <th>2</th>\n",
              "      <td>2</td>\n",
              "      <td>0007c33415ce37.jpg</td>\n",
              "    </tr>\n",
              "    <tr>\n",
              "      <th>3</th>\n",
              "      <td>3</td>\n",
              "      <td>0007d9bca26a99.jpg</td>\n",
              "    </tr>\n",
              "    <tr>\n",
              "      <th>4</th>\n",
              "      <td>4</td>\n",
              "      <td>00087baf5cef7a.jpg</td>\n",
              "    </tr>\n",
              "    <tr>\n",
              "      <th>5</th>\n",
              "      <td>5</td>\n",
              "      <td>000a8f2d5c316a.jpg</td>\n",
              "    </tr>\n",
              "    <tr>\n",
              "      <th>6</th>\n",
              "      <td>6</td>\n",
              "      <td>000be9acf46619.jpg</td>\n",
              "    </tr>\n",
              "    <tr>\n",
              "      <th>7</th>\n",
              "      <td>7</td>\n",
              "      <td>000bef247c7a42.jpg</td>\n",
              "    </tr>\n",
              "  </tbody>\n",
              "</table>\n",
              "</div>\n",
              "      <button class=\"colab-df-convert\" onclick=\"convertToInteractive('df-06131b61-fd6d-4a10-bcb8-b1639bd85908')\"\n",
              "              title=\"Convert this dataframe to an interactive table.\"\n",
              "              style=\"display:none;\">\n",
              "        \n",
              "  <svg xmlns=\"http://www.w3.org/2000/svg\" height=\"24px\"viewBox=\"0 0 24 24\"\n",
              "       width=\"24px\">\n",
              "    <path d=\"M0 0h24v24H0V0z\" fill=\"none\"/>\n",
              "    <path d=\"M18.56 5.44l.94 2.06.94-2.06 2.06-.94-2.06-.94-.94-2.06-.94 2.06-2.06.94zm-11 1L8.5 8.5l.94-2.06 2.06-.94-2.06-.94L8.5 2.5l-.94 2.06-2.06.94zm10 10l.94 2.06.94-2.06 2.06-.94-2.06-.94-.94-2.06-.94 2.06-2.06.94z\"/><path d=\"M17.41 7.96l-1.37-1.37c-.4-.4-.92-.59-1.43-.59-.52 0-1.04.2-1.43.59L10.3 9.45l-7.72 7.72c-.78.78-.78 2.05 0 2.83L4 21.41c.39.39.9.59 1.41.59.51 0 1.02-.2 1.41-.59l7.78-7.78 2.81-2.81c.8-.78.8-2.07 0-2.86zM5.41 20L4 18.59l7.72-7.72 1.47 1.35L5.41 20z\"/>\n",
              "  </svg>\n",
              "      </button>\n",
              "      \n",
              "  <style>\n",
              "    .colab-df-container {\n",
              "      display:flex;\n",
              "      flex-wrap:wrap;\n",
              "      gap: 12px;\n",
              "    }\n",
              "\n",
              "    .colab-df-convert {\n",
              "      background-color: #E8F0FE;\n",
              "      border: none;\n",
              "      border-radius: 50%;\n",
              "      cursor: pointer;\n",
              "      display: none;\n",
              "      fill: #1967D2;\n",
              "      height: 32px;\n",
              "      padding: 0 0 0 0;\n",
              "      width: 32px;\n",
              "    }\n",
              "\n",
              "    .colab-df-convert:hover {\n",
              "      background-color: #E2EBFA;\n",
              "      box-shadow: 0px 1px 2px rgba(60, 64, 67, 0.3), 0px 1px 3px 1px rgba(60, 64, 67, 0.15);\n",
              "      fill: #174EA6;\n",
              "    }\n",
              "\n",
              "    [theme=dark] .colab-df-convert {\n",
              "      background-color: #3B4455;\n",
              "      fill: #D2E3FC;\n",
              "    }\n",
              "\n",
              "    [theme=dark] .colab-df-convert:hover {\n",
              "      background-color: #434B5C;\n",
              "      box-shadow: 0px 1px 3px 1px rgba(0, 0, 0, 0.15);\n",
              "      filter: drop-shadow(0px 1px 2px rgba(0, 0, 0, 0.3));\n",
              "      fill: #FFFFFF;\n",
              "    }\n",
              "  </style>\n",
              "\n",
              "      <script>\n",
              "        const buttonEl =\n",
              "          document.querySelector('#df-06131b61-fd6d-4a10-bcb8-b1639bd85908 button.colab-df-convert');\n",
              "        buttonEl.style.display =\n",
              "          google.colab.kernel.accessAllowed ? 'block' : 'none';\n",
              "\n",
              "        async function convertToInteractive(key) {\n",
              "          const element = document.querySelector('#df-06131b61-fd6d-4a10-bcb8-b1639bd85908');\n",
              "          const dataTable =\n",
              "            await google.colab.kernel.invokeFunction('convertToInteractive',\n",
              "                                                     [key], {});\n",
              "          if (!dataTable) return;\n",
              "\n",
              "          const docLinkHtml = 'Like what you see? Visit the ' +\n",
              "            '<a target=\"_blank\" href=https://colab.research.google.com/notebooks/data_table.ipynb>data table notebook</a>'\n",
              "            + ' to learn more about interactive tables.';\n",
              "          element.innerHTML = '';\n",
              "          dataTable['output_type'] = 'display_data';\n",
              "          await google.colab.output.renderOutput(dataTable, element);\n",
              "          const docLink = document.createElement('div');\n",
              "          docLink.innerHTML = docLinkHtml;\n",
              "          element.appendChild(docLink);\n",
              "        }\n",
              "      </script>\n",
              "    </div>\n",
              "  </div>\n",
              "  "
            ]
          },
          "metadata": {},
          "execution_count": 14
        }
      ]
    },
    {
      "cell_type": "code",
      "execution_count": null,
      "metadata": {
        "scrolled": false,
        "id": "5ACE8vjCcp2f",
        "outputId": "23fdbe95-adf5-4ced-ecf4-28639bac987c"
      },
      "outputs": [
        {
          "data": {
            "text/plain": [
              "<matplotlib.image.AxesImage at 0x1e99afcbc08>"
            ]
          },
          "execution_count": 14,
          "metadata": {},
          "output_type": "execute_result"
        },
        {
          "data": {
            "image/png": "[encoded data removed]",
            "text/plain": [
              "<Figure size 432x288 with 1 Axes>"
            ]
          },
          "metadata": {
            "needs_background": "light"
          },
          "output_type": "display_data"
        }
      ],
      "source": [
        "plt.imshow(image_list[7])"
      ]
    },
    {
      "cell_type": "code",
      "source": [
        "plt.imshow(FullXArray[7])"
      ],
      "metadata": {
        "colab": {
          "base_uri": "https://localhost:8080/",
          "height": 287
        },
        "id": "9wRsmBSaX0MY",
        "outputId": "17ca2958-ba2c-4b56-cdfe-dc4b3f37546f"
      },
      "execution_count": 18,
      "outputs": [
        {
          "output_type": "execute_result",
          "data": {
            "text/plain": [
              "<matplotlib.image.AxesImage at 0x7f9766e21dd0>"
            ]
          },
          "metadata": {},
          "execution_count": 18
        },
        {
          "output_type": "display_data",
          "data": {
            "text/plain": [
              "<Figure size 432x288 with 1 Axes>"
            ],
            "image/png": "[encoded data removed]"
          },
          "metadata": {
            "needs_background": "light"
          }
        }
      ]
    },
    {
      "cell_type": "code",
      "source": [
        "# Retrieve X Array\n",
        "\n",
        "FullXArray=np.load(\"drive/MyDrive/Full_X_array.npy\")"
      ],
      "metadata": {
        "id": "TZlhfjHVW_fO"
      },
      "execution_count": 17,
      "outputs": []
    },
    {
      "cell_type": "code",
      "execution_count": 19,
      "metadata": {
        "scrolled": true,
        "id": "VHZ6jxU5cp2g",
        "outputId": "9478aa43-1d95-4db0-b815-b5eb6916e654",
        "colab": {
          "base_uri": "https://localhost:8080/"
        }
      },
      "outputs": [
        {
          "output_type": "execute_result",
          "data": {
            "text/plain": [
              "(51033, 51033)"
            ]
          },
          "metadata": {},
          "execution_count": 19
        }
      ],
      "source": [
        "len(FullXArray), len(image_names)"
      ]
    },
    {
      "cell_type": "code",
      "execution_count": 25,
      "metadata": {
        "id": "G_wEPDyjcp2g",
        "outputId": "6fbab4c9-1dad-4050-e50b-7f4e79e339a4",
        "colab": {
          "base_uri": "https://localhost:8080/",
          "height": 36
        }
      },
      "outputs": [
        {
          "output_type": "execute_result",
          "data": {
            "text/plain": [
              "'000bef247c7a42.jpg'"
            ],
            "application/vnd.google.colaboratory.intrinsic+json": {
              "type": "string"
            }
          },
          "metadata": {},
          "execution_count": 25
        }
      ],
      "source": [
        "image_names[\"0\"][7]"
      ]
    },
    {
      "cell_type": "code",
      "source": [
        "imnames=[]\n",
        "for each in image_names[\"0\"]:\n",
        "  imnames.append(each)"
      ],
      "metadata": {
        "id": "9CUpqFt7YtrG"
      },
      "execution_count": 28,
      "outputs": []
    },
    {
      "cell_type": "code",
      "source": [
        "imnames[7]"
      ],
      "metadata": {
        "colab": {
          "base_uri": "https://localhost:8080/",
          "height": 36
        },
        "id": "s3JldoKbY6iK",
        "outputId": "3d08a9e1-3cb3-49f0-f48a-229cde35b305"
      },
      "execution_count": 34,
      "outputs": [
        {
          "output_type": "execute_result",
          "data": {
            "text/plain": [
              "'000bef247c7a42.jpg'"
            ],
            "application/vnd.google.colaboratory.intrinsic+json": {
              "type": "string"
            }
          },
          "metadata": {},
          "execution_count": 34
        }
      ]
    },
    {
      "cell_type": "code",
      "source": [
        "Images=[]\n",
        "for image in FullXArray:\n",
        "  Images.append(image)"
      ],
      "metadata": {
        "id": "LocoVK51afEJ"
      },
      "execution_count": 45,
      "outputs": []
    },
    {
      "cell_type": "code",
      "source": [
        "len(Images)"
      ],
      "metadata": {
        "colab": {
          "base_uri": "https://localhost:8080/"
        },
        "id": "VpbkuSrxavst",
        "outputId": "5eb1e254-82a8-497a-d9ae-d004747f344b"
      },
      "execution_count": 46,
      "outputs": [
        {
          "output_type": "execute_result",
          "data": {
            "text/plain": [
              "51033"
            ]
          },
          "metadata": {},
          "execution_count": 46
        }
      ]
    },
    {
      "cell_type": "code",
      "execution_count": 48,
      "metadata": {
        "id": "UybOB0bAcp2h"
      },
      "outputs": [],
      "source": [
        "Image_DF=pd.DataFrame({\n",
        "    'image': Images,\n",
        "    'file_name': imnames\n",
        "    })"
      ]
    },
    {
      "cell_type": "code",
      "execution_count": 49,
      "metadata": {
        "id": "z3ZjuJS7cp2h",
        "outputId": "b3ffc246-7b77-4ab4-adb0-6466aed1c273",
        "colab": {
          "base_uri": "https://localhost:8080/",
          "height": 300
        }
      },
      "outputs": [
        {
          "output_type": "execute_result",
          "data": {
            "text/plain": [
              "                                               image           file_name\n",
              "0  [[0.592156862745098, 0.5764705882352941, 0.560...  00021adfb725ed.jpg\n",
              "1  [[0.7568627450980392, 0.7647058823529411, 0.74...  000562241d384d.jpg\n",
              "2  [[0.7490196078431373, 0.7568627450980392, 0.74...  0007c33415ce37.jpg\n",
              "3  [[0.7686274509803922, 0.7647058823529411, 0.75...  0007d9bca26a99.jpg\n",
              "4  [[0.3215686274509804, 0.30980392156862746, 0.3...  00087baf5cef7a.jpg\n",
              "5  [[0.6274509803921569, 0.6784313725490196, 0.66...  000a8f2d5c316a.jpg\n",
              "6  [[0.4, 0.40784313725490196, 0.403921568627451,...  000be9acf46619.jpg\n",
              "7  [[0.7411764705882353, 0.7411764705882353, 0.74...  000bef247c7a42.jpg"
            ],
            "text/html": [
              "\n",
              "  <div id=\"df-928d5012-a5b0-4fd7-9e1f-483727755fa1\">\n",
              "    <div class=\"colab-df-container\">\n",
              "      <div>\n",
              "<style scoped>\n",
              "    .dataframe tbody tr th:only-of-type {\n",
              "        vertical-align: middle;\n",
              "    }\n",
              "\n",
              "    .dataframe tbody tr th {\n",
              "        vertical-align: top;\n",
              "    }\n",
              "\n",
              "    .dataframe thead th {\n",
              "        text-align: right;\n",
              "    }\n",
              "</style>\n",
              "<table border=\"1\" class=\"dataframe\">\n",
              "  <thead>\n",
              "    <tr style=\"text-align: right;\">\n",
              "      <th></th>\n",
              "      <th>image</th>\n",
              "      <th>file_name</th>\n",
              "    </tr>\n",
              "  </thead>\n",
              "  <tbody>\n",
              "    <tr>\n",
              "      <th>0</th>\n",
              "      <td>[[0.592156862745098, 0.5764705882352941, 0.560...</td>\n",
              "      <td>00021adfb725ed.jpg</td>\n",
              "    </tr>\n",
              "    <tr>\n",
              "      <th>1</th>\n",
              "      <td>[[0.7568627450980392, 0.7647058823529411, 0.74...</td>\n",
              "      <td>000562241d384d.jpg</td>\n",
              "    </tr>\n",
              "    <tr>\n",
              "      <th>2</th>\n",
              "      <td>[[0.7490196078431373, 0.7568627450980392, 0.74...</td>\n",
              "      <td>0007c33415ce37.jpg</td>\n",
              "    </tr>\n",
              "    <tr>\n",
              "      <th>3</th>\n",
              "      <td>[[0.7686274509803922, 0.7647058823529411, 0.75...</td>\n",
              "      <td>0007d9bca26a99.jpg</td>\n",
              "    </tr>\n",
              "    <tr>\n",
              "      <th>4</th>\n",
              "      <td>[[0.3215686274509804, 0.30980392156862746, 0.3...</td>\n",
              "      <td>00087baf5cef7a.jpg</td>\n",
              "    </tr>\n",
              "    <tr>\n",
              "      <th>5</th>\n",
              "      <td>[[0.6274509803921569, 0.6784313725490196, 0.66...</td>\n",
              "      <td>000a8f2d5c316a.jpg</td>\n",
              "    </tr>\n",
              "    <tr>\n",
              "      <th>6</th>\n",
              "      <td>[[0.4, 0.40784313725490196, 0.403921568627451,...</td>\n",
              "      <td>000be9acf46619.jpg</td>\n",
              "    </tr>\n",
              "    <tr>\n",
              "      <th>7</th>\n",
              "      <td>[[0.7411764705882353, 0.7411764705882353, 0.74...</td>\n",
              "      <td>000bef247c7a42.jpg</td>\n",
              "    </tr>\n",
              "  </tbody>\n",
              "</table>\n",
              "</div>\n",
              "      <button class=\"colab-df-convert\" onclick=\"convertToInteractive('df-928d5012-a5b0-4fd7-9e1f-483727755fa1')\"\n",
              "              title=\"Convert this dataframe to an interactive table.\"\n",
              "              style=\"display:none;\">\n",
              "        \n",
              "  <svg xmlns=\"http://www.w3.org/2000/svg\" height=\"24px\"viewBox=\"0 0 24 24\"\n",
              "       width=\"24px\">\n",
              "    <path d=\"M0 0h24v24H0V0z\" fill=\"none\"/>\n",
              "    <path d=\"M18.56 5.44l.94 2.06.94-2.06 2.06-.94-2.06-.94-.94-2.06-.94 2.06-2.06.94zm-11 1L8.5 8.5l.94-2.06 2.06-.94-2.06-.94L8.5 2.5l-.94 2.06-2.06.94zm10 10l.94 2.06.94-2.06 2.06-.94-2.06-.94-.94-2.06-.94 2.06-2.06.94z\"/><path d=\"M17.41 7.96l-1.37-1.37c-.4-.4-.92-.59-1.43-.59-.52 0-1.04.2-1.43.59L10.3 9.45l-7.72 7.72c-.78.78-.78 2.05 0 2.83L4 21.41c.39.39.9.59 1.41.59.51 0 1.02-.2 1.41-.59l7.78-7.78 2.81-2.81c.8-.78.8-2.07 0-2.86zM5.41 20L4 18.59l7.72-7.72 1.47 1.35L5.41 20z\"/>\n",
              "  </svg>\n",
              "      </button>\n",
              "      \n",
              "  <style>\n",
              "    .colab-df-container {\n",
              "      display:flex;\n",
              "      flex-wrap:wrap;\n",
              "      gap: 12px;\n",
              "    }\n",
              "\n",
              "    .colab-df-convert {\n",
              "      background-color: #E8F0FE;\n",
              "      border: none;\n",
              "      border-radius: 50%;\n",
              "      cursor: pointer;\n",
              "      display: none;\n",
              "      fill: #1967D2;\n",
              "      height: 32px;\n",
              "      padding: 0 0 0 0;\n",
              "      width: 32px;\n",
              "    }\n",
              "\n",
              "    .colab-df-convert:hover {\n",
              "      background-color: #E2EBFA;\n",
              "      box-shadow: 0px 1px 2px rgba(60, 64, 67, 0.3), 0px 1px 3px 1px rgba(60, 64, 67, 0.15);\n",
              "      fill: #174EA6;\n",
              "    }\n",
              "\n",
              "    [theme=dark] .colab-df-convert {\n",
              "      background-color: #3B4455;\n",
              "      fill: #D2E3FC;\n",
              "    }\n",
              "\n",
              "    [theme=dark] .colab-df-convert:hover {\n",
              "      background-color: #434B5C;\n",
              "      box-shadow: 0px 1px 3px 1px rgba(0, 0, 0, 0.15);\n",
              "      filter: drop-shadow(0px 1px 2px rgba(0, 0, 0, 0.3));\n",
              "      fill: #FFFFFF;\n",
              "    }\n",
              "  </style>\n",
              "\n",
              "      <script>\n",
              "        const buttonEl =\n",
              "          document.querySelector('#df-928d5012-a5b0-4fd7-9e1f-483727755fa1 button.colab-df-convert');\n",
              "        buttonEl.style.display =\n",
              "          google.colab.kernel.accessAllowed ? 'block' : 'none';\n",
              "\n",
              "        async function convertToInteractive(key) {\n",
              "          const element = document.querySelector('#df-928d5012-a5b0-4fd7-9e1f-483727755fa1');\n",
              "          const dataTable =\n",
              "            await google.colab.kernel.invokeFunction('convertToInteractive',\n",
              "                                                     [key], {});\n",
              "          if (!dataTable) return;\n",
              "\n",
              "          const docLinkHtml = 'Like what you see? Visit the ' +\n",
              "            '<a target=\"_blank\" href=https://colab.research.google.com/notebooks/data_table.ipynb>data table notebook</a>'\n",
              "            + ' to learn more about interactive tables.';\n",
              "          element.innerHTML = '';\n",
              "          dataTable['output_type'] = 'display_data';\n",
              "          await google.colab.output.renderOutput(dataTable, element);\n",
              "          const docLink = document.createElement('div');\n",
              "          docLink.innerHTML = docLinkHtml;\n",
              "          element.appendChild(docLink);\n",
              "        }\n",
              "      </script>\n",
              "    </div>\n",
              "  </div>\n",
              "  "
            ]
          },
          "metadata": {},
          "execution_count": 49
        }
      ],
      "source": [
        "Image_DF.head(8)"
      ]
    },
    {
      "cell_type": "code",
      "execution_count": 50,
      "metadata": {
        "id": "w9kq7pX3cp2h"
      },
      "outputs": [],
      "source": [
        "## Join Dataframes\n",
        "\n",
        "Big_DF=Image_DF.merge(Labels_DF, how='inner')"
      ]
    },
    {
      "cell_type": "code",
      "execution_count": 52,
      "metadata": {
        "id": "3dtfZ9tccp2h",
        "outputId": "743d1288-ab4a-4a4b-b55f-b1fa4dc1e185",
        "colab": {
          "base_uri": "https://localhost:8080/"
        }
      },
      "outputs": [
        {
          "output_type": "execute_result",
          "data": {
            "text/plain": [
              "41362"
            ]
          },
          "metadata": {},
          "execution_count": 52
        }
      ],
      "source": [
        "len(Big_DF)"
      ]
    },
    {
      "cell_type": "code",
      "execution_count": 51,
      "metadata": {
        "scrolled": false,
        "id": "cRhIyMS6cp2i",
        "outputId": "d09d1bf8-a7b3-4a52-f8f4-021d11c7ad4f",
        "colab": {
          "base_uri": "https://localhost:8080/",
          "height": 206
        }
      },
      "outputs": [
        {
          "output_type": "execute_result",
          "data": {
            "text/plain": [
              "                                                   image           file_name  \\\n",
              "41357  [[0.5294117647058824, 0.5215686274509804, 0.50...  dff96a89c85815.jpg   \n",
              "41358  [[0.3333333333333333, 0.32941176470588235, 0.3...  dffbd2340fb99a.jpg   \n",
              "41359  [[0.9019607843137255, 0.9019607843137255, 0.90...  dffcfafe735907.jpg   \n",
              "41360  [[0.5568627450980392, 0.5490196078431373, 0.55...  dffe20bc14fe42.jpg   \n",
              "41361  [[0.21568627450980393, 0.23137254901960785, 0....  dfff6ac007bd30.jpg   \n",
              "\n",
              "       Unnamed: 0                    species individual_id  category  \\\n",
              "41357       44601  pantropic_spotted_dolphin  193496745768         0   \n",
              "41358       44602               killer_whale  ea1158a38699         1   \n",
              "41359       44603         bottlenose_dolphin  cc0e0b020a90         0   \n",
              "41360       44604                  fin_whale  180c0ab04dcd         1   \n",
              "41361       44605              dusky_dolphin  c0cf89810e76         0   \n",
              "\n",
              "       species_category  \n",
              "41357                18  \n",
              "41358                14  \n",
              "41359                 2  \n",
              "41360                 9  \n",
              "41361                 7  "
            ],
            "text/html": [
              "\n",
              "  <div id=\"df-35133c7f-770f-498b-9412-a9c6c55a575e\">\n",
              "    <div class=\"colab-df-container\">\n",
              "      <div>\n",
              "<style scoped>\n",
              "    .dataframe tbody tr th:only-of-type {\n",
              "        vertical-align: middle;\n",
              "    }\n",
              "\n",
              "    .dataframe tbody tr th {\n",
              "        vertical-align: top;\n",
              "    }\n",
              "\n",
              "    .dataframe thead th {\n",
              "        text-align: right;\n",
              "    }\n",
              "</style>\n",
              "<table border=\"1\" class=\"dataframe\">\n",
              "  <thead>\n",
              "    <tr style=\"text-align: right;\">\n",
              "      <th></th>\n",
              "      <th>image</th>\n",
              "      <th>file_name</th>\n",
              "      <th>Unnamed: 0</th>\n",
              "      <th>species</th>\n",
              "      <th>individual_id</th>\n",
              "      <th>category</th>\n",
              "      <th>species_category</th>\n",
              "    </tr>\n",
              "  </thead>\n",
              "  <tbody>\n",
              "    <tr>\n",
              "      <th>41357</th>\n",
              "      <td>[[0.5294117647058824, 0.5215686274509804, 0.50...</td>\n",
              "      <td>dff96a89c85815.jpg</td>\n",
              "      <td>44601</td>\n",
              "      <td>pantropic_spotted_dolphin</td>\n",
              "      <td>193496745768</td>\n",
              "      <td>0</td>\n",
              "      <td>18</td>\n",
              "    </tr>\n",
              "    <tr>\n",
              "      <th>41358</th>\n",
              "      <td>[[0.3333333333333333, 0.32941176470588235, 0.3...</td>\n",
              "      <td>dffbd2340fb99a.jpg</td>\n",
              "      <td>44602</td>\n",
              "      <td>killer_whale</td>\n",
              "      <td>ea1158a38699</td>\n",
              "      <td>1</td>\n",
              "      <td>14</td>\n",
              "    </tr>\n",
              "    <tr>\n",
              "      <th>41359</th>\n",
              "      <td>[[0.9019607843137255, 0.9019607843137255, 0.90...</td>\n",
              "      <td>dffcfafe735907.jpg</td>\n",
              "      <td>44603</td>\n",
              "      <td>bottlenose_dolphin</td>\n",
              "      <td>cc0e0b020a90</td>\n",
              "      <td>0</td>\n",
              "      <td>2</td>\n",
              "    </tr>\n",
              "    <tr>\n",
              "      <th>41360</th>\n",
              "      <td>[[0.5568627450980392, 0.5490196078431373, 0.55...</td>\n",
              "      <td>dffe20bc14fe42.jpg</td>\n",
              "      <td>44604</td>\n",
              "      <td>fin_whale</td>\n",
              "      <td>180c0ab04dcd</td>\n",
              "      <td>1</td>\n",
              "      <td>9</td>\n",
              "    </tr>\n",
              "    <tr>\n",
              "      <th>41361</th>\n",
              "      <td>[[0.21568627450980393, 0.23137254901960785, 0....</td>\n",
              "      <td>dfff6ac007bd30.jpg</td>\n",
              "      <td>44605</td>\n",
              "      <td>dusky_dolphin</td>\n",
              "      <td>c0cf89810e76</td>\n",
              "      <td>0</td>\n",
              "      <td>7</td>\n",
              "    </tr>\n",
              "  </tbody>\n",
              "</table>\n",
              "</div>\n",
              "      <button class=\"colab-df-convert\" onclick=\"convertToInteractive('df-35133c7f-770f-498b-9412-a9c6c55a575e')\"\n",
              "              title=\"Convert this dataframe to an interactive table.\"\n",
              "              style=\"display:none;\">\n",
              "        \n",
              "  <svg xmlns=\"http://www.w3.org/2000/svg\" height=\"24px\"viewBox=\"0 0 24 24\"\n",
              "       width=\"24px\">\n",
              "    <path d=\"M0 0h24v24H0V0z\" fill=\"none\"/>\n",
              "    <path d=\"M18.56 5.44l.94 2.06.94-2.06 2.06-.94-2.06-.94-.94-2.06-.94 2.06-2.06.94zm-11 1L8.5 8.5l.94-2.06 2.06-.94-2.06-.94L8.5 2.5l-.94 2.06-2.06.94zm10 10l.94 2.06.94-2.06 2.06-.94-2.06-.94-.94-2.06-.94 2.06-2.06.94z\"/><path d=\"M17.41 7.96l-1.37-1.37c-.4-.4-.92-.59-1.43-.59-.52 0-1.04.2-1.43.59L10.3 9.45l-7.72 7.72c-.78.78-.78 2.05 0 2.83L4 21.41c.39.39.9.59 1.41.59.51 0 1.02-.2 1.41-.59l7.78-7.78 2.81-2.81c.8-.78.8-2.07 0-2.86zM5.41 20L4 18.59l7.72-7.72 1.47 1.35L5.41 20z\"/>\n",
              "  </svg>\n",
              "      </button>\n",
              "      \n",
              "  <style>\n",
              "    .colab-df-container {\n",
              "      display:flex;\n",
              "      flex-wrap:wrap;\n",
              "      gap: 12px;\n",
              "    }\n",
              "\n",
              "    .colab-df-convert {\n",
              "      background-color: #E8F0FE;\n",
              "      border: none;\n",
              "      border-radius: 50%;\n",
              "      cursor: pointer;\n",
              "      display: none;\n",
              "      fill: #1967D2;\n",
              "      height: 32px;\n",
              "      padding: 0 0 0 0;\n",
              "      width: 32px;\n",
              "    }\n",
              "\n",
              "    .colab-df-convert:hover {\n",
              "      background-color: #E2EBFA;\n",
              "      box-shadow: 0px 1px 2px rgba(60, 64, 67, 0.3), 0px 1px 3px 1px rgba(60, 64, 67, 0.15);\n",
              "      fill: #174EA6;\n",
              "    }\n",
              "\n",
              "    [theme=dark] .colab-df-convert {\n",
              "      background-color: #3B4455;\n",
              "      fill: #D2E3FC;\n",
              "    }\n",
              "\n",
              "    [theme=dark] .colab-df-convert:hover {\n",
              "      background-color: #434B5C;\n",
              "      box-shadow: 0px 1px 3px 1px rgba(0, 0, 0, 0.15);\n",
              "      filter: drop-shadow(0px 1px 2px rgba(0, 0, 0, 0.3));\n",
              "      fill: #FFFFFF;\n",
              "    }\n",
              "  </style>\n",
              "\n",
              "      <script>\n",
              "        const buttonEl =\n",
              "          document.querySelector('#df-35133c7f-770f-498b-9412-a9c6c55a575e button.colab-df-convert');\n",
              "        buttonEl.style.display =\n",
              "          google.colab.kernel.accessAllowed ? 'block' : 'none';\n",
              "\n",
              "        async function convertToInteractive(key) {\n",
              "          const element = document.querySelector('#df-35133c7f-770f-498b-9412-a9c6c55a575e');\n",
              "          const dataTable =\n",
              "            await google.colab.kernel.invokeFunction('convertToInteractive',\n",
              "                                                     [key], {});\n",
              "          if (!dataTable) return;\n",
              "\n",
              "          const docLinkHtml = 'Like what you see? Visit the ' +\n",
              "            '<a target=\"_blank\" href=https://colab.research.google.com/notebooks/data_table.ipynb>data table notebook</a>'\n",
              "            + ' to learn more about interactive tables.';\n",
              "          element.innerHTML = '';\n",
              "          dataTable['output_type'] = 'display_data';\n",
              "          await google.colab.output.renderOutput(dataTable, element);\n",
              "          const docLink = document.createElement('div');\n",
              "          docLink.innerHTML = docLinkHtml;\n",
              "          element.appendChild(docLink);\n",
              "        }\n",
              "      </script>\n",
              "    </div>\n",
              "  </div>\n",
              "  "
            ]
          },
          "metadata": {},
          "execution_count": 51
        }
      ],
      "source": [
        "#Big_DF=Big_DF[:152]\n",
        "Big_DF.tail(5)"
      ]
    },
    {
      "cell_type": "code",
      "execution_count": 53,
      "metadata": {
        "scrolled": true,
        "id": "fmfSY4jzcp2i",
        "outputId": "18139436-c006-4c9d-e17f-c1f80a58ee9b",
        "colab": {
          "base_uri": "https://localhost:8080/"
        }
      },
      "outputs": [
        {
          "output_type": "execute_result",
          "data": {
            "text/plain": [
              "0"
            ]
          },
          "metadata": {},
          "execution_count": 53
        }
      ],
      "source": [
        "Big_DF['species'].isna().sum()"
      ]
    },
    {
      "cell_type": "code",
      "source": [
        "Big_DF.drop(\"Unnamed: 0\", axis=1, inplace=True)"
      ],
      "metadata": {
        "id": "7jbMjgWEbMdo"
      },
      "execution_count": 55,
      "outputs": []
    },
    {
      "cell_type": "code",
      "source": [
        "Big_DF.head(8)"
      ],
      "metadata": {
        "colab": {
          "base_uri": "https://localhost:8080/",
          "height": 300
        },
        "id": "YHDv5F8wbwv5",
        "outputId": "0cbfda59-2268-490f-b445-b96c390c4918"
      },
      "execution_count": 56,
      "outputs": [
        {
          "output_type": "execute_result",
          "data": {
            "text/plain": [
              "                                               image           file_name  \\\n",
              "0  [[0.592156862745098, 0.5764705882352941, 0.560...  00021adfb725ed.jpg   \n",
              "1  [[0.7568627450980392, 0.7647058823529411, 0.74...  000562241d384d.jpg   \n",
              "2  [[0.7490196078431373, 0.7568627450980392, 0.74...  0007c33415ce37.jpg   \n",
              "3  [[0.7686274509803922, 0.7647058823529411, 0.75...  0007d9bca26a99.jpg   \n",
              "4  [[0.3215686274509804, 0.30980392156862746, 0.3...  00087baf5cef7a.jpg   \n",
              "5  [[0.6274509803921569, 0.6784313725490196, 0.66...  000a8f2d5c316a.jpg   \n",
              "6  [[0.4, 0.40784313725490196, 0.403921568627451,...  000be9acf46619.jpg   \n",
              "7  [[0.7411764705882353, 0.7411764705882353, 0.74...  000bef247c7a42.jpg   \n",
              "\n",
              "              species individual_id  category  species_category  \n",
              "0  melon_headed_whale  cadddb1636b9         1                16  \n",
              "1      humpback_whale  1a71fbb72250         1                13  \n",
              "2  false_killer_whale  60008f293a2b         1                 8  \n",
              "3  bottlenose_dolphin  4b00fe572063         0                 2  \n",
              "4      humpback_whale  8e5253662392         1                13  \n",
              "5  bottlenose_dolphin  b9907151f66e         0                 2  \n",
              "6              beluga  afb9b3978217         1                 0  \n",
              "7      humpback_whale  444d8894ccc8         1                13  "
            ],
            "text/html": [
              "\n",
              "  <div id=\"df-a6870c19-3ad2-4949-af3c-f27f5b12af66\">\n",
              "    <div class=\"colab-df-container\">\n",
              "      <div>\n",
              "<style scoped>\n",
              "    .dataframe tbody tr th:only-of-type {\n",
              "        vertical-align: middle;\n",
              "    }\n",
              "\n",
              "    .dataframe tbody tr th {\n",
              "        vertical-align: top;\n",
              "    }\n",
              "\n",
              "    .dataframe thead th {\n",
              "        text-align: right;\n",
              "    }\n",
              "</style>\n",
              "<table border=\"1\" class=\"dataframe\">\n",
              "  <thead>\n",
              "    <tr style=\"text-align: right;\">\n",
              "      <th></th>\n",
              "      <th>image</th>\n",
              "      <th>file_name</th>\n",
              "      <th>species</th>\n",
              "      <th>individual_id</th>\n",
              "      <th>category</th>\n",
              "      <th>species_category</th>\n",
              "    </tr>\n",
              "  </thead>\n",
              "  <tbody>\n",
              "    <tr>\n",
              "      <th>0</th>\n",
              "      <td>[[0.592156862745098, 0.5764705882352941, 0.560...</td>\n",
              "      <td>00021adfb725ed.jpg</td>\n",
              "      <td>melon_headed_whale</td>\n",
              "      <td>cadddb1636b9</td>\n",
              "      <td>1</td>\n",
              "      <td>16</td>\n",
              "    </tr>\n",
              "    <tr>\n",
              "      <th>1</th>\n",
              "      <td>[[0.7568627450980392, 0.7647058823529411, 0.74...</td>\n",
              "      <td>000562241d384d.jpg</td>\n",
              "      <td>humpback_whale</td>\n",
              "      <td>1a71fbb72250</td>\n",
              "      <td>1</td>\n",
              "      <td>13</td>\n",
              "    </tr>\n",
              "    <tr>\n",
              "      <th>2</th>\n",
              "      <td>[[0.7490196078431373, 0.7568627450980392, 0.74...</td>\n",
              "      <td>0007c33415ce37.jpg</td>\n",
              "      <td>false_killer_whale</td>\n",
              "      <td>60008f293a2b</td>\n",
              "      <td>1</td>\n",
              "      <td>8</td>\n",
              "    </tr>\n",
              "    <tr>\n",
              "      <th>3</th>\n",
              "      <td>[[0.7686274509803922, 0.7647058823529411, 0.75...</td>\n",
              "      <td>0007d9bca26a99.jpg</td>\n",
              "      <td>bottlenose_dolphin</td>\n",
              "      <td>4b00fe572063</td>\n",
              "      <td>0</td>\n",
              "      <td>2</td>\n",
              "    </tr>\n",
              "    <tr>\n",
              "      <th>4</th>\n",
              "      <td>[[0.3215686274509804, 0.30980392156862746, 0.3...</td>\n",
              "      <td>00087baf5cef7a.jpg</td>\n",
              "      <td>humpback_whale</td>\n",
              "      <td>8e5253662392</td>\n",
              "      <td>1</td>\n",
              "      <td>13</td>\n",
              "    </tr>\n",
              "    <tr>\n",
              "      <th>5</th>\n",
              "      <td>[[0.6274509803921569, 0.6784313725490196, 0.66...</td>\n",
              "      <td>000a8f2d5c316a.jpg</td>\n",
              "      <td>bottlenose_dolphin</td>\n",
              "      <td>b9907151f66e</td>\n",
              "      <td>0</td>\n",
              "      <td>2</td>\n",
              "    </tr>\n",
              "    <tr>\n",
              "      <th>6</th>\n",
              "      <td>[[0.4, 0.40784313725490196, 0.403921568627451,...</td>\n",
              "      <td>000be9acf46619.jpg</td>\n",
              "      <td>beluga</td>\n",
              "      <td>afb9b3978217</td>\n",
              "      <td>1</td>\n",
              "      <td>0</td>\n",
              "    </tr>\n",
              "    <tr>\n",
              "      <th>7</th>\n",
              "      <td>[[0.7411764705882353, 0.7411764705882353, 0.74...</td>\n",
              "      <td>000bef247c7a42.jpg</td>\n",
              "      <td>humpback_whale</td>\n",
              "      <td>444d8894ccc8</td>\n",
              "      <td>1</td>\n",
              "      <td>13</td>\n",
              "    </tr>\n",
              "  </tbody>\n",
              "</table>\n",
              "</div>\n",
              "      <button class=\"colab-df-convert\" onclick=\"convertToInteractive('df-a6870c19-3ad2-4949-af3c-f27f5b12af66')\"\n",
              "              title=\"Convert this dataframe to an interactive table.\"\n",
              "              style=\"display:none;\">\n",
              "        \n",
              "  <svg xmlns=\"http://www.w3.org/2000/svg\" height=\"24px\"viewBox=\"0 0 24 24\"\n",
              "       width=\"24px\">\n",
              "    <path d=\"M0 0h24v24H0V0z\" fill=\"none\"/>\n",
              "    <path d=\"M18.56 5.44l.94 2.06.94-2.06 2.06-.94-2.06-.94-.94-2.06-.94 2.06-2.06.94zm-11 1L8.5 8.5l.94-2.06 2.06-.94-2.06-.94L8.5 2.5l-.94 2.06-2.06.94zm10 10l.94 2.06.94-2.06 2.06-.94-2.06-.94-.94-2.06-.94 2.06-2.06.94z\"/><path d=\"M17.41 7.96l-1.37-1.37c-.4-.4-.92-.59-1.43-.59-.52 0-1.04.2-1.43.59L10.3 9.45l-7.72 7.72c-.78.78-.78 2.05 0 2.83L4 21.41c.39.39.9.59 1.41.59.51 0 1.02-.2 1.41-.59l7.78-7.78 2.81-2.81c.8-.78.8-2.07 0-2.86zM5.41 20L4 18.59l7.72-7.72 1.47 1.35L5.41 20z\"/>\n",
              "  </svg>\n",
              "      </button>\n",
              "      \n",
              "  <style>\n",
              "    .colab-df-container {\n",
              "      display:flex;\n",
              "      flex-wrap:wrap;\n",
              "      gap: 12px;\n",
              "    }\n",
              "\n",
              "    .colab-df-convert {\n",
              "      background-color: #E8F0FE;\n",
              "      border: none;\n",
              "      border-radius: 50%;\n",
              "      cursor: pointer;\n",
              "      display: none;\n",
              "      fill: #1967D2;\n",
              "      height: 32px;\n",
              "      padding: 0 0 0 0;\n",
              "      width: 32px;\n",
              "    }\n",
              "\n",
              "    .colab-df-convert:hover {\n",
              "      background-color: #E2EBFA;\n",
              "      box-shadow: 0px 1px 2px rgba(60, 64, 67, 0.3), 0px 1px 3px 1px rgba(60, 64, 67, 0.15);\n",
              "      fill: #174EA6;\n",
              "    }\n",
              "\n",
              "    [theme=dark] .colab-df-convert {\n",
              "      background-color: #3B4455;\n",
              "      fill: #D2E3FC;\n",
              "    }\n",
              "\n",
              "    [theme=dark] .colab-df-convert:hover {\n",
              "      background-color: #434B5C;\n",
              "      box-shadow: 0px 1px 3px 1px rgba(0, 0, 0, 0.15);\n",
              "      filter: drop-shadow(0px 1px 2px rgba(0, 0, 0, 0.3));\n",
              "      fill: #FFFFFF;\n",
              "    }\n",
              "  </style>\n",
              "\n",
              "      <script>\n",
              "        const buttonEl =\n",
              "          document.querySelector('#df-a6870c19-3ad2-4949-af3c-f27f5b12af66 button.colab-df-convert');\n",
              "        buttonEl.style.display =\n",
              "          google.colab.kernel.accessAllowed ? 'block' : 'none';\n",
              "\n",
              "        async function convertToInteractive(key) {\n",
              "          const element = document.querySelector('#df-a6870c19-3ad2-4949-af3c-f27f5b12af66');\n",
              "          const dataTable =\n",
              "            await google.colab.kernel.invokeFunction('convertToInteractive',\n",
              "                                                     [key], {});\n",
              "          if (!dataTable) return;\n",
              "\n",
              "          const docLinkHtml = 'Like what you see? Visit the ' +\n",
              "            '<a target=\"_blank\" href=https://colab.research.google.com/notebooks/data_table.ipynb>data table notebook</a>'\n",
              "            + ' to learn more about interactive tables.';\n",
              "          element.innerHTML = '';\n",
              "          dataTable['output_type'] = 'display_data';\n",
              "          await google.colab.output.renderOutput(dataTable, element);\n",
              "          const docLink = document.createElement('div');\n",
              "          docLink.innerHTML = docLinkHtml;\n",
              "          element.appendChild(docLink);\n",
              "        }\n",
              "      </script>\n",
              "    </div>\n",
              "  </div>\n",
              "  "
            ]
          },
          "metadata": {},
          "execution_count": 56
        }
      ]
    },
    {
      "cell_type": "code",
      "execution_count": 57,
      "metadata": {
        "id": "HPOT1c-wcp2j"
      },
      "outputs": [],
      "source": [
        "## Save Dataframe\n",
        "Big_DF.to_csv(\"drive/MyDrive/Big_DF.csv\")"
      ]
    },
    {
      "cell_type": "code",
      "execution_count": 58,
      "metadata": {
        "id": "jyRN6XYbcp2j",
        "outputId": "aac92f03-5f3e-4aaa-cf9b-1b4975983700",
        "colab": {
          "base_uri": "https://localhost:8080/"
        }
      },
      "outputs": [
        {
          "output_type": "execute_result",
          "data": {
            "text/plain": [
              "-9671"
            ]
          },
          "metadata": {},
          "execution_count": 58
        }
      ],
      "source": [
        "mismatched_images=len(Big_DF)-51033\n",
        "mismatched_images"
      ]
    },
    {
      "cell_type": "markdown",
      "metadata": {
        "id": "LM7ExF0xcp2j"
      },
      "source": [
        "## 9,671 images do not match up with their labeled image name"
      ]
    },
    {
      "cell_type": "code",
      "execution_count": null,
      "metadata": {
        "scrolled": true,
        "id": "4xwoOc6Fcp2j"
      },
      "outputs": [],
      "source": [
        "plt.figure(figsize=(20,5))\n",
        "plt.xticks(rotation=80)\n",
        "Labels_DF['species'].hist(edgecolor='black', bins=28)"
      ]
    },
    {
      "cell_type": "markdown",
      "metadata": {
        "id": "FqUo6mt7cp2k"
      },
      "source": [
        "### Create train/val Dataset"
      ]
    },
    {
      "cell_type": "code",
      "execution_count": null,
      "metadata": {
        "id": "_pZq4E9Bcp2k"
      },
      "outputs": [],
      "source": [
        "from sklearn.model_selection import train_test_split\n",
        "\n",
        "y=Big_DF['category']\n",
        "X=Big_DF['image']"
      ]
    },
    {
      "cell_type": "markdown",
      "metadata": {
        "id": "1Ag1fdNscp2k"
      },
      "source": [
        "### One Hot Encode Labels"
      ]
    },
    {
      "cell_type": "code",
      "execution_count": null,
      "metadata": {
        "scrolled": true,
        "id": "ku9k0ZPTcp2l"
      },
      "outputs": [],
      "source": [
        "# One hot encode labels\n",
        "\n",
        "from keras.utils import to_categorical\n",
        "\n",
        "y_hot=to_categorical(y)\n",
        "\n",
        "y_hot[:6]"
      ]
    },
    {
      "cell_type": "markdown",
      "metadata": {
        "id": "s_2Cvpw6cp2l"
      },
      "source": [
        "### Turn list of X into array of arrays"
      ]
    },
    {
      "cell_type": "code",
      "execution_count": null,
      "metadata": {
        "id": "TuwVzLjvcp2l"
      },
      "outputs": [],
      "source": [
        "X_array=np.array(image_list)"
      ]
    },
    {
      "cell_type": "markdown",
      "metadata": {
        "id": "xV6uA59hcp2m"
      },
      "source": [
        "### Reshape array"
      ]
    },
    {
      "cell_type": "code",
      "execution_count": null,
      "metadata": {
        "scrolled": true,
        "id": "ybRBU3Zwcp2m"
      },
      "outputs": [],
      "source": [
        "X_array=X_array.reshape(-1, 150, 200, 1)\n",
        "X_array.shape"
      ]
    },
    {
      "cell_type": "markdown",
      "metadata": {
        "id": "2w5qjrvEcp2m"
      },
      "source": [
        "### save prepared data"
      ]
    },
    {
      "cell_type": "code",
      "execution_count": null,
      "metadata": {
        "id": "88BiaOuJcp2m"
      },
      "outputs": [],
      "source": [
        "np.save('Sample_X_array', X_array)"
      ]
    },
    {
      "cell_type": "code",
      "execution_count": null,
      "metadata": {
        "id": "y2yKlcsNcp2n"
      },
      "outputs": [],
      "source": [
        "np.save('Sample_Y_array', y_hot)"
      ]
    },
    {
      "cell_type": "markdown",
      "metadata": {
        "id": "EIdVp2Otcp2n"
      },
      "source": [
        "### Training and Validation sets"
      ]
    },
    {
      "cell_type": "code",
      "execution_count": null,
      "metadata": {
        "id": "6an2RLRAcp2o"
      },
      "outputs": [],
      "source": [
        "X_train, X_val, y_train, y_val= train_test_split(X_array,y_hot, train_size=.80, stratify=y)"
      ]
    },
    {
      "cell_type": "code",
      "execution_count": null,
      "metadata": {
        "id": "u_XxOn23cp2o"
      },
      "outputs": [],
      "source": [
        "X_train.shape, y_train.shape"
      ]
    },
    {
      "cell_type": "code",
      "execution_count": null,
      "metadata": {
        "id": "cYV0uXwHcp2o"
      },
      "outputs": [],
      "source": [
        "from tensorflow.keras import layers\n",
        "from keras.models import Sequential,Input,Model\n",
        "from keras.layers import Dense, Dropout, Flatten\n",
        "from keras.layers import Conv2D, MaxPooling2D\n",
        "from keras.layers.normalization import BatchNormalization\n",
        "from keras.layers.advanced_activations import LeakyReLU\n",
        "\n",
        "model = keras.models.Sequential()\n",
        "model.add(Conv2D(32, kernel_size=(3, 3),activation='linear',input_shape=(150,200,1),padding='same'))\n",
        "model.add(LeakyReLU(alpha=0.1))\n",
        "model.add(MaxPooling2D((2, 2),padding='same'))\n",
        "model.add(Conv2D(64, (3, 3), activation='linear',padding='same'))\n",
        "model.add(LeakyReLU(alpha=0.1))\n",
        "model.add(MaxPooling2D(pool_size=(2, 2),padding='same'))\n",
        "model.add(Conv2D(128, (3, 3), activation='linear',padding='same'))\n",
        "model.add(LeakyReLU(alpha=0.1))                  \n",
        "model.add(MaxPooling2D(pool_size=(2, 2),padding='same'))\n",
        "model.add(Flatten())\n",
        "model.add(Dense(30000, activation='linear'))\n",
        "model.add(LeakyReLU(alpha=0.1))                  \n",
        "model.add(Dense(2, activation='softmax'))"
      ]
    },
    {
      "cell_type": "code",
      "execution_count": null,
      "metadata": {
        "id": "dFBTavZPcp2o"
      },
      "outputs": [],
      "source": [
        "model.compile(optimizer='adam', loss='categorical_crossentropy', metrics=['accuracy'])"
      ]
    },
    {
      "cell_type": "code",
      "execution_count": null,
      "metadata": {
        "id": "yPuAdGsgcp2o"
      },
      "outputs": [],
      "source": [
        "model.fit(X_array, y_train,batch_size=30, epochs=5)"
      ]
    },
    {
      "cell_type": "code",
      "execution_count": null,
      "metadata": {
        "id": "RUnAuVYWcp2o"
      },
      "outputs": [],
      "source": [
        ""
      ]
    },
    {
      "cell_type": "markdown",
      "source": [
        "### Images for EfficientNet"
      ],
      "metadata": {
        "id": "8QQYtpZeda-X"
      }
    },
    {
      "cell_type": "code",
      "source": [
        "## Create image extraction and augment function\n",
        "from PIL import ImageOps\n",
        "import cv2\n",
        "\n",
        "\n",
        "def retrieve_augment(path, size=(224,224,3)):\n",
        "    image_list = []\n",
        "    for filename in glob.glob(path):\n",
        "        im=Image.open(filename)\n",
        "        reshaped=ImageOps.fit(im, size, Image.ANTIALIAS)\n",
        "        reshaped_gray=reshaped.convert(mode='L')\n",
        "        array=asarray(reshaped_gray)\n",
        "        norm=array/255\n",
        "        image_list.append(norm)\n",
        "        im.close()\n",
        "    return image_list"
      ],
      "metadata": {
        "id": "fprjHbLgdf9s"
      },
      "execution_count": null,
      "outputs": []
    },
    {
      "cell_type": "code",
      "source": [
        "image_list=retrieve_augment(path='../../Kaggle_Marine_Life/train_images/*.jpg')"
      ],
      "metadata": {
        "id": "vAZB1DAKdgBd"
      },
      "execution_count": null,
      "outputs": []
    },
    {
      "cell_type": "code",
      "source": [
        "image_list"
      ],
      "metadata": {
        "id": "bnhatrHxdgE_",
        "outputId": "2dfe86a9-ecff-498e-f330-e16e5bb55811",
        "colab": {
          "base_uri": "https://localhost:8080/"
        }
      },
      "execution_count": null,
      "outputs": [
        {
          "output_type": "execute_result",
          "data": {
            "text/plain": [
              "[]"
            ]
          },
          "metadata": {},
          "execution_count": 4
        }
      ]
    },
    {
      "cell_type": "markdown",
      "metadata": {
        "id": "CPNhV3JRcp2o"
      },
      "source": [
        "## Separate Dolphins into species of Dolphin"
      ]
    },
    {
      "cell_type": "code",
      "source": [
        ""
      ],
      "metadata": {
        "id": "QcuFTYYUe0yL"
      },
      "execution_count": null,
      "outputs": []
    },
    {
      "cell_type": "code",
      "execution_count": null,
      "metadata": {
        "id": "jezuvrr4cp2p"
      },
      "outputs": [],
      "source": [
        "Dolphins_Species=pd.DataFrame(Labels_DF.loc[Labels_DF['sub_cat']==1])"
      ]
    },
    {
      "cell_type": "code",
      "execution_count": null,
      "metadata": {
        "id": "g-rMBWQvcp2q"
      },
      "outputs": [],
      "source": [
        "Dolphins_Species['species_category'].value_counts()"
      ]
    },
    {
      "cell_type": "markdown",
      "metadata": {
        "id": "1zHkv3Xhcp2r"
      },
      "source": [
        "#### Consider combining categories with low counts for better training when trying to identify individuals"
      ]
    },
    {
      "cell_type": "code",
      "execution_count": null,
      "metadata": {
        "id": "m10NdyoIcp2r"
      },
      "outputs": [],
      "source": [
        "len(Labels_DF['individual_id'].unique())"
      ]
    },
    {
      "cell_type": "markdown",
      "metadata": {
        "id": "KWHQZzPFcp2r"
      },
      "source": [
        "####  15,587 unique individuals in entire data set (dolphins and whales) 51,000 images.  Cannot make individual id files.\n",
        "####  Species category 10 has 13 unique individuals out of 14 instances."
      ]
    },
    {
      "cell_type": "code",
      "execution_count": null,
      "metadata": {
        "id": "FhoQsAgccp2s"
      },
      "outputs": [],
      "source": [
        ""
      ]
    },
    {
      "cell_type": "code",
      "execution_count": null,
      "metadata": {
        "id": "xzW3Y36ocp2s"
      },
      "outputs": [],
      "source": [
        ""
      ]
    }
  ],
  "metadata": {
    "kernelspec": {
      "display_name": "Python 3",
      "language": "python",
      "name": "python3"
    },
    "language_info": {
      "codemirror_mode": {
        "name": "ipython",
        "version": 3
      },
      "file_extension": ".py",
      "mimetype": "text/x-python",
      "name": "python",
      "nbconvert_exporter": "python",
      "pygments_lexer": "ipython3",
      "version": "3.7.6"
    },
    "colab": {
      "name": "DataFrame of all Training Data for CNN.ipynb",
      "provenance": [],
      "machine_shape": "hm",
      "collapsed_sections": [
        "1zHkv3Xhcp2r",
        "KWHQZzPFcp2r"
      ]
    }
  },
  "nbformat": 4,
  "nbformat_minor": 0
}