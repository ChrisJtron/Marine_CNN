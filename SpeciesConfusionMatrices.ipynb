{
  "nbformat": 4,
  "nbformat_minor": 0,
  "metadata": {
    "colab": {
      "name": "SpeciesConfusionMatrices.ipynb",
      "provenance": [],
      "collapsed_sections": [],
      "machine_shape": "hm",
      "mount_file_id": "1qOgqDzWzIkw--RqLx7aVdi9RenVd954l",
      "authorship_tag": "ABX9TyNM9aD1rXtI1YZgNcv0xn09"
    },
    "kernelspec": {
      "name": "python3",
      "display_name": "Python 3"
    },
    "language_info": {
      "name": "python"
    },
    "accelerator": "GPU"
  },
  "cells": [
    {
      "cell_type": "markdown",
      "source": [
        "######What are 2's?  A lot of images get misclassifed as 2's\n",
        "Consider a classifer that recognizes 6,11,15,19,20,21 and groups everything else as other"
      ],
      "metadata": {
        "id": "B7SSXHQ_ycTV"
      }
    },
    {
      "cell_type": "code",
      "execution_count": 1,
      "metadata": {
        "id": "q6bWih1YAPuV"
      },
      "outputs": [],
      "source": [
        "import pandas as pd\n",
        "import numpy as np\n",
        "import matplotlib.pyplot as plt\n",
        "from numpy import asarray\n",
        "import tensorflow as tf\n",
        "from tensorflow import keras"
      ]
    },
    {
      "cell_type": "code",
      "source": [
        "X_train=np.load('drive/MyDrive/X_train_strat.npy')"
      ],
      "metadata": {
        "id": "_9l5fXPcAaRp"
      },
      "execution_count": 2,
      "outputs": []
    },
    {
      "cell_type": "code",
      "source": [
        "y_train=np.load('drive/MyDrive/y_train_strat.npy')"
      ],
      "metadata": {
        "id": "FkE4DxCmAoa9"
      },
      "execution_count": 3,
      "outputs": []
    },
    {
      "cell_type": "code",
      "source": [
        "X_val=np.load('drive/MyDrive/X_val_strat.npy')"
      ],
      "metadata": {
        "id": "X5F9H5uGAonE"
      },
      "execution_count": 4,
      "outputs": []
    },
    {
      "cell_type": "code",
      "source": [
        "y_val=np.load('drive/MyDrive/y_val_strat.npy')"
      ],
      "metadata": {
        "id": "OgzN3nWeAoqZ"
      },
      "execution_count": 5,
      "outputs": []
    },
    {
      "cell_type": "markdown",
      "source": [
        "##### Load model 78%"
      ],
      "metadata": {
        "id": "iRTlCH_fBcl_"
      }
    },
    {
      "cell_type": "code",
      "source": [
        "test=keras.models.load_model('drive/MyDrive/CNN5Conv78Accuracy')"
      ],
      "metadata": {
        "id": "iDWGdZV0AotS"
      },
      "execution_count": 6,
      "outputs": []
    },
    {
      "cell_type": "markdown",
      "source": [
        "##### Make Predictions"
      ],
      "metadata": {
        "id": "WPF9HobPBhkx"
      }
    },
    {
      "cell_type": "code",
      "source": [
        "predict_y=test.predict(X_val)\n",
        "y_preds=np.argmax(predict_y, axis=1)"
      ],
      "metadata": {
        "id": "pe8jIVkQAowu"
      },
      "execution_count": 7,
      "outputs": []
    },
    {
      "cell_type": "code",
      "source": [
        "# Turn one hot array into integers\n",
        "y_val_1d=np.argmax(y_val, axis=1)\n",
        "y_val_1d[2], y_preds[2]"
      ],
      "metadata": {
        "colab": {
          "base_uri": "https://localhost:8080/"
        },
        "id": "MYN62-4NBEtW",
        "outputId": "902bf1bc-cc61-4828-a06d-945dae826813"
      },
      "execution_count": 8,
      "outputs": [
        {
          "output_type": "execute_result",
          "data": {
            "text/plain": [
              "(2, 8)"
            ]
          },
          "metadata": {},
          "execution_count": 8
        }
      ]
    },
    {
      "cell_type": "markdown",
      "source": [
        "##### TensorFlow Confusion Matrix"
      ],
      "metadata": {
        "id": "v8yD9mwaBnup"
      }
    },
    {
      "cell_type": "code",
      "source": [
        "#confusion=tf.math.confusion_matrix(labels=y_val_1d, predictions=y_preds)"
      ],
      "metadata": {
        "id": "HeY4H5nwBEwt"
      },
      "execution_count": 9,
      "outputs": []
    },
    {
      "cell_type": "code",
      "source": [
        "#print(confusion)"
      ],
      "metadata": {
        "id": "0jefJ-GsBE2l"
      },
      "execution_count": null,
      "outputs": []
    },
    {
      "cell_type": "code",
      "source": [
        "#plt.matshow(confusion, cmap=plt.cm.gray)"
      ],
      "metadata": {
        "colab": {
          "base_uri": "https://localhost:8080/",
          "height": 293
        },
        "id": "nliTYvpkBVms",
        "outputId": "492b4d0c-dfbc-4bc3-ac86-71fe3777c7dd"
      },
      "execution_count": 10,
      "outputs": [
        {
          "output_type": "execute_result",
          "data": {
            "text/plain": [
              "<matplotlib.image.AxesImage at 0x7fd488410690>"
            ]
          },
          "metadata": {},
          "execution_count": 10
        },
        {
          "output_type": "display_data",
          "data": {
            "image/png": "[encoded data removed]",
            "text/plain": [
              "<Figure size 288x288 with 1 Axes>"
            ]
          },
          "metadata": {
            "needs_background": "light"
          }
        }
      ]
    },
    {
      "cell_type": "code",
      "source": [
        ""
      ],
      "metadata": {
        "id": "2VFj4H7wHPKi"
      },
      "execution_count": null,
      "outputs": []
    },
    {
      "cell_type": "markdown",
      "source": [
        "##### SKLearn Confusion Matrix"
      ],
      "metadata": {
        "id": "heFBmHHMHPh9"
      }
    },
    {
      "cell_type": "code",
      "source": [
        "from sklearn.metrics import confusion_matrix"
      ],
      "metadata": {
        "id": "3LEigkKzFV0J"
      },
      "execution_count": 20,
      "outputs": []
    },
    {
      "cell_type": "code",
      "source": [
        "skconf=confusion_matrix(y_val_1d, y_preds)\n"
      ],
      "metadata": {
        "id": "e4L_wISyGlAf"
      },
      "execution_count": 6,
      "outputs": []
    },
    {
      "cell_type": "code",
      "source": [
        "plt.matshow(skconf, cmap=plt.cm.gray)"
      ],
      "metadata": {
        "colab": {
          "base_uri": "https://localhost:8080/",
          "height": 293
        },
        "id": "xNB-VTNfGmYZ",
        "outputId": "3b716356-1c4c-4565-ff24-deed3f2d1ee6"
      },
      "execution_count": 23,
      "outputs": [
        {
          "output_type": "execute_result",
          "data": {
            "text/plain": [
              "<matplotlib.image.AxesImage at 0x7fd4294b7690>"
            ]
          },
          "metadata": {},
          "execution_count": 23
        },
        {
          "output_type": "display_data",
          "data": {
            "image/png": "[encoded data removed]",
            "text/plain": [
              "<Figure size 288x288 with 1 Axes>"
            ]
          },
          "metadata": {
            "needs_background": "light"
          }
        }
      ]
    },
    {
      "cell_type": "code",
      "source": [
        "row_sums=skconf.sum(axis=1, keepdims=True)\n",
        "mistake_conf=skconf/row_sums"
      ],
      "metadata": {
        "id": "dP0chAXYGmb0"
      },
      "execution_count": 24,
      "outputs": []
    },
    {
      "cell_type": "code",
      "source": [
        "np.fill_diagonal(mistake_conf, 0)\n",
        "plt.matshow(mistake_conf, cmap=plt.cm.gray)\n",
        "plt.show()\n",
        "\n",
        "## 2's are the most common species and many other species get confused for 2's. many images were misclassified as 2's\n",
        "## there were only 2 10's in the validation set and they were both classified incorrectly, low number of training images for 10's\n",
        "## many images were also misclassified as 13's, which is the 3rd most common species in validation set\n",
        "## 0's are second most common and have a high accuracy rate"
      ],
      "metadata": {
        "colab": {
          "base_uri": "https://localhost:8080/",
          "height": 275
        },
        "id": "6FcYSZ3ZHuQP",
        "outputId": "c9c0ffa4-8ffd-41be-f2fb-e500de9bde87"
      },
      "execution_count": 60,
      "outputs": [
        {
          "output_type": "display_data",
          "data": {
            "image/png": "[encoded data removed]",
            "text/plain": [
              "<Figure size 288x288 with 1 Axes>"
            ]
          },
          "metadata": {
            "needs_background": "light"
          }
        }
      ]
    },
    {
      "cell_type": "code",
      "source": [
        "#### 84% model\n",
        "np.fill_diagonal(mistake_conf, 0)\n",
        "plt.matshow(mistake_conf, cmap=plt.cm.gray)\n",
        "plt.show()"
      ],
      "metadata": {
        "colab": {
          "base_uri": "https://localhost:8080/",
          "height": 275
        },
        "id": "ZGMQ0xtRsOC5",
        "outputId": "9caddbe1-7aa1-4a66-a4f4-a70649498fd7"
      },
      "execution_count": 15,
      "outputs": [
        {
          "output_type": "display_data",
          "data": {
            "image/png": "[encoded data removed]",
            "text/plain": [
              "<Figure size 288x288 with 1 Axes>"
            ]
          },
          "metadata": {
            "needs_background": "light"
          }
        }
      ]
    },
    {
      "cell_type": "markdown",
      "source": [
        "##### Best classified species\n",
        "High Precision(accuracy of positive predictions: 0,1,2,3,7,9,13,14,16,17,23,24,25\n",
        "\n",
        "High False positives(misclassified as): 2,13,16\n",
        "\n",
        "High Missed Positives: 6,11,15,19,20,21"
      ],
      "metadata": {
        "id": "eY-YDxtpsg_t"
      }
    },
    {
      "cell_type": "code",
      "source": [
        "from collections import Counter\n",
        "Counter(y_val_1d.tolist())"
      ],
      "metadata": {
        "colab": {
          "base_uri": "https://localhost:8080/"
        },
        "id": "uhLn91oxIAzb",
        "outputId": "d374937a-04de-453a-9fcf-5757c7d4dbf2"
      },
      "execution_count": 33,
      "outputs": [
        {
          "output_type": "execute_result",
          "data": {
            "text/plain": [
              "Counter({0: 1207,\n",
              "         1: 783,\n",
              "         2: 1740,\n",
              "         3: 25,\n",
              "         4: 15,\n",
              "         5: 57,\n",
              "         6: 53,\n",
              "         7: 512,\n",
              "         8: 547,\n",
              "         9: 213,\n",
              "         10: 2,\n",
              "         11: 19,\n",
              "         12: 184,\n",
              "         13: 1199,\n",
              "         14: 392,\n",
              "         15: 40,\n",
              "         16: 276,\n",
              "         17: 262,\n",
              "         18: 24,\n",
              "         19: 42,\n",
              "         20: 12,\n",
              "         21: 10,\n",
              "         22: 68,\n",
              "         23: 59,\n",
              "         24: 141,\n",
              "         25: 274,\n",
              "         26: 80,\n",
              "         27: 37})"
            ]
          },
          "metadata": {},
          "execution_count": 33
        }
      ]
    },
    {
      "cell_type": "code",
      "source": [
        ""
      ],
      "metadata": {
        "id": "maLl415tJh8z"
      },
      "execution_count": null,
      "outputs": []
    },
    {
      "cell_type": "markdown",
      "source": [
        "#### Load model 84%"
      ],
      "metadata": {
        "id": "jAxr-dwsp63j"
      }
    },
    {
      "cell_type": "code",
      "source": [
        "model84=keras.models.load_model('drive/MyDrive/CNN6Conv5Drop3X3pool_84%ValAcc88%train')"
      ],
      "metadata": {
        "id": "V-mZ9cVeqACB"
      },
      "execution_count": 7,
      "outputs": []
    },
    {
      "cell_type": "markdown",
      "source": [
        "#####Make Predictions"
      ],
      "metadata": {
        "id": "1Bxn4yZSqq4t"
      }
    },
    {
      "cell_type": "code",
      "source": [
        "predict_y=model84.predict(X_val)\n",
        "y_preds=np.argmax(predict_y, axis=1)"
      ],
      "metadata": {
        "id": "QHE96-b2qAFX"
      },
      "execution_count": 9,
      "outputs": []
    },
    {
      "cell_type": "code",
      "source": [
        "# Turn one hot array into integers\n",
        "y_val_1d=np.argmax(y_val, axis=1)\n",
        "y_val_1d[2], y_preds[2]"
      ],
      "metadata": {
        "colab": {
          "base_uri": "https://localhost:8080/"
        },
        "id": "K4kEU6lUqAI-",
        "outputId": "35de1ef0-d8dd-4548-fc87-03d80d942669"
      },
      "execution_count": 10,
      "outputs": [
        {
          "output_type": "execute_result",
          "data": {
            "text/plain": [
              "(2, 2)"
            ]
          },
          "metadata": {},
          "execution_count": 10
        }
      ]
    },
    {
      "cell_type": "markdown",
      "source": [
        "##### SKlearn confusion Matrix"
      ],
      "metadata": {
        "id": "bmPidngFrB0O"
      }
    },
    {
      "cell_type": "code",
      "source": [
        "from sklearn.metrics import confusion_matrix"
      ],
      "metadata": {
        "id": "Y8K2SbqXrCYq"
      },
      "execution_count": 11,
      "outputs": []
    },
    {
      "cell_type": "code",
      "source": [
        "conf84=confusion_matrix(y_val_1d, y_preds)\n"
      ],
      "metadata": {
        "id": "sj6mljPJrNEg"
      },
      "execution_count": 12,
      "outputs": []
    },
    {
      "cell_type": "code",
      "source": [
        "row_sums=conf84.sum(axis=1, keepdims=True)\n",
        "mistake_conf=conf84/row_sums"
      ],
      "metadata": {
        "id": "q3Dw_kiHrU2R"
      },
      "execution_count": 13,
      "outputs": []
    },
    {
      "cell_type": "code",
      "source": [
        "np.fill_diagonal(mistake_conf, 0)\n",
        "plt.matshow(mistake_conf, cmap=plt.cm.gray)\n",
        "plt.show()"
      ],
      "metadata": {
        "colab": {
          "base_uri": "https://localhost:8080/",
          "height": 275
        },
        "id": "Id425DHXrj8A",
        "outputId": "75782c45-c9e1-4b82-fd26-cfb8f61da7b9"
      },
      "execution_count": 14,
      "outputs": [
        {
          "output_type": "display_data",
          "data": {
            "image/png": "[encoded data removed]",
            "text/plain": [
              "<Figure size 288x288 with 1 Axes>"
            ]
          },
          "metadata": {
            "needs_background": "light"
          }
        }
      ]
    },
    {
      "cell_type": "markdown",
      "source": [
        "#### Load other Model 84%"
      ],
      "metadata": {
        "id": "hGJGJTLqzkJX"
      }
    },
    {
      "cell_type": "code",
      "source": [
        "model84_2=keras.models.load_model('drive/MyDrive/CNNSpeciesAcc0.9133val0.8493')"
      ],
      "metadata": {
        "id": "-GZ4oRI4rj_V"
      },
      "execution_count": 16,
      "outputs": []
    },
    {
      "cell_type": "code",
      "source": [
        "predict_y=model84_2.predict(X_val)\n",
        "y_preds=np.argmax(predict_y, axis=1)"
      ],
      "metadata": {
        "id": "-cULYXHMz7kz"
      },
      "execution_count": 17,
      "outputs": []
    },
    {
      "cell_type": "code",
      "source": [
        "# Turn one hot array into integers\n",
        "y_val_1d=np.argmax(y_val, axis=1)\n",
        "y_val_1d[2], y_preds[2]"
      ],
      "metadata": {
        "colab": {
          "base_uri": "https://localhost:8080/"
        },
        "id": "8Jy1Xboyz7vx",
        "outputId": "6b0ec537-bdf3-43e0-abf3-c20eb263c5ba"
      },
      "execution_count": 18,
      "outputs": [
        {
          "output_type": "execute_result",
          "data": {
            "text/plain": [
              "(2, 2)"
            ]
          },
          "metadata": {},
          "execution_count": 18
        }
      ]
    },
    {
      "cell_type": "code",
      "source": [
        "conf84_2=confusion_matrix(y_val_1d, y_preds)"
      ],
      "metadata": {
        "id": "b-Rz8qfEz70U"
      },
      "execution_count": 19,
      "outputs": []
    },
    {
      "cell_type": "code",
      "source": [
        "row_sums=conf84_2.sum(axis=1, keepdims=True)\n",
        "mistake_conf=conf84_2/row_sums"
      ],
      "metadata": {
        "id": "6ZuMIQrFz73L"
      },
      "execution_count": 20,
      "outputs": []
    },
    {
      "cell_type": "code",
      "source": [
        "np.fill_diagonal(mistake_conf, 0)\n",
        "plt.matshow(mistake_conf, cmap=plt.cm.gray)\n",
        "plt.show()"
      ],
      "metadata": {
        "colab": {
          "base_uri": "https://localhost:8080/",
          "height": 275
        },
        "id": "d4-H289vz75z",
        "outputId": "d2ea26c8-da4b-4f7d-cd41-e02cee3218bb"
      },
      "execution_count": 21,
      "outputs": [
        {
          "output_type": "display_data",
          "data": {
            "image/png": "[encoded data removed]",
            "text/plain": [
              "<Figure size 288x288 with 1 Axes>"
            ]
          },
          "metadata": {
            "needs_background": "light"
          }
        }
      ]
    },
    {
      "cell_type": "markdown",
      "source": [
        "### All 3 models appear to be making the same mistakes"
      ],
      "metadata": {
        "id": "4hAmK7SB0fN1"
      }
    },
    {
      "cell_type": "code",
      "source": [
        ""
      ],
      "metadata": {
        "id": "8Ix0Mw0gz79L"
      },
      "execution_count": null,
      "outputs": []
    }
  ]
}