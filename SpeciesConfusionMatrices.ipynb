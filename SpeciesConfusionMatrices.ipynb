{
  "nbformat": 4,
  "nbformat_minor": 0,
  "metadata": {
    "colab": {
      "name": "SpeciesConfusionMatrices.ipynb",
      "provenance": [],
      "collapsed_sections": [],
      "machine_shape": "hm",
      "mount_file_id": "1qOgqDzWzIkw--RqLx7aVdi9RenVd954l",
      "authorship_tag": "ABX9TyM056Pm/zt6Y5/lGXsJZKFt"
    },
    "kernelspec": {
      "name": "python3",
      "display_name": "Python 3"
    },
    "language_info": {
      "name": "python"
    },
    "accelerator": "GPU"
  },
  "cells": [
    {
      "cell_type": "code",
      "execution_count": 1,
      "metadata": {
        "id": "q6bWih1YAPuV"
      },
      "outputs": [],
      "source": [
        "import pandas as pd\n",
        "import numpy as np\n",
        "import matplotlib.pyplot as plt\n",
        "from numpy import asarray\n",
        "import tensorflow as tf\n",
        "from tensorflow import keras"
      ]
    },
    {
      "cell_type": "code",
      "source": [
        "X_train=np.load('drive/MyDrive/X_train_strat.npy')"
      ],
      "metadata": {
        "id": "_9l5fXPcAaRp"
      },
      "execution_count": 2,
      "outputs": []
    },
    {
      "cell_type": "code",
      "source": [
        "y_train=np.load('drive/MyDrive/y_train_strat.npy')"
      ],
      "metadata": {
        "id": "FkE4DxCmAoa9"
      },
      "execution_count": 3,
      "outputs": []
    },
    {
      "cell_type": "code",
      "source": [
        "X_val=np.load('drive/MyDrive/X_val_strat.npy')"
      ],
      "metadata": {
        "id": "X5F9H5uGAonE"
      },
      "execution_count": 4,
      "outputs": []
    },
    {
      "cell_type": "code",
      "source": [
        "y_val=np.load('drive/MyDrive/y_val_strat.npy')"
      ],
      "metadata": {
        "id": "OgzN3nWeAoqZ"
      },
      "execution_count": 5,
      "outputs": []
    },
    {
      "cell_type": "markdown",
      "source": [
        "##### Load model"
      ],
      "metadata": {
        "id": "iRTlCH_fBcl_"
      }
    },
    {
      "cell_type": "code",
      "source": [
        "test=keras.models.load_model('drive/MyDrive/CNN5Conv78Accuracy')"
      ],
      "metadata": {
        "id": "iDWGdZV0AotS"
      },
      "execution_count": 6,
      "outputs": []
    },
    {
      "cell_type": "markdown",
      "source": [
        "##### Make Predictions"
      ],
      "metadata": {
        "id": "WPF9HobPBhkx"
      }
    },
    {
      "cell_type": "code",
      "source": [
        "predict_y=test.predict(X_val)\n",
        "y_preds=np.argmax(predict_y, axis=1)"
      ],
      "metadata": {
        "id": "pe8jIVkQAowu"
      },
      "execution_count": 7,
      "outputs": []
    },
    {
      "cell_type": "code",
      "source": [
        "# Turn one hot array into integers\n",
        "y_val_1d=np.argmax(y_val, axis=1)\n",
        "y_val_1d[2], y_preds[2]"
      ],
      "metadata": {
        "colab": {
          "base_uri": "https://localhost:8080/"
        },
        "id": "MYN62-4NBEtW",
        "outputId": "902bf1bc-cc61-4828-a06d-945dae826813"
      },
      "execution_count": 8,
      "outputs": [
        {
          "output_type": "execute_result",
          "data": {
            "text/plain": [
              "(2, 8)"
            ]
          },
          "metadata": {},
          "execution_count": 8
        }
      ]
    },
    {
      "cell_type": "markdown",
      "source": [
        "##### TensorFlow Confusion Matrix"
      ],
      "metadata": {
        "id": "v8yD9mwaBnup"
      }
    },
    {
      "cell_type": "code",
      "source": [
        "confusion=tf.math.confusion_matrix(labels=y_val_1d, predictions=y_preds)"
      ],
      "metadata": {
        "id": "HeY4H5nwBEwt"
      },
      "execution_count": 9,
      "outputs": []
    },
    {
      "cell_type": "code",
      "source": [
        "print(confusion)"
      ],
      "metadata": {
        "id": "0jefJ-GsBE2l"
      },
      "execution_count": null,
      "outputs": []
    },
    {
      "cell_type": "code",
      "source": [
        "plt.matshow(confusion, cmap=plt.cm.gray)"
      ],
      "metadata": {
        "colab": {
          "base_uri": "https://localhost:8080/",
          "height": 293
        },
        "id": "nliTYvpkBVms",
        "outputId": "492b4d0c-dfbc-4bc3-ac86-71fe3777c7dd"
      },
      "execution_count": 10,
      "outputs": [
        {
          "output_type": "execute_result",
          "data": {
            "text/plain": [
              "<matplotlib.image.AxesImage at 0x7fd488410690>"
            ]
          },
          "metadata": {},
          "execution_count": 10
        },
        {
          "output_type": "display_data",
          "data": {
            "image/png": "[encoded data removed]",
            "text/plain": [
              "<Figure size 288x288 with 1 Axes>"
            ]
          },
          "metadata": {
            "needs_background": "light"
          }
        }
      ]
    },
    {
      "cell_type": "code",
      "source": [
        ""
      ],
      "metadata": {
        "id": "2VFj4H7wHPKi"
      },
      "execution_count": null,
      "outputs": []
    },
    {
      "cell_type": "markdown",
      "source": [
        "##### SKLearn Confusion Matrix"
      ],
      "metadata": {
        "id": "heFBmHHMHPh9"
      }
    },
    {
      "cell_type": "code",
      "source": [
        "from sklearn.metrics import confusion_matrix"
      ],
      "metadata": {
        "id": "3LEigkKzFV0J"
      },
      "execution_count": 20,
      "outputs": []
    },
    {
      "cell_type": "code",
      "source": [
        "skconf=confusion_matrix(y_val_1d, y_preds)\n",
        "skconf"
      ],
      "metadata": {
        "colab": {
          "base_uri": "https://localhost:8080/"
        },
        "id": "e4L_wISyGlAf",
        "outputId": "fa661ba7-f75a-4fbc-82a8-36376c730a8a"
      },
      "execution_count": 57,
      "outputs": [
        {
          "output_type": "execute_result",
          "data": {
            "text/plain": [
              "array([[1151,   17,   12,    0,    0,    0,    0,    0,    0,    0,    0,\n",
              "           0,    4,   17,    0,    0,    0,    0,    0,    0,    0,    0,\n",
              "           0,    0,    3,    2,    0,    1],\n",
              "       [  21,  731,    3,    0,    0,    0,    0,    0,    3,    3,    0,\n",
              "           0,    1,   20,    0,    0,    0,    0,    0,    0,    0,    0,\n",
              "           0,    0,    0,    1,    0,    0],\n",
              "       [  10,    8, 1415,    0,    1,    7,    3,    9,  131,    7,    0,\n",
              "           0,    3,   48,   10,    0,   13,   18,    0,    5,    0,    1,\n",
              "           1,    4,    0,   38,    5,    3],\n",
              "       [   0,    0,    4,   12,    0,    0,    0,    0,    1,    2,    0,\n",
              "           0,    0,    1,    3,    0,    1,    1,    0,    0,    0,    0,\n",
              "           0,    0,    0,    0,    0,    0],\n",
              "       [   0,    0,    0,    0,    7,    0,    0,    0,    3,    0,    0,\n",
              "           0,    0,    4,    0,    0,    0,    0,    0,    1,    0,    0,\n",
              "           0,    0,    0,    0,    0,    0],\n",
              "       [   0,    0,   18,    0,    0,   13,    1,    0,    8,    0,    0,\n",
              "           0,    0,    4,    1,    0,    1,    1,    0,    0,    0,    0,\n",
              "           1,    0,    0,    9,    0,    0],\n",
              "       [   2,    2,   10,    0,    0,    0,   20,    0,    0,    2,    0,\n",
              "           0,    0,    9,    1,    0,    0,    7,    0,    0,    0,    0,\n",
              "           0,    0,    0,    0,    0,    0],\n",
              "       [   0,    0,    7,    0,    0,    0,    0,  495,    5,    0,    0,\n",
              "           0,    0,    0,    0,    0,    4,    0,    0,    0,    0,    0,\n",
              "           0,    0,    0,    1,    0,    0],\n",
              "       [   0,    1,   66,    1,    2,    2,    1,    5,  392,    4,    0,\n",
              "           0,    0,   15,   10,    3,   11,    2,    0,    2,    0,    0,\n",
              "           1,    1,    0,   26,    2,    0],\n",
              "       [   7,   22,   19,    0,    0,    0,    6,    0,    2,   99,    0,\n",
              "           0,    0,   39,    4,    0,    0,   12,    0,    0,    0,    0,\n",
              "           2,    0,    0,    1,    0,    0],\n",
              "       [   0,    0,    0,    0,    0,    0,    0,    0,    0,    0,    0,\n",
              "           0,    0,    0,    0,    0,    1,    0,    0,    0,    0,    0,\n",
              "           0,    0,    0,    1,    0,    0],\n",
              "       [   1,    0,    5,    0,    0,    0,    0,    1,    0,    0,    0,\n",
              "           4,    0,    1,    0,    1,    4,    0,    0,    2,    0,    0,\n",
              "           0,    0,    0,    0,    0,    0],\n",
              "       [  19,    0,   25,    0,    0,    0,    2,    0,    2,    1,    0,\n",
              "           0,   95,   35,    2,    0,    0,    0,    0,    1,    0,    0,\n",
              "           0,    0,    0,    1,    0,    1],\n",
              "       [  46,   25,   45,    0,    0,    0,    9,    1,    5,   13,    0,\n",
              "           2,   12, 1003,    8,    1,    0,   17,    0,    0,    0,    0,\n",
              "           2,    3,    1,    3,    0,    3],\n",
              "       [   2,    0,   41,    0,    0,    0,    3,    0,   30,    4,    0,\n",
              "           0,    1,   14,  275,    0,    1,    7,    0,    0,    0,    0,\n",
              "           0,    0,    0,   12,    1,    1],\n",
              "       [   0,    0,    5,    0,    0,    0,    0,    0,    1,    0,    0,\n",
              "           2,    0,    2,    0,   20,    4,    0,    0,    3,    0,    0,\n",
              "           0,    2,    0,    1,    0,    0],\n",
              "       [   0,    0,   57,    0,    0,    0,    0,   12,   18,    0,    0,\n",
              "           2,    0,    2,    0,    0,  172,    0,    0,    1,    0,    0,\n",
              "           0,    0,    0,   12,    0,    0],\n",
              "       [   7,    1,   31,    1,    0,    1,   13,    0,    3,    9,    0,\n",
              "           0,    0,   26,    6,    0,    0,  159,    0,    0,    0,    0,\n",
              "           0,    0,    0,    1,    0,    4],\n",
              "       [   2,    0,    9,    0,    0,    0,    0,    2,    7,    0,    0,\n",
              "           0,    0,    1,    0,    0,    1,    0,    0,    0,    0,    0,\n",
              "           0,    0,    0,    0,    1,    1],\n",
              "       [   2,    1,    4,    0,    0,    0,    0,    0,    4,    1,    0,\n",
              "           2,    0,    4,    0,    2,    1,    0,    0,   15,    0,    0,\n",
              "           0,    5,    0,    1,    0,    0],\n",
              "       [   0,    0,    3,    0,    0,    0,    0,    1,    1,    0,    0,\n",
              "           0,    0,    1,    0,    0,    3,    0,    0,    1,    0,    1,\n",
              "           0,    0,    0,    1,    0,    0],\n",
              "       [   0,    1,    4,    0,    0,    0,    0,    1,    1,    0,    0,\n",
              "           0,    0,    0,    0,    0,    1,    0,    0,    0,    1,    1,\n",
              "           0,    0,    0,    0,    0,    0],\n",
              "       [   0,    0,    5,    0,    0,    0,    0,    0,    5,    3,    0,\n",
              "           0,    0,    5,    1,    0,    1,    0,    0,    0,    0,    0,\n",
              "          46,    0,    1,    1,    0,    0],\n",
              "       [   0,    0,    3,    0,    0,    0,    0,    0,    0,    0,    0,\n",
              "           1,    0,    2,    0,    0,    0,    0,    0,    2,    0,    0,\n",
              "           0,   49,    0,    2,    0,    0],\n",
              "       [   2,    1,    2,    0,    0,    0,    0,    0,    1,    0,    0,\n",
              "           0,    5,   26,    0,    0,    0,    0,    0,    0,    0,    0,\n",
              "           0,    0,  103,    0,    0,    1],\n",
              "       [   4,    3,   39,    0,    0,    2,    0,    6,   26,    0,    0,\n",
              "           0,    0,    2,    1,    0,    3,    0,    0,    0,    0,    0,\n",
              "           1,    2,    0,  184,    1,    0],\n",
              "       [   0,    1,   12,    0,    0,    2,    0,    0,   20,    0,    0,\n",
              "           1,    1,    3,    2,    0,    1,    0,    1,    0,    0,    0,\n",
              "           0,    0,    0,   20,   16,    0],\n",
              "       [   0,    2,   15,    0,    0,    1,    0,    0,    3,    0,    0,\n",
              "           0,    0,    1,    0,    0,    0,    1,    0,    0,    0,    0,\n",
              "           0,    0,    0,    1,    0,   13]])"
            ]
          },
          "metadata": {},
          "execution_count": 57
        }
      ]
    },
    {
      "cell_type": "code",
      "source": [
        "plt.matshow(skconf, cmap=plt.cm.gray)"
      ],
      "metadata": {
        "colab": {
          "base_uri": "https://localhost:8080/",
          "height": 293
        },
        "id": "xNB-VTNfGmYZ",
        "outputId": "3b716356-1c4c-4565-ff24-deed3f2d1ee6"
      },
      "execution_count": 23,
      "outputs": [
        {
          "output_type": "execute_result",
          "data": {
            "text/plain": [
              "<matplotlib.image.AxesImage at 0x7fd4294b7690>"
            ]
          },
          "metadata": {},
          "execution_count": 23
        },
        {
          "output_type": "display_data",
          "data": {
            "image/png": "[encoded data removed]",
            "text/plain": [
              "<Figure size 288x288 with 1 Axes>"
            ]
          },
          "metadata": {
            "needs_background": "light"
          }
        }
      ]
    },
    {
      "cell_type": "code",
      "source": [
        "row_sums=skconf.sum(axis=1, keepdims=True)\n",
        "mistake_conf=skconf/row_sums"
      ],
      "metadata": {
        "id": "dP0chAXYGmb0"
      },
      "execution_count": 24,
      "outputs": []
    },
    {
      "cell_type": "code",
      "source": [
        "np.fill_diagonal(mistake_conf, 0)\n",
        "plt.matshow(mistake_conf, cmap=plt.cm.gray)\n",
        "plt.show()\n",
        "\n",
        "## 2's are the most common species and many other species get confused for 2's. many images were misclassified as 2's\n",
        "## there were only 2 10's in the validation set and they were both classified incorrectly, low number of training images for 10's\n",
        "## many images were also misclassified as 13's, which is the 3rd most common species in validation set\n",
        "## 0's are second most common and have a high accuracy rate"
      ],
      "metadata": {
        "colab": {
          "base_uri": "https://localhost:8080/",
          "height": 275
        },
        "id": "6FcYSZ3ZHuQP",
        "outputId": "f4331180-8c64-4777-c77d-1d0bec6fd32d"
      },
      "execution_count": 56,
      "outputs": [
        {
          "output_type": "display_data",
          "data": {
            "image/png": "[encoded data removed]",
            "text/plain": [
              "<Figure size 288x288 with 1 Axes>"
            ]
          },
          "metadata": {
            "needs_background": "light"
          }
        }
      ]
    },
    {
      "cell_type": "code",
      "source": [
        "from collections import Counter\n",
        "Counter(y_val_1d.tolist())"
      ],
      "metadata": {
        "colab": {
          "base_uri": "https://localhost:8080/"
        },
        "id": "uhLn91oxIAzb",
        "outputId": "d374937a-04de-453a-9fcf-5757c7d4dbf2"
      },
      "execution_count": 33,
      "outputs": [
        {
          "output_type": "execute_result",
          "data": {
            "text/plain": [
              "Counter({0: 1207,\n",
              "         1: 783,\n",
              "         2: 1740,\n",
              "         3: 25,\n",
              "         4: 15,\n",
              "         5: 57,\n",
              "         6: 53,\n",
              "         7: 512,\n",
              "         8: 547,\n",
              "         9: 213,\n",
              "         10: 2,\n",
              "         11: 19,\n",
              "         12: 184,\n",
              "         13: 1199,\n",
              "         14: 392,\n",
              "         15: 40,\n",
              "         16: 276,\n",
              "         17: 262,\n",
              "         18: 24,\n",
              "         19: 42,\n",
              "         20: 12,\n",
              "         21: 10,\n",
              "         22: 68,\n",
              "         23: 59,\n",
              "         24: 141,\n",
              "         25: 274,\n",
              "         26: 80,\n",
              "         27: 37})"
            ]
          },
          "metadata": {},
          "execution_count": 33
        }
      ]
    },
    {
      "cell_type": "code",
      "source": [
        ""
      ],
      "metadata": {
        "id": "maLl415tJh8z"
      },
      "execution_count": null,
      "outputs": []
    }
  ]
}